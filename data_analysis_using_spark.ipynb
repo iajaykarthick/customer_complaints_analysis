{
 "cells": [
  {
   "cell_type": "code",
   "execution_count": 2,
   "id": "a1fc5bc0",
   "metadata": {},
   "outputs": [],
   "source": [
    "import matplotlib.pyplot as plt"
   ]
  },
  {
   "cell_type": "code",
   "execution_count": 3,
   "id": "6b8d0459",
   "metadata": {},
   "outputs": [],
   "source": [
    "import json\n",
    "import zipfile  \n",
    "import pandas as pd"
   ]
  },
  {
   "cell_type": "code",
   "execution_count": 91,
   "id": "7d90e396",
   "metadata": {},
   "outputs": [],
   "source": [
    "import plotly.express as px"
   ]
  },
  {
   "cell_type": "code",
   "execution_count": 4,
   "id": "49562a26",
   "metadata": {},
   "outputs": [
    {
     "data": {
      "text/html": [
       "<style>pre { white-space: pre !important; }</style>"
      ],
      "text/plain": [
       "<IPython.core.display.HTML object>"
      ]
     },
     "metadata": {},
     "output_type": "display_data"
    }
   ],
   "source": [
    "from IPython.core.display import HTML\n",
    "display(HTML(\"<style>pre { white-space: pre !important; }</style>\"))"
   ]
  },
  {
   "cell_type": "code",
   "execution_count": 6,
   "id": "4e2df9e9",
   "metadata": {},
   "outputs": [],
   "source": [
    "from pyspark.sql import SparkSession"
   ]
  },
  {
   "cell_type": "code",
   "execution_count": 79,
   "id": "6627bd67",
   "metadata": {},
   "outputs": [],
   "source": [
    "metadata= {\"@type\": \"dcat:Dataset\", \n",
    "           \"accessLevel\": \"public\", \n",
    "           \"accrualPeriodicity\": \"R/P1D\", \n",
    "           \"bureauCode\": [\"581:00\"], \n",
    "           \"contactPoint\": {\"@type\": \"vcard:Contact\", \"fn\": \"devops@cfpb.gov\", \"hasEmail\": \"mailto:devops@cfpb.gov\"}, \n",
    "           \"describedBy\": \"https://cfpb.github.io/api/ccdb/api.html\", \n",
    "           \"description\": \"The Consumer Complaint Database is a collection of complaints about consumer financial products and services that we sent to companies for response. Complaints are published after the company responds, confirming a commercial relationship with the consumer, or after 15 days, whichever comes first. Complaints referred to other regulators, such as complaints about depository institutions with less than $10 billion in assets, are not published in the Consumer Complaint Database. The database generally updates daily.\", \"distribution\": [{\"@type\": \"dcat:Distribution\", \"downloadURL\": \"https://files.consumerfinance.gov/ccdb/complaints.csv.zip\", \"mediaType\": \"text/csv\"}, {\"@type\": \"dcat:Distribution\", \"downloadURL\": \"https://files.consumerfinance.gov/ccdb/complaints.json.zip\", \"mediaType\": \"application/json\"}, {\"@type\": \"dcat:Distribution\", \"accessURL\": \"https://www.consumerfinance.gov/data-research/consumer-complaints/search/api/v1/\", \"format\": \"API\"}], \"identifier\": \"CCDB\", \"keyword\": [\"consumer\", \"finance\", \"complaint\", \"bank account\", \"bank service\", \"credit card\", \"credit report\", \"debt collection\", \"money transfer\", \"mortgage\", \"student loan\", \"loan\"], \"landingPage\": \"https://www.consumerfinance.gov/data-research/consumer-complaints/\", \"modified\": \"2020-06-29\", \"programCode\": [\"000:000\"], \"publisher\": {\"@type\": \"org:Organization\", \"name\": \"Consumer Financial Protection Bureau\"}, \"spatial\": \"United States\", \"title\": \"Consumer Complaint Database\"}"
   ]
  },
  {
   "cell_type": "code",
   "execution_count": 80,
   "id": "e6b0a90d",
   "metadata": {},
   "outputs": [
    {
     "data": {
      "text/plain": [
       "{'@type': 'dcat:Dataset',\n",
       " 'accessLevel': 'public',\n",
       " 'accrualPeriodicity': 'R/P1D',\n",
       " 'bureauCode': ['581:00'],\n",
       " 'contactPoint': {'@type': 'vcard:Contact',\n",
       "  'fn': 'devops@cfpb.gov',\n",
       "  'hasEmail': 'mailto:devops@cfpb.gov'},\n",
       " 'describedBy': 'https://cfpb.github.io/api/ccdb/api.html',\n",
       " 'description': 'The Consumer Complaint Database is a collection of complaints about consumer financial products and services that we sent to companies for response. Complaints are published after the company responds, confirming a commercial relationship with the consumer, or after 15 days, whichever comes first. Complaints referred to other regulators, such as complaints about depository institutions with less than $10 billion in assets, are not published in the Consumer Complaint Database. The database generally updates daily.',\n",
       " 'distribution': [{'@type': 'dcat:Distribution',\n",
       "   'downloadURL': 'https://files.consumerfinance.gov/ccdb/complaints.csv.zip',\n",
       "   'mediaType': 'text/csv'},\n",
       "  {'@type': 'dcat:Distribution',\n",
       "   'downloadURL': 'https://files.consumerfinance.gov/ccdb/complaints.json.zip',\n",
       "   'mediaType': 'application/json'},\n",
       "  {'@type': 'dcat:Distribution',\n",
       "   'accessURL': 'https://www.consumerfinance.gov/data-research/consumer-complaints/search/api/v1/',\n",
       "   'format': 'API'}],\n",
       " 'identifier': 'CCDB',\n",
       " 'keyword': ['consumer',\n",
       "  'finance',\n",
       "  'complaint',\n",
       "  'bank account',\n",
       "  'bank service',\n",
       "  'credit card',\n",
       "  'credit report',\n",
       "  'debt collection',\n",
       "  'money transfer',\n",
       "  'mortgage',\n",
       "  'student loan',\n",
       "  'loan'],\n",
       " 'landingPage': 'https://www.consumerfinance.gov/data-research/consumer-complaints/',\n",
       " 'modified': '2020-06-29',\n",
       " 'programCode': ['000:000'],\n",
       " 'publisher': {'@type': 'org:Organization',\n",
       "  'name': 'Consumer Financial Protection Bureau'},\n",
       " 'spatial': 'United States',\n",
       " 'title': 'Consumer Complaint Database'}"
      ]
     },
     "execution_count": 80,
     "metadata": {},
     "output_type": "execute_result"
    }
   ],
   "source": [
    "metadata"
   ]
  },
  {
   "cell_type": "code",
   "execution_count": 12,
   "id": "828192cf",
   "metadata": {},
   "outputs": [
    {
     "name": "stdout",
     "output_type": "stream",
     "text": [
      "22/12/07 07:19:17 WARN SparkSession: Using an existing Spark session; only runtime SQL configurations will take effect.\n"
     ]
    }
   ],
   "source": [
    "spark = SparkSession.builder.master(\"local[4]\") \\\n",
    "                    .appName('complaints_analysis') \\\n",
    "                    .config(\"spark.driver.memory\", \"15g\") \\\n",
    "                    .getOrCreate()"
   ]
  },
  {
   "cell_type": "code",
   "execution_count": 21,
   "id": "505d92f5",
   "metadata": {},
   "outputs": [],
   "source": [
    "# data = None  \n",
    "# with zipfile.ZipFile(\"data/complaints.json.zip\", \"r\") as z:\n",
    "#     for filename in z.namelist():  \n",
    "#         print(filename)\n",
    "#         with z.open(filename) as f:  \n",
    "#             data = f.read()\n",
    "#             complaints_df = spark.read.json('data/' + filename, multiLine=True) #json.loads(data.decode(\"utf-8\"))"
   ]
  },
  {
   "cell_type": "markdown",
   "id": "11f991ec",
   "metadata": {},
   "source": [
    "https://files.consumerfinance.gov/ccdb/complaints.json.zip"
   ]
  },
  {
   "cell_type": "code",
   "execution_count": 17,
   "id": "522dcff2",
   "metadata": {},
   "outputs": [
    {
     "name": "stderr",
     "output_type": "stream",
     "text": [
      "                                                                                \r"
     ]
    }
   ],
   "source": [
    "complaints_df = spark.read.json('data/complaints.json.gz', multiLine=True)"
   ]
  },
  {
   "cell_type": "code",
   "execution_count": 23,
   "id": "447e481b",
   "metadata": {},
   "outputs": [
    {
     "name": "stderr",
     "output_type": "stream",
     "text": [
      "\r",
      "[Stage 9:>                                                          (0 + 1) / 1]\r"
     ]
    },
    {
     "name": "stdout",
     "output_type": "stream",
     "text": [
      "+--------------------+-----------------------+--------------------+------------+-----------------------+-------------------------+-----------------+-------------+--------------------+--------------------+--------------------+-----+--------------------+----------------+-------------+-------------+------+--------+\n",
      "|             company|company_public_response|    company_response|complaint_id|complaint_what_happened|consumer_consent_provided|consumer_disputed|date_received|date_sent_to_company|               issue|             product|state|           sub_issue|     sub_product|submitted_via|         tags|timely|zip_code|\n",
      "+--------------------+-----------------------+--------------------+------------+-----------------------+-------------------------+-----------------+-------------+--------------------+--------------------+--------------------+-----+--------------------+----------------+-------------+-------------+------+--------+\n",
      "|Experian Informat...|   Company has respo...|Closed with non-m...|     6227407|   The unverified ac...|         Consent provided|              N/A|   2022-11-22|          2022-11-22|Incorrect informa...|Credit reporting,...|   FL|Information belon...|Credit reporting|          Web|             |   Yes|   32839|\n",
      "|       EQUIFAX, INC.|                       |         In progress|     6254497|                       |                         |              N/A|   2022-11-29|          2022-11-29|Problem with a cr...|Credit reporting,...|   CA|Investigation too...|Credit reporting|          Web|             |   Yes|   90045|\n",
      "|Valley Collection...|   Company believes ...|Closed with expla...|     6250329|                       |                    Other|              N/A|   2022-11-29|          2022-11-29|Attempts to colle...|     Debt collection|   AZ|   Debt is not yours|    Medical debt|          Web|             |   Yes|   85234|\n",
      "|       EQUIFAX, INC.|                       |         In progress|     6254320|                       |                         |              N/A|   2022-11-29|          2022-11-29|Incorrect informa...|Credit reporting,...|   GA|Information belon...|Credit reporting|          Web|             |   Yes|   30097|\n",
      "|      CITIBANK, N.A.|   Company has respo...|Closed with expla...|     6251994|                       |     Consent not provided|              N/A|   2022-11-28|          2022-11-28|Communication tac...|     Debt collection|   GA|Frequent or repea...|Credit card debt|          Web|             |   Yes|   30315|\n",
      "|Viking Client Ser...|                       |Closed with expla...|     6249435|                       |                    Other|              N/A|   2022-11-25|          2022-11-25|Threatened to con...|     Debt collection|   FL|Talked to a third...|   I do not know|          Web|             |   Yes|   33025|\n",
      "|Experian Informat...|   Company has respo...|Closed with expla...|     6240644|                       |     Consent not provided|              N/A|   2022-11-25|          2022-11-25|Improper use of y...|Credit reporting,...|   AL|Reporting company...|Credit reporting|          Web|             |   Yes|   35802|\n",
      "|Experian Informat...|   Company has respo...|Closed with expla...|     6240781|                       |                    Other|              N/A|   2022-11-25|          2022-11-25|Incorrect informa...|Credit reporting,...|   MS|Information belon...|Credit reporting|          Web|             |   Yes|   39735|\n",
      "|Experian Informat...|                       |         In progress|     6241534|                       |                         |              N/A|   2022-11-24|          2022-11-24|Improper use of y...|Credit reporting,...|   TX|Reporting company...|Credit reporting|          Web|             |   Yes|   75056|\n",
      "|HYUNDAI CAPITAL A...|   Company has respo...|Closed with expla...|     6241749|                       |     Consent not provided|              N/A|   2022-11-24|          2022-11-24|Problems at the e...|Vehicle loan or l...|   FL|Unable to receive...|            Loan|          Web|Servicemember|   Yes|   33130|\n",
      "|NCB Management Se...|                       |Closed with expla...|     6128313|                       |                         |              N/A|   2022-10-25|          2022-10-25|Attempts to colle...|     Debt collection|   LA|   Debt is not yours|   I do not know|          Web|             |   Yes|   70817|\n",
      "|JPMORGAN CHASE & CO.|                       |Closed with expla...|     6206946|                       |                         |              N/A|   2022-11-15|          2022-11-15|Problem with a le...|Checking or savin...|   NY|Transaction was n...|Checking account|          Web|             |   Yes|   10027|\n",
      "|       EQUIFAX, INC.|                       |         In progress|     6257631|                       |                         |              N/A|   2022-11-29|          2022-11-29|Problem with a cr...|Credit reporting,...|   OH|Their investigati...|Credit reporting|          Web|             |   Yes|   45251|\n",
      "|       EQUIFAX, INC.|                       |         In progress|     6256727|                       |                    Other|              N/A|   2022-11-29|          2022-11-29|Incorrect informa...|Credit reporting,...|   IL|Information belon...|Credit reporting|          Web|             |   Yes|   60429|\n",
      "|FirstPoint Collec...|                       |Closed with expla...|     6205781|                       |                         |              N/A|   2022-11-16|          2022-11-16|Attempts to colle...|     Debt collection|   NC|   Debt is not yours|    Medical debt|          Web|             |    No|   27406|\n",
      "|       EQUIFAX, INC.|                       |         In progress|     6254379|                       |                         |              N/A|   2022-11-29|          2022-11-29|Problem with a cr...|Credit reporting,...|   PA|Their investigati...|Credit reporting|          Web|             |   Yes|   19462|\n",
      "|       EQUIFAX, INC.|                       |         In progress|     6254402|                       |                         |              N/A|   2022-11-29|          2022-11-29|Problem with a cr...|Credit reporting,...|   TX|Investigation too...|Credit reporting|          Web|             |   Yes|   75801|\n",
      "|       EQUIFAX, INC.|                       |         In progress|     6254475|                       |                         |              N/A|   2022-11-29|          2022-11-29|Incorrect informa...|Credit reporting,...|   FL|Information belon...|Credit reporting|          Web|             |   Yes|   32818|\n",
      "|       EQUIFAX, INC.|                       |         In progress|     6254486|                       |                         |              N/A|   2022-11-29|          2022-11-29|Improper use of y...|Credit reporting,...|   MI|Reporting company...|Credit reporting|          Web|             |   Yes|   48125|\n",
      "|HCFS Health Care ...|                       |         In progress|     6242110|                       |                    Other|              N/A|   2022-11-24|          2022-11-24|Attempts to colle...|     Debt collection|   OH|   Debt is not yours|    Medical debt|          Web|Servicemember|   Yes|   43123|\n",
      "+--------------------+-----------------------+--------------------+------------+-----------------------+-------------------------+-----------------+-------------+--------------------+--------------------+--------------------+-----+--------------------+----------------+-------------+-------------+------+--------+\n",
      "only showing top 20 rows\n",
      "\n"
     ]
    },
    {
     "name": "stderr",
     "output_type": "stream",
     "text": [
      "\r",
      "                                                                                \r"
     ]
    }
   ],
   "source": [
    "complaints_df.show()"
   ]
  },
  {
   "cell_type": "code",
   "execution_count": 22,
   "id": "49ebbe88",
   "metadata": {},
   "outputs": [
    {
     "name": "stderr",
     "output_type": "stream",
     "text": [
      "\r",
      "[Stage 6:>                                                          (0 + 1) / 1]\r"
     ]
    },
    {
     "name": "stdout",
     "output_type": "stream",
     "text": [
      "The number of complaints in dataset is 3127776\n",
      "The number of features in dataset is 18\n"
     ]
    },
    {
     "name": "stderr",
     "output_type": "stream",
     "text": [
      "\r",
      "                                                                                \r"
     ]
    }
   ],
   "source": [
    "print(f'The number of complaints in dataset is {complaints_df.count()}')\n",
    "print(f'The number of features in dataset is {len(complaints_df.columns)}')"
   ]
  },
  {
   "cell_type": "code",
   "execution_count": 65,
   "id": "a4738da5",
   "metadata": {},
   "outputs": [
    {
     "name": "stderr",
     "output_type": "stream",
     "text": [
      "\r",
      "[Stage 131:>                                                        (0 + 1) / 1]\r"
     ]
    },
    {
     "name": "stdout",
     "output_type": "stream",
     "text": [
      "The number of unique complaints in dataset is 3127776\n"
     ]
    },
    {
     "name": "stderr",
     "output_type": "stream",
     "text": [
      "\r",
      "                                                                                \r"
     ]
    }
   ],
   "source": [
    "print(f\"The number of unique complaints in dataset is {complaints_df.select(countDistinct('complaint_id')).collect()[0][0]}\")"
   ]
  },
  {
   "cell_type": "markdown",
   "id": "57c382bb",
   "metadata": {},
   "source": [
    "There are no duplicate complaints in the dataset"
   ]
  },
  {
   "cell_type": "code",
   "execution_count": 24,
   "id": "688c5c24",
   "metadata": {},
   "outputs": [
    {
     "name": "stdout",
     "output_type": "stream",
     "text": [
      "root\n",
      " |-- company: string (nullable = true)\n",
      " |-- company_public_response: string (nullable = true)\n",
      " |-- company_response: string (nullable = true)\n",
      " |-- complaint_id: string (nullable = true)\n",
      " |-- complaint_what_happened: string (nullable = true)\n",
      " |-- consumer_consent_provided: string (nullable = true)\n",
      " |-- consumer_disputed: string (nullable = true)\n",
      " |-- date_received: string (nullable = true)\n",
      " |-- date_sent_to_company: string (nullable = true)\n",
      " |-- issue: string (nullable = true)\n",
      " |-- product: string (nullable = true)\n",
      " |-- state: string (nullable = true)\n",
      " |-- sub_issue: string (nullable = true)\n",
      " |-- sub_product: string (nullable = true)\n",
      " |-- submitted_via: string (nullable = true)\n",
      " |-- tags: string (nullable = true)\n",
      " |-- timely: string (nullable = true)\n",
      " |-- zip_code: string (nullable = true)\n",
      "\n"
     ]
    }
   ],
   "source": [
    "complaints_df.printSchema()"
   ]
  },
  {
   "cell_type": "markdown",
   "id": "c3ead2c3",
   "metadata": {},
   "source": [
    "Dataset has two date columns but they are in string format. I will convert them to datetime data type"
   ]
  },
  {
   "cell_type": "code",
   "execution_count": 25,
   "id": "8c89ea3a",
   "metadata": {},
   "outputs": [],
   "source": [
    "from pyspark.sql.functions import col, to_date, min, max, countDistinct, count, desc, year"
   ]
  },
  {
   "cell_type": "code",
   "execution_count": 26,
   "id": "1b4c8445",
   "metadata": {},
   "outputs": [
    {
     "name": "stderr",
     "output_type": "stream",
     "text": [
      "\r",
      "[Stage 10:>                                                         (0 + 1) / 1]\r"
     ]
    },
    {
     "name": "stdout",
     "output_type": "stream",
     "text": [
      "+--------------------+-----------------------+--------------------+------------+-----------------------+-------------------------+-----------------+-------------+--------------------+--------------------+--------------------+-----+--------------------+----------------+-------------+-------------+------+--------+\n",
      "|             company|company_public_response|    company_response|complaint_id|complaint_what_happened|consumer_consent_provided|consumer_disputed|date_received|date_sent_to_company|               issue|             product|state|           sub_issue|     sub_product|submitted_via|         tags|timely|zip_code|\n",
      "+--------------------+-----------------------+--------------------+------------+-----------------------+-------------------------+-----------------+-------------+--------------------+--------------------+--------------------+-----+--------------------+----------------+-------------+-------------+------+--------+\n",
      "|Experian Informat...|   Company has respo...|Closed with non-m...|     6227407|   The unverified ac...|         Consent provided|              N/A|   2022-11-22|          2022-11-22|Incorrect informa...|Credit reporting,...|   FL|Information belon...|Credit reporting|          Web|             |   Yes|   32839|\n",
      "|       EQUIFAX, INC.|                       |         In progress|     6254497|                       |                         |              N/A|   2022-11-29|          2022-11-29|Problem with a cr...|Credit reporting,...|   CA|Investigation too...|Credit reporting|          Web|             |   Yes|   90045|\n",
      "|Valley Collection...|   Company believes ...|Closed with expla...|     6250329|                       |                    Other|              N/A|   2022-11-29|          2022-11-29|Attempts to colle...|     Debt collection|   AZ|   Debt is not yours|    Medical debt|          Web|             |   Yes|   85234|\n",
      "|       EQUIFAX, INC.|                       |         In progress|     6254320|                       |                         |              N/A|   2022-11-29|          2022-11-29|Incorrect informa...|Credit reporting,...|   GA|Information belon...|Credit reporting|          Web|             |   Yes|   30097|\n",
      "|      CITIBANK, N.A.|   Company has respo...|Closed with expla...|     6251994|                       |     Consent not provided|              N/A|   2022-11-28|          2022-11-28|Communication tac...|     Debt collection|   GA|Frequent or repea...|Credit card debt|          Web|             |   Yes|   30315|\n",
      "|Viking Client Ser...|                       |Closed with expla...|     6249435|                       |                    Other|              N/A|   2022-11-25|          2022-11-25|Threatened to con...|     Debt collection|   FL|Talked to a third...|   I do not know|          Web|             |   Yes|   33025|\n",
      "|Experian Informat...|   Company has respo...|Closed with expla...|     6240644|                       |     Consent not provided|              N/A|   2022-11-25|          2022-11-25|Improper use of y...|Credit reporting,...|   AL|Reporting company...|Credit reporting|          Web|             |   Yes|   35802|\n",
      "|Experian Informat...|   Company has respo...|Closed with expla...|     6240781|                       |                    Other|              N/A|   2022-11-25|          2022-11-25|Incorrect informa...|Credit reporting,...|   MS|Information belon...|Credit reporting|          Web|             |   Yes|   39735|\n",
      "|Experian Informat...|                       |         In progress|     6241534|                       |                         |              N/A|   2022-11-24|          2022-11-24|Improper use of y...|Credit reporting,...|   TX|Reporting company...|Credit reporting|          Web|             |   Yes|   75056|\n",
      "|HYUNDAI CAPITAL A...|   Company has respo...|Closed with expla...|     6241749|                       |     Consent not provided|              N/A|   2022-11-24|          2022-11-24|Problems at the e...|Vehicle loan or l...|   FL|Unable to receive...|            Loan|          Web|Servicemember|   Yes|   33130|\n",
      "|NCB Management Se...|                       |Closed with expla...|     6128313|                       |                         |              N/A|   2022-10-25|          2022-10-25|Attempts to colle...|     Debt collection|   LA|   Debt is not yours|   I do not know|          Web|             |   Yes|   70817|\n",
      "|JPMORGAN CHASE & CO.|                       |Closed with expla...|     6206946|                       |                         |              N/A|   2022-11-15|          2022-11-15|Problem with a le...|Checking or savin...|   NY|Transaction was n...|Checking account|          Web|             |   Yes|   10027|\n",
      "|       EQUIFAX, INC.|                       |         In progress|     6257631|                       |                         |              N/A|   2022-11-29|          2022-11-29|Problem with a cr...|Credit reporting,...|   OH|Their investigati...|Credit reporting|          Web|             |   Yes|   45251|\n",
      "|       EQUIFAX, INC.|                       |         In progress|     6256727|                       |                    Other|              N/A|   2022-11-29|          2022-11-29|Incorrect informa...|Credit reporting,...|   IL|Information belon...|Credit reporting|          Web|             |   Yes|   60429|\n",
      "|FirstPoint Collec...|                       |Closed with expla...|     6205781|                       |                         |              N/A|   2022-11-16|          2022-11-16|Attempts to colle...|     Debt collection|   NC|   Debt is not yours|    Medical debt|          Web|             |    No|   27406|\n",
      "|       EQUIFAX, INC.|                       |         In progress|     6254379|                       |                         |              N/A|   2022-11-29|          2022-11-29|Problem with a cr...|Credit reporting,...|   PA|Their investigati...|Credit reporting|          Web|             |   Yes|   19462|\n",
      "|       EQUIFAX, INC.|                       |         In progress|     6254402|                       |                         |              N/A|   2022-11-29|          2022-11-29|Problem with a cr...|Credit reporting,...|   TX|Investigation too...|Credit reporting|          Web|             |   Yes|   75801|\n",
      "|       EQUIFAX, INC.|                       |         In progress|     6254475|                       |                         |              N/A|   2022-11-29|          2022-11-29|Incorrect informa...|Credit reporting,...|   FL|Information belon...|Credit reporting|          Web|             |   Yes|   32818|\n",
      "|       EQUIFAX, INC.|                       |         In progress|     6254486|                       |                         |              N/A|   2022-11-29|          2022-11-29|Improper use of y...|Credit reporting,...|   MI|Reporting company...|Credit reporting|          Web|             |   Yes|   48125|\n",
      "|HCFS Health Care ...|                       |         In progress|     6242110|                       |                    Other|              N/A|   2022-11-24|          2022-11-24|Attempts to colle...|     Debt collection|   OH|   Debt is not yours|    Medical debt|          Web|Servicemember|   Yes|   43123|\n",
      "+--------------------+-----------------------+--------------------+------------+-----------------------+-------------------------+-----------------+-------------+--------------------+--------------------+--------------------+-----+--------------------+----------------+-------------+-------------+------+--------+\n",
      "only showing top 20 rows\n",
      "\n"
     ]
    },
    {
     "name": "stderr",
     "output_type": "stream",
     "text": [
      "\r",
      "                                                                                \r"
     ]
    }
   ],
   "source": [
    "complaints_df = complaints_df.withColumn(\"date_received\", to_date(\"date_received\"))\n",
    "complaints_df = complaints_df.withColumn(\"date_sent_to_company\", to_date(\"date_sent_to_company\"))\n",
    "complaints_df.show()"
   ]
  },
  {
   "cell_type": "code",
   "execution_count": 27,
   "id": "c6c82c83",
   "metadata": {},
   "outputs": [
    {
     "name": "stdout",
     "output_type": "stream",
     "text": [
      "root\n",
      " |-- company: string (nullable = true)\n",
      " |-- company_public_response: string (nullable = true)\n",
      " |-- company_response: string (nullable = true)\n",
      " |-- complaint_id: string (nullable = true)\n",
      " |-- complaint_what_happened: string (nullable = true)\n",
      " |-- consumer_consent_provided: string (nullable = true)\n",
      " |-- consumer_disputed: string (nullable = true)\n",
      " |-- date_received: date (nullable = true)\n",
      " |-- date_sent_to_company: date (nullable = true)\n",
      " |-- issue: string (nullable = true)\n",
      " |-- product: string (nullable = true)\n",
      " |-- state: string (nullable = true)\n",
      " |-- sub_issue: string (nullable = true)\n",
      " |-- sub_product: string (nullable = true)\n",
      " |-- submitted_via: string (nullable = true)\n",
      " |-- tags: string (nullable = true)\n",
      " |-- timely: string (nullable = true)\n",
      " |-- zip_code: string (nullable = true)\n",
      "\n"
     ]
    }
   ],
   "source": [
    "complaints_df.printSchema()"
   ]
  },
  {
   "cell_type": "code",
   "execution_count": 28,
   "id": "54abf78d",
   "metadata": {},
   "outputs": [
    {
     "name": "stderr",
     "output_type": "stream",
     "text": [
      "\r",
      "[Stage 11:>                                                         (0 + 1) / 1]\r"
     ]
    },
    {
     "name": "stdout",
     "output_type": "stream",
     "text": [
      "The range of the complaints received date is 12/01/2011 and 12/05/2022\n"
     ]
    },
    {
     "name": "stderr",
     "output_type": "stream",
     "text": [
      "\r",
      "                                                                                \r"
     ]
    }
   ],
   "source": [
    "min_date, max_date = complaints_df.select(min(\"date_received\"), max(\"date_received\")).first()\n",
    "print(f'The range of the complaints received date is {min_date.strftime(\"%m/%d/%Y\")} and {max_date.strftime(\"%m/%d/%Y\")}')"
   ]
  },
  {
   "cell_type": "code",
   "execution_count": 29,
   "id": "0eb4b635",
   "metadata": {},
   "outputs": [
    {
     "name": "stderr",
     "output_type": "stream",
     "text": [
      "\r",
      "[Stage 14:>                                                         (0 + 1) / 1]\r"
     ]
    },
    {
     "name": "stdout",
     "output_type": "stream",
     "text": [
      "The total number of companies in the dataset is 6581\n"
     ]
    },
    {
     "name": "stderr",
     "output_type": "stream",
     "text": [
      "\r",
      "                                                                                \r"
     ]
    }
   ],
   "source": [
    "print(f'The total number of companies in the dataset is {complaints_df.select(countDistinct(\"company\")).collect()[0][0]}')"
   ]
  },
  {
   "cell_type": "code",
   "execution_count": 61,
   "id": "a7a07b0f",
   "metadata": {},
   "outputs": [
    {
     "name": "stderr",
     "output_type": "stream",
     "text": [
      "                                                                                \r"
     ]
    },
    {
     "data": {
      "text/plain": [
       "[Row(count(DISTINCT complaint_id)=3127776)]"
      ]
     },
     "execution_count": 61,
     "metadata": {},
     "output_type": "execute_result"
    }
   ],
   "source": []
  },
  {
   "cell_type": "code",
   "execution_count": 31,
   "id": "9fbae848",
   "metadata": {},
   "outputs": [
    {
     "name": "stderr",
     "output_type": "stream",
     "text": [
      "\r",
      "[Stage 23:>                                                         (0 + 1) / 1]\r"
     ]
    },
    {
     "name": "stdout",
     "output_type": "stream",
     "text": [
      "+--------------------+---------------+\n",
      "|             company|ComplaintsCount|\n",
      "+--------------------+---------------+\n",
      "|       EQUIFAX, INC.|         538662|\n",
      "|TRANSUNION INTERM...|         443688|\n",
      "|Experian Informat...|         415222|\n",
      "|BANK OF AMERICA, ...|         120194|\n",
      "|WELLS FARGO & COM...|         101653|\n",
      "|JPMORGAN CHASE & CO.|          96503|\n",
      "|      CITIBANK, N.A.|          79735|\n",
      "|CAPITAL ONE FINAN...|          74032|\n",
      "| SYNCHRONY FINANCIAL|          40366|\n",
      "|Navient Solutions...|          37508|\n",
      "|Ocwen Financial C...|          33247|\n",
      "|        U.S. BANCORP|          30257|\n",
      "| NATIONSTAR MORTGAGE|          26881|\n",
      "|AMERICAN EXPRESS ...|          25578|\n",
      "|PORTFOLIO RECOVER...|          22299|\n",
      "|       DISCOVER BANK|          21496|\n",
      "|       PNC Bank N.A.|          21391|\n",
      "|ENCORE CAPITAL GR...|          19989|\n",
      "|TD BANK US HOLDIN...|          19627|\n",
      "|Bread Financial H...|          19279|\n",
      "+--------------------+---------------+\n",
      "only showing top 20 rows\n",
      "\n"
     ]
    },
    {
     "name": "stderr",
     "output_type": "stream",
     "text": [
      "\r",
      "                                                                                \r"
     ]
    }
   ],
   "source": [
    "ComplaintsCountPerCompany = complaints_df.groupBy(\"company\")\\\n",
    "                                    .agg(count(\"*\").alias(\"ComplaintsCount\"))\\\n",
    "                                    .sort(desc(\"ComplaintsCount\"))\n",
    "ComplaintsCountPerCompany.show()"
   ]
  },
  {
   "cell_type": "code",
   "execution_count": 33,
   "id": "d4c8110e",
   "metadata": {},
   "outputs": [
    {
     "data": {
      "image/png": "[encoded data removed]",
      "text/plain": [
       "<Figure size 720x504 with 1 Axes>"
      ]
     },
     "metadata": {
      "needs_background": "light"
     },
     "output_type": "display_data"
    }
   ],
   "source": [
    "pl = ComplaintsCountPerCompany.toPandas().head(10).plot(kind=\"bar\", \n",
    "                            x=\"company\", y=\"ComplaintsCount\", \n",
    "                            figsize=(10, 7), alpha=0.5, color=\"olive\")\n",
    "pl.set_xlabel(\"Company\")\n",
    "pl.set_ylabel(\"Number of complaints\")\n",
    "pl.set_title(\"Number of complaints per Company\")\n",
    "plt.show()"
   ]
  },
  {
   "cell_type": "code",
   "execution_count": 34,
   "id": "62c43578",
   "metadata": {},
   "outputs": [
    {
     "name": "stderr",
     "output_type": "stream",
     "text": [
      "\r",
      "[Stage 37:>                                                         (0 + 1) / 1]\r"
     ]
    },
    {
     "name": "stdout",
     "output_type": "stream",
     "text": [
      "+----+---------------+\n",
      "|year|ComplaintsCount|\n",
      "+----+---------------+\n",
      "|2011|           2536|\n",
      "|2012|          72373|\n",
      "|2013|         108217|\n",
      "|2014|         153034|\n",
      "|2015|         168466|\n",
      "|2016|         191457|\n",
      "|2017|         242931|\n",
      "|2018|         257252|\n",
      "|2019|         277324|\n",
      "|2020|         444329|\n",
      "|2021|         496019|\n",
      "|2022|         713838|\n",
      "+----+---------------+\n",
      "\n"
     ]
    },
    {
     "name": "stderr",
     "output_type": "stream",
     "text": [
      "\r",
      "                                                                                \r"
     ]
    }
   ],
   "source": [
    "ComplaintsCountPerYear = complaints_df.groupBy(year(\"date_received\").alias(\"year\"))\\\n",
    "                                    .agg(count(\"*\").alias(\"ComplaintsCount\"))\\\n",
    "                                    .sort(\"year\")\n",
    "ComplaintsCountPerYear.show()"
   ]
  },
  {
   "cell_type": "code",
   "execution_count": 35,
   "id": "51531d0d",
   "metadata": {},
   "outputs": [
    {
     "name": "stderr",
     "output_type": "stream",
     "text": [
      "                                                                                \r"
     ]
    },
    {
     "data": {
      "image/png": "[encoded data removed]",
      "text/plain": [
       "<Figure size 720x504 with 1 Axes>"
      ]
     },
     "metadata": {
      "needs_background": "light"
     },
     "output_type": "display_data"
    }
   ],
   "source": [
    "pl = ComplaintsCountPerYear.toPandas().head(10).plot(kind=\"bar\", \n",
    "                            x=\"year\", y=\"ComplaintsCount\", \n",
    "                            figsize=(10, 7), alpha=0.5, color=\"olive\")\n",
    "pl.set_xlabel(\"Company\")\n",
    "pl.set_ylabel(\"Number of complaints\")\n",
    "pl.set_title(\"Number of complaints received per year\")\n",
    "plt.show()"
   ]
  },
  {
   "cell_type": "code",
   "execution_count": 36,
   "id": "9bfa6795",
   "metadata": {},
   "outputs": [
    {
     "name": "stderr",
     "output_type": "stream",
     "text": [
      "\r",
      "[Stage 48:>                                                         (0 + 1) / 1]\r"
     ]
    },
    {
     "name": "stdout",
     "output_type": "stream",
     "text": [
      "+--------------------+---------------+\n",
      "|             product|ComplaintsCount|\n",
      "+--------------------+---------------+\n",
      "|Credit reporting,...|        1452854|\n",
      "|     Debt collection|         454053|\n",
      "|            Mortgage|         365651|\n",
      "|Credit card or pr...|         166567|\n",
      "|Checking or savin...|         142819|\n",
      "|    Credit reporting|         140429|\n",
      "|         Credit card|          89190|\n",
      "|Bank account or s...|          86206|\n",
      "|        Student loan|          71721|\n",
      "|Money transfer, v...|          48122|\n",
      "|Vehicle loan or l...|          37409|\n",
      "|       Consumer Loan|          31596|\n",
      "|Payday loan, titl...|          25367|\n",
      "|         Payday loan|           5543|\n",
      "|     Money transfers|           5354|\n",
      "|        Prepaid card|           3819|\n",
      "|Other financial s...|           1058|\n",
      "|    Virtual currency|             18|\n",
      "+--------------------+---------------+\n",
      "\n"
     ]
    },
    {
     "name": "stderr",
     "output_type": "stream",
     "text": [
      "\r",
      "                                                                                \r"
     ]
    }
   ],
   "source": [
    "ComplaintsCountPerProduct = complaints_df.groupBy(\"product\")\\\n",
    "                                    .agg(count(\"*\").alias(\"ComplaintsCount\"))\\\n",
    "                                    .sort(desc(\"ComplaintsCount\"))\n",
    "ComplaintsCountPerProduct.show()"
   ]
  },
  {
   "cell_type": "code",
   "execution_count": 37,
   "id": "6ffda6bb",
   "metadata": {},
   "outputs": [
    {
     "name": "stderr",
     "output_type": "stream",
     "text": [
      "                                                                                \r"
     ]
    },
    {
     "data": {
      "image/png": "[encoded data removed]",
      "text/plain": [
       "<Figure size 720x504 with 1 Axes>"
      ]
     },
     "metadata": {
      "needs_background": "light"
     },
     "output_type": "display_data"
    }
   ],
   "source": [
    "pl = ComplaintsCountPerProduct.toPandas().plot(kind=\"bar\", \n",
    "                            x=\"product\", y=\"ComplaintsCount\", \n",
    "                            figsize=(10, 7), log=True, alpha=0.5, color=\"olive\")\n",
    "pl.set_xlabel(\"Product\")\n",
    "pl.set_ylabel(\"Number of complaints (Log scale)\")\n",
    "pl.set_title(\"Number of complaints per product\")\n",
    "plt.show()"
   ]
  },
  {
   "cell_type": "code",
   "execution_count": 38,
   "id": "c8be5c7e",
   "metadata": {},
   "outputs": [
    {
     "name": "stderr",
     "output_type": "stream",
     "text": [
      "\r",
      "[Stage 59:>                                                         (0 + 1) / 1]\r"
     ]
    },
    {
     "name": "stdout",
     "output_type": "stream",
     "text": [
      "The total number of products in the dataset is 18\n"
     ]
    },
    {
     "name": "stderr",
     "output_type": "stream",
     "text": [
      "\r",
      "                                                                                \r"
     ]
    }
   ],
   "source": [
    "print(f'The total number of products in the dataset is {complaints_df.select(countDistinct(\"product\")).collect()[0][0]}')"
   ]
  },
  {
   "cell_type": "code",
   "execution_count": 39,
   "id": "b7e83f19",
   "metadata": {},
   "outputs": [
    {
     "name": "stderr",
     "output_type": "stream",
     "text": [
      "                                                                                \r"
     ]
    },
    {
     "data": {
      "text/plain": [
       "12"
      ]
     },
     "execution_count": 39,
     "metadata": {},
     "output_type": "execute_result"
    }
   ],
   "source": [
    "complaints_df.select(countDistinct(\"company_public_response\")).collect()[0][0]"
   ]
  },
  {
   "cell_type": "code",
   "execution_count": 40,
   "id": "4ff5e19b",
   "metadata": {},
   "outputs": [
    {
     "name": "stderr",
     "output_type": "stream",
     "text": [
      "\r",
      "[Stage 71:>                                                         (0 + 1) / 1]\r"
     ]
    },
    {
     "name": "stdout",
     "output_type": "stream",
     "text": [
      "+-----------------------------------------------------------------------------------------------------------------------+---------------+\n",
      "|company_public_response                                                                                                |ComplaintsCount|\n",
      "+-----------------------------------------------------------------------------------------------------------------------+---------------+\n",
      "|                                                                                                                       |1766304        |\n",
      "|Company has responded to the consumer and the CFPB and chooses not to provide a public response                        |1153102        |\n",
      "|Company believes it acted appropriately as authorized by contract or law                                               |112514         |\n",
      "|Company chooses not to provide a public response                                                                       |52473          |\n",
      "|Company believes the complaint is the result of a misunderstanding                                                     |11023          |\n",
      "|Company disputes the facts presented in the complaint                                                                  |8979           |\n",
      "|Company believes complaint caused principally by actions of third party outside the control or direction of the company|6973           |\n",
      "|Company believes complaint is the result of an isolated error                                                          |5650           |\n",
      "|Company believes complaint represents an opportunity for improvement to better serve consumers                         |4242           |\n",
      "|Company can't verify or dispute the facts in the complaint                                                             |3860           |\n",
      "|Company believes the complaint provided an opportunity to answer consumer's questions                                  |2557           |\n",
      "|Company believes complaint relates to a discontinued policy or procedure                                               |99             |\n",
      "+-----------------------------------------------------------------------------------------------------------------------+---------------+\n",
      "\n"
     ]
    },
    {
     "name": "stderr",
     "output_type": "stream",
     "text": [
      "\r",
      "                                                                                \r"
     ]
    }
   ],
   "source": [
    "company_public_response_count = complaints_df.groupBy(\"company_public_response\")\\\n",
    "                                    .agg(count(\"*\").alias(\"ComplaintsCount\"))\\\n",
    "                                    .sort(desc(\"ComplaintsCount\"))\n",
    "company_public_response_count.show(truncate=False)"
   ]
  },
  {
   "cell_type": "code",
   "execution_count": 93,
   "id": "9d843c15",
   "metadata": {},
   "outputs": [
    {
     "name": "stderr",
     "output_type": "stream",
     "text": [
      "\r",
      "[Stage 185:>                                                        (0 + 1) / 1]\r"
     ]
    },
    {
     "name": "stdout",
     "output_type": "stream",
     "text": [
      "+-------------------------------+-------+\n",
      "|company_response               |count  |\n",
      "+-------------------------------+-------+\n",
      "|Closed with explanation        |2417132|\n",
      "|Closed with non-monetary relief|466957 |\n",
      "|Closed with monetary relief    |123524 |\n",
      "|In progress                    |70021  |\n",
      "|Closed without relief          |17868  |\n",
      "|Closed                         |17611  |\n",
      "|Untimely response              |9355   |\n",
      "|Closed with relief             |5304   |\n",
      "|                               |4      |\n",
      "+-------------------------------+-------+\n",
      "\n"
     ]
    },
    {
     "name": "stderr",
     "output_type": "stream",
     "text": [
      "\r",
      "                                                                                \r"
     ]
    }
   ],
   "source": [
    "company_response_count = complaints_df.groupBy(\"company_response\")\\\n",
    "                                    .agg(count(\"*\").alias(\"count\"))\\\n",
    "                                    .sort(desc(\"count\"))\n",
    "\n",
    "company_response_count.show(truncate=False)"
   ]
  },
  {
   "cell_type": "code",
   "execution_count": 41,
   "id": "c6de0727",
   "metadata": {},
   "outputs": [
    {
     "name": "stderr",
     "output_type": "stream",
     "text": [
      "\r",
      "[Stage 74:>                                                         (0 + 1) / 1]\r"
     ]
    },
    {
     "name": "stdout",
     "output_type": "stream",
     "text": [
      "+-------------+---------------+\n",
      "|submitted_via|ComplaintsCount|\n",
      "+-------------+---------------+\n",
      "|Web          |2629877        |\n",
      "|Referral     |237492         |\n",
      "|Phone        |147498         |\n",
      "|Postal mail  |86341          |\n",
      "|Fax          |25660          |\n",
      "|Web Referral |484            |\n",
      "|Email        |424            |\n",
      "+-------------+---------------+\n",
      "\n"
     ]
    },
    {
     "name": "stderr",
     "output_type": "stream",
     "text": [
      "\r",
      "                                                                                \r"
     ]
    }
   ],
   "source": [
    "complaints_df.groupBy(\"submitted_via\")\\\n",
    "            .agg(count(\"*\").alias(\"ComplaintsCount\"))\\\n",
    "            .sort(desc(\"ComplaintsCount\")).show(truncate=False)"
   ]
  },
  {
   "cell_type": "code",
   "execution_count": 103,
   "id": "5073ea1f",
   "metadata": {},
   "outputs": [
    {
     "name": "stderr",
     "output_type": "stream",
     "text": [
      "\r",
      "[Stage 215:>                                                        (0 + 1) / 1]\r"
     ]
    },
    {
     "name": "stdout",
     "output_type": "stream",
     "text": [
      "+--------------------+\n",
      "|               state|\n",
      "+--------------------+\n",
      "|UNITED STATES MIN...|\n",
      "|                  AZ|\n",
      "|                  SC|\n",
      "|                  LA|\n",
      "|                  MN|\n",
      "|                  AA|\n",
      "|                  NJ|\n",
      "|                  DC|\n",
      "|                  OR|\n",
      "|                  VA|\n",
      "|                  RI|\n",
      "|                  KY|\n",
      "|                  WY|\n",
      "|                  NH|\n",
      "|                  MI|\n",
      "|                  NV|\n",
      "|                  WI|\n",
      "|                  ID|\n",
      "|                  CA|\n",
      "|                  CT|\n",
      "+--------------------+\n",
      "only showing top 20 rows\n",
      "\n"
     ]
    },
    {
     "name": "stderr",
     "output_type": "stream",
     "text": [
      "\r",
      "                                                                                \r"
     ]
    }
   ],
   "source": [
    "complaints_df.select('state').distinct().show()"
   ]
  },
  {
   "cell_type": "code",
   "execution_count": 105,
   "id": "71b8ab91",
   "metadata": {},
   "outputs": [
    {
     "name": "stderr",
     "output_type": "stream",
     "text": [
      "\r",
      "[Stage 224:>                                                        (0 + 1) / 1]\r"
     ]
    },
    {
     "name": "stdout",
     "output_type": "stream",
     "text": [
      "The total number of state in the dataset is 64\n"
     ]
    },
    {
     "name": "stderr",
     "output_type": "stream",
     "text": [
      "\r",
      "                                                                                \r"
     ]
    }
   ],
   "source": [
    "print(f'The total number of state in the dataset is {complaints_df.select(countDistinct(\"state\")).collect()[0][0]}')"
   ]
  },
  {
   "cell_type": "code",
   "execution_count": 43,
   "id": "08f12861",
   "metadata": {},
   "outputs": [
    {
     "name": "stderr",
     "output_type": "stream",
     "text": [
      "\r",
      "[Stage 77:>                                                         (0 + 1) / 1]\r"
     ]
    },
    {
     "name": "stdout",
     "output_type": "stream",
     "text": [
      "+-----+------+\n",
      "|state|count |\n",
      "+-----+------+\n",
      "|CA   |381389|\n",
      "|FL   |350313|\n",
      "|TX   |305289|\n",
      "|NY   |204477|\n",
      "|GA   |197188|\n",
      "|PA   |141286|\n",
      "|IL   |119176|\n",
      "|NJ   |107395|\n",
      "|NC   |98699 |\n",
      "|OH   |84040 |\n",
      "|MD   |83916 |\n",
      "|VA   |79859 |\n",
      "|MI   |69414 |\n",
      "|TN   |61064 |\n",
      "|AL   |57789 |\n",
      "|AZ   |57321 |\n",
      "|SC   |54923 |\n",
      "|LA   |49813 |\n",
      "|MA   |49303 |\n",
      "|WA   |44082 |\n",
      "+-----+------+\n",
      "only showing top 20 rows\n",
      "\n"
     ]
    },
    {
     "name": "stderr",
     "output_type": "stream",
     "text": [
      "\r",
      "                                                                                \r"
     ]
    }
   ],
   "source": [
    "statewise_complaints_count = complaints_df.groupBy(\"state\")\\\n",
    "                                    .agg(count(\"*\").alias(\"count\"))\\\n",
    "                                    .sort(desc(\"count\"))\n",
    "\n",
    "statewise_complaints_count.show(truncate=False)"
   ]
  },
  {
   "cell_type": "code",
   "execution_count": 46,
   "id": "b2c017ce",
   "metadata": {},
   "outputs": [
    {
     "data": {
      "application/vnd.plotly.v1+json": {
       "config": {
        "plotlyServerURL": "https://plot.ly"
       },
       "data": [
        {
         "coloraxis": "coloraxis",
         "geo": "geo",
         "hovertemplate": "state=%{location}<br>count=%{z}<extra></extra>",
         "locationmode": "USA-states",
         "locations": [
          "CA",
          "FL",
          "TX",
          "NY",
          "GA",
          "PA",
          "IL",
          "NJ",
          "NC",
          "OH",
          "MD",
          "VA",
          "MI",
          "TN",
          "AL",
          "AZ",
          "SC",
          "LA",
          "MA",
          "WA",
          "NV",
          "MO",
          "",
          "CO",
          "IN",
          "CT",
          "MN",
          "WI",
          "MS",
          "OR",
          "AR",
          "UT",
          "KY",
          "OK",
          "DE",
          "DC",
          "KS",
          "IA",
          "NM",
          "PR",
          "RI",
          "NH",
          "HI",
          "ID",
          "NE",
          "ME",
          "WV",
          "MT",
          "AK",
          "VT",
          "SD",
          "ND",
          "WY",
          "AE",
          "VI",
          "AP",
          "UNITED STATES MINOR OUTLYING ISLANDS",
          "GU",
          "FM",
          "AA",
          "MP",
          "AS",
          "MH",
          "PW"
         ],
         "name": "",
         "type": "choropleth",
         "z": [
          381389,
          350313,
          305289,
          204477,
          197188,
          141286,
          119176,
          107395,
          98699,
          84040,
          83916,
          79859,
          69414,
          61064,
          57789,
          57321,
          54923,
          49813,
          49303,
          44082,
          42552,
          40541,
          40124,
          38116,
          31804,
          28554,
          26503,
          26356,
          24378,
          22102,
          21541,
          17829,
          17696,
          17290,
          15855,
          14274,
          11867,
          9979,
          9914,
          7953,
          7489,
          7467,
          7262,
          6709,
          6461,
          5740,
          5600,
          3699,
          2851,
          2644,
          2590,
          2274,
          2125,
          905,
          593,
          587,
          264,
          259,
          115,
          50,
          44,
          38,
          33,
          13
         ]
        }
       ],
       "layout": {
        "coloraxis": {
         "colorbar": {
          "title": {
           "text": "count"
          }
         },
         "colorscale": [
          [
           0,
           "#fde725"
          ],
          [
           0.1111111111111111,
           "#b5de2b"
          ],
          [
           0.2222222222222222,
           "#6ece58"
          ],
          [
           0.3333333333333333,
           "#35b779"
          ],
          [
           0.4444444444444444,
           "#1f9e89"
          ],
          [
           0.5555555555555556,
           "#26828e"
          ],
          [
           0.6666666666666666,
           "#31688e"
          ],
          [
           0.7777777777777778,
           "#3e4989"
          ],
          [
           0.8888888888888888,
           "#482878"
          ],
          [
           1,
           "#440154"
          ]
         ]
        },
        "geo": {
         "center": {},
         "domain": {
          "x": [
           0,
           1
          ],
          "y": [
           0,
           1
          ]
         },
         "scope": "usa"
        },
        "legend": {
         "tracegroupgap": 0
        },
        "margin": {
         "t": 60
        },
        "template": {
         "data": {
          "bar": [
           {
            "error_x": {
             "color": "#2a3f5f"
            },
            "error_y": {
             "color": "#2a3f5f"
            },
            "marker": {
             "line": {
              "color": "#E5ECF6",
              "width": 0.5
             },
             "pattern": {
              "fillmode": "overlay",
              "size": 10,
              "solidity": 0.2
             }
            },
            "type": "bar"
           }
          ],
          "barpolar": [
           {
            "marker": {
             "line": {
              "color": "#E5ECF6",
              "width": 0.5
             },
             "pattern": {
              "fillmode": "overlay",
              "size": 10,
              "solidity": 0.2
             }
            },
            "type": "barpolar"
           }
          ],
          "carpet": [
           {
            "aaxis": {
             "endlinecolor": "#2a3f5f",
             "gridcolor": "white",
             "linecolor": "white",
             "minorgridcolor": "white",
             "startlinecolor": "#2a3f5f"
            },
            "baxis": {
             "endlinecolor": "#2a3f5f",
             "gridcolor": "white",
             "linecolor": "white",
             "minorgridcolor": "white",
             "startlinecolor": "#2a3f5f"
            },
            "type": "carpet"
           }
          ],
          "choropleth": [
           {
            "colorbar": {
             "outlinewidth": 0,
             "ticks": ""
            },
            "type": "choropleth"
           }
          ],
          "contour": [
           {
            "colorbar": {
             "outlinewidth": 0,
             "ticks": ""
            },
            "colorscale": [
             [
              0,
              "#0d0887"
             ],
             [
              0.1111111111111111,
              "#46039f"
             ],
             [
              0.2222222222222222,
              "#7201a8"
             ],
             [
              0.3333333333333333,
              "#9c179e"
             ],
             [
              0.4444444444444444,
              "#bd3786"
             ],
             [
              0.5555555555555556,
              "#d8576b"
             ],
             [
              0.6666666666666666,
              "#ed7953"
             ],
             [
              0.7777777777777778,
              "#fb9f3a"
             ],
             [
              0.8888888888888888,
              "#fdca26"
             ],
             [
              1,
              "#f0f921"
             ]
            ],
            "type": "contour"
           }
          ],
          "contourcarpet": [
           {
            "colorbar": {
             "outlinewidth": 0,
             "ticks": ""
            },
            "type": "contourcarpet"
           }
          ],
          "heatmap": [
           {
            "colorbar": {
             "outlinewidth": 0,
             "ticks": ""
            },
            "colorscale": [
             [
              0,
              "#0d0887"
             ],
             [
              0.1111111111111111,
              "#46039f"
             ],
             [
              0.2222222222222222,
              "#7201a8"
             ],
             [
              0.3333333333333333,
              "#9c179e"
             ],
             [
              0.4444444444444444,
              "#bd3786"
             ],
             [
              0.5555555555555556,
              "#d8576b"
             ],
             [
              0.6666666666666666,
              "#ed7953"
             ],
             [
              0.7777777777777778,
              "#fb9f3a"
             ],
             [
              0.8888888888888888,
              "#fdca26"
             ],
             [
              1,
              "#f0f921"
             ]
            ],
            "type": "heatmap"
           }
          ],
          "heatmapgl": [
           {
            "colorbar": {
             "outlinewidth": 0,
             "ticks": ""
            },
            "colorscale": [
             [
              0,
              "#0d0887"
             ],
             [
              0.1111111111111111,
              "#46039f"
             ],
             [
              0.2222222222222222,
              "#7201a8"
             ],
             [
              0.3333333333333333,
              "#9c179e"
             ],
             [
              0.4444444444444444,
              "#bd3786"
             ],
             [
              0.5555555555555556,
              "#d8576b"
             ],
             [
              0.6666666666666666,
              "#ed7953"
             ],
             [
              0.7777777777777778,
              "#fb9f3a"
             ],
             [
              0.8888888888888888,
              "#fdca26"
             ],
             [
              1,
              "#f0f921"
             ]
            ],
            "type": "heatmapgl"
           }
          ],
          "histogram": [
           {
            "marker": {
             "pattern": {
              "fillmode": "overlay",
              "size": 10,
              "solidity": 0.2
             }
            },
            "type": "histogram"
           }
          ],
          "histogram2d": [
           {
            "colorbar": {
             "outlinewidth": 0,
             "ticks": ""
            },
            "colorscale": [
             [
              0,
              "#0d0887"
             ],
             [
              0.1111111111111111,
              "#46039f"
             ],
             [
              0.2222222222222222,
              "#7201a8"
             ],
             [
              0.3333333333333333,
              "#9c179e"
             ],
             [
              0.4444444444444444,
              "#bd3786"
             ],
             [
              0.5555555555555556,
              "#d8576b"
             ],
             [
              0.6666666666666666,
              "#ed7953"
             ],
             [
              0.7777777777777778,
              "#fb9f3a"
             ],
             [
              0.8888888888888888,
              "#fdca26"
             ],
             [
              1,
              "#f0f921"
             ]
            ],
            "type": "histogram2d"
           }
          ],
          "histogram2dcontour": [
           {
            "colorbar": {
             "outlinewidth": 0,
             "ticks": ""
            },
            "colorscale": [
             [
              0,
              "#0d0887"
             ],
             [
              0.1111111111111111,
              "#46039f"
             ],
             [
              0.2222222222222222,
              "#7201a8"
             ],
             [
              0.3333333333333333,
              "#9c179e"
             ],
             [
              0.4444444444444444,
              "#bd3786"
             ],
             [
              0.5555555555555556,
              "#d8576b"
             ],
             [
              0.6666666666666666,
              "#ed7953"
             ],
             [
              0.7777777777777778,
              "#fb9f3a"
             ],
             [
              0.8888888888888888,
              "#fdca26"
             ],
             [
              1,
              "#f0f921"
             ]
            ],
            "type": "histogram2dcontour"
           }
          ],
          "mesh3d": [
           {
            "colorbar": {
             "outlinewidth": 0,
             "ticks": ""
            },
            "type": "mesh3d"
           }
          ],
          "parcoords": [
           {
            "line": {
             "colorbar": {
              "outlinewidth": 0,
              "ticks": ""
             }
            },
            "type": "parcoords"
           }
          ],
          "pie": [
           {
            "automargin": true,
            "type": "pie"
           }
          ],
          "scatter": [
           {
            "fillpattern": {
             "fillmode": "overlay",
             "size": 10,
             "solidity": 0.2
            },
            "type": "scatter"
           }
          ],
          "scatter3d": [
           {
            "line": {
             "colorbar": {
              "outlinewidth": 0,
              "ticks": ""
             }
            },
            "marker": {
             "colorbar": {
              "outlinewidth": 0,
              "ticks": ""
             }
            },
            "type": "scatter3d"
           }
          ],
          "scattercarpet": [
           {
            "marker": {
             "colorbar": {
              "outlinewidth": 0,
              "ticks": ""
             }
            },
            "type": "scattercarpet"
           }
          ],
          "scattergeo": [
           {
            "marker": {
             "colorbar": {
              "outlinewidth": 0,
              "ticks": ""
             }
            },
            "type": "scattergeo"
           }
          ],
          "scattergl": [
           {
            "marker": {
             "colorbar": {
              "outlinewidth": 0,
              "ticks": ""
             }
            },
            "type": "scattergl"
           }
          ],
          "scattermapbox": [
           {
            "marker": {
             "colorbar": {
              "outlinewidth": 0,
              "ticks": ""
             }
            },
            "type": "scattermapbox"
           }
          ],
          "scatterpolar": [
           {
            "marker": {
             "colorbar": {
              "outlinewidth": 0,
              "ticks": ""
             }
            },
            "type": "scatterpolar"
           }
          ],
          "scatterpolargl": [
           {
            "marker": {
             "colorbar": {
              "outlinewidth": 0,
              "ticks": ""
             }
            },
            "type": "scatterpolargl"
           }
          ],
          "scatterternary": [
           {
            "marker": {
             "colorbar": {
              "outlinewidth": 0,
              "ticks": ""
             }
            },
            "type": "scatterternary"
           }
          ],
          "surface": [
           {
            "colorbar": {
             "outlinewidth": 0,
             "ticks": ""
            },
            "colorscale": [
             [
              0,
              "#0d0887"
             ],
             [
              0.1111111111111111,
              "#46039f"
             ],
             [
              0.2222222222222222,
              "#7201a8"
             ],
             [
              0.3333333333333333,
              "#9c179e"
             ],
             [
              0.4444444444444444,
              "#bd3786"
             ],
             [
              0.5555555555555556,
              "#d8576b"
             ],
             [
              0.6666666666666666,
              "#ed7953"
             ],
             [
              0.7777777777777778,
              "#fb9f3a"
             ],
             [
              0.8888888888888888,
              "#fdca26"
             ],
             [
              1,
              "#f0f921"
             ]
            ],
            "type": "surface"
           }
          ],
          "table": [
           {
            "cells": {
             "fill": {
              "color": "#EBF0F8"
             },
             "line": {
              "color": "white"
             }
            },
            "header": {
             "fill": {
              "color": "#C8D4E3"
             },
             "line": {
              "color": "white"
             }
            },
            "type": "table"
           }
          ]
         },
         "layout": {
          "annotationdefaults": {
           "arrowcolor": "#2a3f5f",
           "arrowhead": 0,
           "arrowwidth": 1
          },
          "autotypenumbers": "strict",
          "coloraxis": {
           "colorbar": {
            "outlinewidth": 0,
            "ticks": ""
           }
          },
          "colorscale": {
           "diverging": [
            [
             0,
             "#8e0152"
            ],
            [
             0.1,
             "#c51b7d"
            ],
            [
             0.2,
             "#de77ae"
            ],
            [
             0.3,
             "#f1b6da"
            ],
            [
             0.4,
             "#fde0ef"
            ],
            [
             0.5,
             "#f7f7f7"
            ],
            [
             0.6,
             "#e6f5d0"
            ],
            [
             0.7,
             "#b8e186"
            ],
            [
             0.8,
             "#7fbc41"
            ],
            [
             0.9,
             "#4d9221"
            ],
            [
             1,
             "#276419"
            ]
           ],
           "sequential": [
            [
             0,
             "#0d0887"
            ],
            [
             0.1111111111111111,
             "#46039f"
            ],
            [
             0.2222222222222222,
             "#7201a8"
            ],
            [
             0.3333333333333333,
             "#9c179e"
            ],
            [
             0.4444444444444444,
             "#bd3786"
            ],
            [
             0.5555555555555556,
             "#d8576b"
            ],
            [
             0.6666666666666666,
             "#ed7953"
            ],
            [
             0.7777777777777778,
             "#fb9f3a"
            ],
            [
             0.8888888888888888,
             "#fdca26"
            ],
            [
             1,
             "#f0f921"
            ]
           ],
           "sequentialminus": [
            [
             0,
             "#0d0887"
            ],
            [
             0.1111111111111111,
             "#46039f"
            ],
            [
             0.2222222222222222,
             "#7201a8"
            ],
            [
             0.3333333333333333,
             "#9c179e"
            ],
            [
             0.4444444444444444,
             "#bd3786"
            ],
            [
             0.5555555555555556,
             "#d8576b"
            ],
            [
             0.6666666666666666,
             "#ed7953"
            ],
            [
             0.7777777777777778,
             "#fb9f3a"
            ],
            [
             0.8888888888888888,
             "#fdca26"
            ],
            [
             1,
             "#f0f921"
            ]
           ]
          },
          "colorway": [
           "#636efa",
           "#EF553B",
           "#00cc96",
           "#ab63fa",
           "#FFA15A",
           "#19d3f3",
           "#FF6692",
           "#B6E880",
           "#FF97FF",
           "#FECB52"
          ],
          "font": {
           "color": "#2a3f5f"
          },
          "geo": {
           "bgcolor": "white",
           "lakecolor": "white",
           "landcolor": "#E5ECF6",
           "showlakes": true,
           "showland": true,
           "subunitcolor": "white"
          },
          "hoverlabel": {
           "align": "left"
          },
          "hovermode": "closest",
          "mapbox": {
           "style": "light"
          },
          "paper_bgcolor": "white",
          "plot_bgcolor": "#E5ECF6",
          "polar": {
           "angularaxis": {
            "gridcolor": "white",
            "linecolor": "white",
            "ticks": ""
           },
           "bgcolor": "#E5ECF6",
           "radialaxis": {
            "gridcolor": "white",
            "linecolor": "white",
            "ticks": ""
           }
          },
          "scene": {
           "xaxis": {
            "backgroundcolor": "#E5ECF6",
            "gridcolor": "white",
            "gridwidth": 2,
            "linecolor": "white",
            "showbackground": true,
            "ticks": "",
            "zerolinecolor": "white"
           },
           "yaxis": {
            "backgroundcolor": "#E5ECF6",
            "gridcolor": "white",
            "gridwidth": 2,
            "linecolor": "white",
            "showbackground": true,
            "ticks": "",
            "zerolinecolor": "white"
           },
           "zaxis": {
            "backgroundcolor": "#E5ECF6",
            "gridcolor": "white",
            "gridwidth": 2,
            "linecolor": "white",
            "showbackground": true,
            "ticks": "",
            "zerolinecolor": "white"
           }
          },
          "shapedefaults": {
           "line": {
            "color": "#2a3f5f"
           }
          },
          "ternary": {
           "aaxis": {
            "gridcolor": "white",
            "linecolor": "white",
            "ticks": ""
           },
           "baxis": {
            "gridcolor": "white",
            "linecolor": "white",
            "ticks": ""
           },
           "bgcolor": "#E5ECF6",
           "caxis": {
            "gridcolor": "white",
            "linecolor": "white",
            "ticks": ""
           }
          },
          "title": {
           "x": 0.05
          },
          "xaxis": {
           "automargin": true,
           "gridcolor": "white",
           "linecolor": "white",
           "ticks": "",
           "title": {
            "standoff": 15
           },
           "zerolinecolor": "white",
           "zerolinewidth": 2
          },
          "yaxis": {
           "automargin": true,
           "gridcolor": "white",
           "linecolor": "white",
           "ticks": "",
           "title": {
            "standoff": 15
           },
           "zerolinecolor": "white",
           "zerolinewidth": 2
          }
         }
        },
        "title": {
         "font": {
          "color": "black",
          "family": "Times New Roman",
          "size": 22
         },
         "text": "Total Number of complaints by State from 2011 to 2020",
         "x": 0.45
        }
       }
      },
      "text/html": [
       "<div>                            <div id=\"0683b677-27df-42b0-abd4-ae89279ef6e9\" class=\"plotly-graph-div\" style=\"height:525px; width:100%;\"></div>            <script type=\"text/javascript\">                require([\"plotly\"], function(Plotly) {                    window.PLOTLYENV=window.PLOTLYENV || {};                                    if (document.getElementById(\"0683b677-27df-42b0-abd4-ae89279ef6e9\")) {                    Plotly.newPlot(                        \"0683b677-27df-42b0-abd4-ae89279ef6e9\",                        [{\"coloraxis\":\"coloraxis\",\"geo\":\"geo\",\"hovertemplate\":\"state=%{location}<br>count=%{z}<extra></extra>\",\"locationmode\":\"USA-states\",\"locations\":[\"CA\",\"FL\",\"TX\",\"NY\",\"GA\",\"PA\",\"IL\",\"NJ\",\"NC\",\"OH\",\"MD\",\"VA\",\"MI\",\"TN\",\"AL\",\"AZ\",\"SC\",\"LA\",\"MA\",\"WA\",\"NV\",\"MO\",\"\",\"CO\",\"IN\",\"CT\",\"MN\",\"WI\",\"MS\",\"OR\",\"AR\",\"UT\",\"KY\",\"OK\",\"DE\",\"DC\",\"KS\",\"IA\",\"NM\",\"PR\",\"RI\",\"NH\",\"HI\",\"ID\",\"NE\",\"ME\",\"WV\",\"MT\",\"AK\",\"VT\",\"SD\",\"ND\",\"WY\",\"AE\",\"VI\",\"AP\",\"UNITED STATES MINOR OUTLYING ISLANDS\",\"GU\",\"FM\",\"AA\",\"MP\",\"AS\",\"MH\",\"PW\"],\"name\":\"\",\"z\":[381389,350313,305289,204477,197188,141286,119176,107395,98699,84040,83916,79859,69414,61064,57789,57321,54923,49813,49303,44082,42552,40541,40124,38116,31804,28554,26503,26356,24378,22102,21541,17829,17696,17290,15855,14274,11867,9979,9914,7953,7489,7467,7262,6709,6461,5740,5600,3699,2851,2644,2590,2274,2125,905,593,587,264,259,115,50,44,38,33,13],\"type\":\"choropleth\"}],                        {\"template\":{\"data\":{\"histogram2dcontour\":[{\"type\":\"histogram2dcontour\",\"colorbar\":{\"outlinewidth\":0,\"ticks\":\"\"},\"colorscale\":[[0.0,\"#0d0887\"],[0.1111111111111111,\"#46039f\"],[0.2222222222222222,\"#7201a8\"],[0.3333333333333333,\"#9c179e\"],[0.4444444444444444,\"#bd3786\"],[0.5555555555555556,\"#d8576b\"],[0.6666666666666666,\"#ed7953\"],[0.7777777777777778,\"#fb9f3a\"],[0.8888888888888888,\"#fdca26\"],[1.0,\"#f0f921\"]]}],\"choropleth\":[{\"type\":\"choropleth\",\"colorbar\":{\"outlinewidth\":0,\"ticks\":\"\"}}],\"histogram2d\":[{\"type\":\"histogram2d\",\"colorbar\":{\"outlinewidth\":0,\"ticks\":\"\"},\"colorscale\":[[0.0,\"#0d0887\"],[0.1111111111111111,\"#46039f\"],[0.2222222222222222,\"#7201a8\"],[0.3333333333333333,\"#9c179e\"],[0.4444444444444444,\"#bd3786\"],[0.5555555555555556,\"#d8576b\"],[0.6666666666666666,\"#ed7953\"],[0.7777777777777778,\"#fb9f3a\"],[0.8888888888888888,\"#fdca26\"],[1.0,\"#f0f921\"]]}],\"heatmap\":[{\"type\":\"heatmap\",\"colorbar\":{\"outlinewidth\":0,\"ticks\":\"\"},\"colorscale\":[[0.0,\"#0d0887\"],[0.1111111111111111,\"#46039f\"],[0.2222222222222222,\"#7201a8\"],[0.3333333333333333,\"#9c179e\"],[0.4444444444444444,\"#bd3786\"],[0.5555555555555556,\"#d8576b\"],[0.6666666666666666,\"#ed7953\"],[0.7777777777777778,\"#fb9f3a\"],[0.8888888888888888,\"#fdca26\"],[1.0,\"#f0f921\"]]}],\"heatmapgl\":[{\"type\":\"heatmapgl\",\"colorbar\":{\"outlinewidth\":0,\"ticks\":\"\"},\"colorscale\":[[0.0,\"#0d0887\"],[0.1111111111111111,\"#46039f\"],[0.2222222222222222,\"#7201a8\"],[0.3333333333333333,\"#9c179e\"],[0.4444444444444444,\"#bd3786\"],[0.5555555555555556,\"#d8576b\"],[0.6666666666666666,\"#ed7953\"],[0.7777777777777778,\"#fb9f3a\"],[0.8888888888888888,\"#fdca26\"],[1.0,\"#f0f921\"]]}],\"contourcarpet\":[{\"type\":\"contourcarpet\",\"colorbar\":{\"outlinewidth\":0,\"ticks\":\"\"}}],\"contour\":[{\"type\":\"contour\",\"colorbar\":{\"outlinewidth\":0,\"ticks\":\"\"},\"colorscale\":[[0.0,\"#0d0887\"],[0.1111111111111111,\"#46039f\"],[0.2222222222222222,\"#7201a8\"],[0.3333333333333333,\"#9c179e\"],[0.4444444444444444,\"#bd3786\"],[0.5555555555555556,\"#d8576b\"],[0.6666666666666666,\"#ed7953\"],[0.7777777777777778,\"#fb9f3a\"],[0.8888888888888888,\"#fdca26\"],[1.0,\"#f0f921\"]]}],\"surface\":[{\"type\":\"surface\",\"colorbar\":{\"outlinewidth\":0,\"ticks\":\"\"},\"colorscale\":[[0.0,\"#0d0887\"],[0.1111111111111111,\"#46039f\"],[0.2222222222222222,\"#7201a8\"],[0.3333333333333333,\"#9c179e\"],[0.4444444444444444,\"#bd3786\"],[0.5555555555555556,\"#d8576b\"],[0.6666666666666666,\"#ed7953\"],[0.7777777777777778,\"#fb9f3a\"],[0.8888888888888888,\"#fdca26\"],[1.0,\"#f0f921\"]]}],\"mesh3d\":[{\"type\":\"mesh3d\",\"colorbar\":{\"outlinewidth\":0,\"ticks\":\"\"}}],\"scatter\":[{\"fillpattern\":{\"fillmode\":\"overlay\",\"size\":10,\"solidity\":0.2},\"type\":\"scatter\"}],\"parcoords\":[{\"type\":\"parcoords\",\"line\":{\"colorbar\":{\"outlinewidth\":0,\"ticks\":\"\"}}}],\"scatterpolargl\":[{\"type\":\"scatterpolargl\",\"marker\":{\"colorbar\":{\"outlinewidth\":0,\"ticks\":\"\"}}}],\"bar\":[{\"error_x\":{\"color\":\"#2a3f5f\"},\"error_y\":{\"color\":\"#2a3f5f\"},\"marker\":{\"line\":{\"color\":\"#E5ECF6\",\"width\":0.5},\"pattern\":{\"fillmode\":\"overlay\",\"size\":10,\"solidity\":0.2}},\"type\":\"bar\"}],\"scattergeo\":[{\"type\":\"scattergeo\",\"marker\":{\"colorbar\":{\"outlinewidth\":0,\"ticks\":\"\"}}}],\"scatterpolar\":[{\"type\":\"scatterpolar\",\"marker\":{\"colorbar\":{\"outlinewidth\":0,\"ticks\":\"\"}}}],\"histogram\":[{\"marker\":{\"pattern\":{\"fillmode\":\"overlay\",\"size\":10,\"solidity\":0.2}},\"type\":\"histogram\"}],\"scattergl\":[{\"type\":\"scattergl\",\"marker\":{\"colorbar\":{\"outlinewidth\":0,\"ticks\":\"\"}}}],\"scatter3d\":[{\"type\":\"scatter3d\",\"line\":{\"colorbar\":{\"outlinewidth\":0,\"ticks\":\"\"}},\"marker\":{\"colorbar\":{\"outlinewidth\":0,\"ticks\":\"\"}}}],\"scattermapbox\":[{\"type\":\"scattermapbox\",\"marker\":{\"colorbar\":{\"outlinewidth\":0,\"ticks\":\"\"}}}],\"scatterternary\":[{\"type\":\"scatterternary\",\"marker\":{\"colorbar\":{\"outlinewidth\":0,\"ticks\":\"\"}}}],\"scattercarpet\":[{\"type\":\"scattercarpet\",\"marker\":{\"colorbar\":{\"outlinewidth\":0,\"ticks\":\"\"}}}],\"carpet\":[{\"aaxis\":{\"endlinecolor\":\"#2a3f5f\",\"gridcolor\":\"white\",\"linecolor\":\"white\",\"minorgridcolor\":\"white\",\"startlinecolor\":\"#2a3f5f\"},\"baxis\":{\"endlinecolor\":\"#2a3f5f\",\"gridcolor\":\"white\",\"linecolor\":\"white\",\"minorgridcolor\":\"white\",\"startlinecolor\":\"#2a3f5f\"},\"type\":\"carpet\"}],\"table\":[{\"cells\":{\"fill\":{\"color\":\"#EBF0F8\"},\"line\":{\"color\":\"white\"}},\"header\":{\"fill\":{\"color\":\"#C8D4E3\"},\"line\":{\"color\":\"white\"}},\"type\":\"table\"}],\"barpolar\":[{\"marker\":{\"line\":{\"color\":\"#E5ECF6\",\"width\":0.5},\"pattern\":{\"fillmode\":\"overlay\",\"size\":10,\"solidity\":0.2}},\"type\":\"barpolar\"}],\"pie\":[{\"automargin\":true,\"type\":\"pie\"}]},\"layout\":{\"autotypenumbers\":\"strict\",\"colorway\":[\"#636efa\",\"#EF553B\",\"#00cc96\",\"#ab63fa\",\"#FFA15A\",\"#19d3f3\",\"#FF6692\",\"#B6E880\",\"#FF97FF\",\"#FECB52\"],\"font\":{\"color\":\"#2a3f5f\"},\"hovermode\":\"closest\",\"hoverlabel\":{\"align\":\"left\"},\"paper_bgcolor\":\"white\",\"plot_bgcolor\":\"#E5ECF6\",\"polar\":{\"bgcolor\":\"#E5ECF6\",\"angularaxis\":{\"gridcolor\":\"white\",\"linecolor\":\"white\",\"ticks\":\"\"},\"radialaxis\":{\"gridcolor\":\"white\",\"linecolor\":\"white\",\"ticks\":\"\"}},\"ternary\":{\"bgcolor\":\"#E5ECF6\",\"aaxis\":{\"gridcolor\":\"white\",\"linecolor\":\"white\",\"ticks\":\"\"},\"baxis\":{\"gridcolor\":\"white\",\"linecolor\":\"white\",\"ticks\":\"\"},\"caxis\":{\"gridcolor\":\"white\",\"linecolor\":\"white\",\"ticks\":\"\"}},\"coloraxis\":{\"colorbar\":{\"outlinewidth\":0,\"ticks\":\"\"}},\"colorscale\":{\"sequential\":[[0.0,\"#0d0887\"],[0.1111111111111111,\"#46039f\"],[0.2222222222222222,\"#7201a8\"],[0.3333333333333333,\"#9c179e\"],[0.4444444444444444,\"#bd3786\"],[0.5555555555555556,\"#d8576b\"],[0.6666666666666666,\"#ed7953\"],[0.7777777777777778,\"#fb9f3a\"],[0.8888888888888888,\"#fdca26\"],[1.0,\"#f0f921\"]],\"sequentialminus\":[[0.0,\"#0d0887\"],[0.1111111111111111,\"#46039f\"],[0.2222222222222222,\"#7201a8\"],[0.3333333333333333,\"#9c179e\"],[0.4444444444444444,\"#bd3786\"],[0.5555555555555556,\"#d8576b\"],[0.6666666666666666,\"#ed7953\"],[0.7777777777777778,\"#fb9f3a\"],[0.8888888888888888,\"#fdca26\"],[1.0,\"#f0f921\"]],\"diverging\":[[0,\"#8e0152\"],[0.1,\"#c51b7d\"],[0.2,\"#de77ae\"],[0.3,\"#f1b6da\"],[0.4,\"#fde0ef\"],[0.5,\"#f7f7f7\"],[0.6,\"#e6f5d0\"],[0.7,\"#b8e186\"],[0.8,\"#7fbc41\"],[0.9,\"#4d9221\"],[1,\"#276419\"]]},\"xaxis\":{\"gridcolor\":\"white\",\"linecolor\":\"white\",\"ticks\":\"\",\"title\":{\"standoff\":15},\"zerolinecolor\":\"white\",\"automargin\":true,\"zerolinewidth\":2},\"yaxis\":{\"gridcolor\":\"white\",\"linecolor\":\"white\",\"ticks\":\"\",\"title\":{\"standoff\":15},\"zerolinecolor\":\"white\",\"automargin\":true,\"zerolinewidth\":2},\"scene\":{\"xaxis\":{\"backgroundcolor\":\"#E5ECF6\",\"gridcolor\":\"white\",\"linecolor\":\"white\",\"showbackground\":true,\"ticks\":\"\",\"zerolinecolor\":\"white\",\"gridwidth\":2},\"yaxis\":{\"backgroundcolor\":\"#E5ECF6\",\"gridcolor\":\"white\",\"linecolor\":\"white\",\"showbackground\":true,\"ticks\":\"\",\"zerolinecolor\":\"white\",\"gridwidth\":2},\"zaxis\":{\"backgroundcolor\":\"#E5ECF6\",\"gridcolor\":\"white\",\"linecolor\":\"white\",\"showbackground\":true,\"ticks\":\"\",\"zerolinecolor\":\"white\",\"gridwidth\":2}},\"shapedefaults\":{\"line\":{\"color\":\"#2a3f5f\"}},\"annotationdefaults\":{\"arrowcolor\":\"#2a3f5f\",\"arrowhead\":0,\"arrowwidth\":1},\"geo\":{\"bgcolor\":\"white\",\"landcolor\":\"#E5ECF6\",\"subunitcolor\":\"white\",\"showland\":true,\"showlakes\":true,\"lakecolor\":\"white\"},\"title\":{\"x\":0.05},\"mapbox\":{\"style\":\"light\"}}},\"geo\":{\"domain\":{\"x\":[0.0,1.0],\"y\":[0.0,1.0]},\"center\":{},\"scope\":\"usa\"},\"coloraxis\":{\"colorbar\":{\"title\":{\"text\":\"count\"}},\"colorscale\":[[0.0,\"#fde725\"],[0.1111111111111111,\"#b5de2b\"],[0.2222222222222222,\"#6ece58\"],[0.3333333333333333,\"#35b779\"],[0.4444444444444444,\"#1f9e89\"],[0.5555555555555556,\"#26828e\"],[0.6666666666666666,\"#31688e\"],[0.7777777777777778,\"#3e4989\"],[0.8888888888888888,\"#482878\"],[1.0,\"#440154\"]]},\"legend\":{\"tracegroupgap\":0},\"margin\":{\"t\":60},\"title\":{\"font\":{\"family\":\"Times New Roman\",\"size\":22,\"color\":\"black\"},\"text\":\"Total Number of complaints by State from 2011 to 2020\",\"x\":0.45}},                        {\"responsive\": true}                    ).then(function(){\n",
       "                            \n",
       "var gd = document.getElementById('0683b677-27df-42b0-abd4-ae89279ef6e9');\n",
       "var x = new MutationObserver(function (mutations, observer) {{\n",
       "        var display = window.getComputedStyle(gd).display;\n",
       "        if (!display || display === 'none') {{\n",
       "            console.log([gd, 'removed!']);\n",
       "            Plotly.purge(gd);\n",
       "            observer.disconnect();\n",
       "        }}\n",
       "}});\n",
       "\n",
       "// Listen for the removal of the full notebook cells\n",
       "var notebookContainer = gd.closest('#notebook-container');\n",
       "if (notebookContainer) {{\n",
       "    x.observe(notebookContainer, {childList: true});\n",
       "}}\n",
       "\n",
       "// Listen for the clearing of the current output cell\n",
       "var outputEl = gd.closest('.output');\n",
       "if (outputEl) {{\n",
       "    x.observe(outputEl, {childList: true});\n",
       "}}\n",
       "\n",
       "                        })                };                });            </script>        </div>"
      ]
     },
     "metadata": {},
     "output_type": "display_data"
    }
   ],
   "source": [
    "import plotly.express as px\n",
    "fig = px.choropleth(statewise_complaints_count.toPandas(),\n",
    "                    locations='state', \n",
    "                    locationmode=\"USA-states\", \n",
    "                    scope=\"usa\",\n",
    "                    color='count',\n",
    "                    color_continuous_scale=\"Viridis_r\", \n",
    "                   )\n",
    "\n",
    "fig.update_layout(\n",
    "      title_text = 'Total Number of complaints by State from 2011 to 2020',\n",
    "      title_font_family=\"Times New Roman\",\n",
    "      title_font_size = 22,\n",
    "      title_font_color=\"black\", \n",
    "      title_x=0.45, \n",
    "         )\n",
    "\n",
    "\n",
    "fig.show()"
   ]
  },
  {
   "cell_type": "code",
   "execution_count": 47,
   "id": "8b0e83d0",
   "metadata": {},
   "outputs": [
    {
     "name": "stderr",
     "output_type": "stream",
     "text": [
      "\r",
      "[Stage 94:>                                                         (0 + 1) / 1]\r"
     ]
    },
    {
     "name": "stdout",
     "output_type": "stream",
     "text": [
      "+-----+----+-----+\n",
      "|state|year|count|\n",
      "+-----+----+-----+\n",
      "|SC   |2011|21   |\n",
      "|LA   |2011|12   |\n",
      "|NE   |2011|4    |\n",
      "|IA   |2011|13   |\n",
      "|GA   |2011|99   |\n",
      "|DC   |2011|11   |\n",
      "|WA   |2011|64   |\n",
      "|WI   |2011|24   |\n",
      "|KS   |2011|15   |\n",
      "|ND   |2011|1    |\n",
      "|HI   |2011|13   |\n",
      "|DE   |2011|15   |\n",
      "|AK   |2011|5    |\n",
      "|AR   |2011|9    |\n",
      "|MA   |2011|71   |\n",
      "|WV   |2011|7    |\n",
      "|RI   |2011|10   |\n",
      "|SD   |2011|10   |\n",
      "|OH   |2011|69   |\n",
      "|TN   |2011|37   |\n",
      "+-----+----+-----+\n",
      "only showing top 20 rows\n",
      "\n"
     ]
    },
    {
     "name": "stderr",
     "output_type": "stream",
     "text": [
      "\r",
      "                                                                                \r"
     ]
    }
   ],
   "source": [
    "statewise_complaints_per_year_count = complaints_df.groupBy([\"state\", year(\"date_received\").alias('year')])\\\n",
    "                                    .agg(count(\"*\").alias(\"count\"))\\\n",
    "                                    .sort(\"year\")\n",
    "\n",
    "statewise_complaints_per_year_count.show(truncate=False)"
   ]
  },
  {
   "cell_type": "code",
   "execution_count": 66,
   "id": "7d38c7f1",
   "metadata": {},
   "outputs": [
    {
     "data": {
      "application/vnd.plotly.v1+json": {
       "config": {
        "plotlyServerURL": "https://plot.ly"
       },
       "data": [
        {
         "coloraxis": "coloraxis",
         "geo": "geo",
         "hovertemplate": "year=2011<br>state=%{location}<br>count=%{z}<extra></extra>",
         "locationmode": "USA-states",
         "locations": [
          "MT",
          "IA",
          "TN",
          "DC",
          "NV",
          "WI",
          "MO",
          "OR",
          "DE",
          "IN",
          "AR",
          "IL",
          "WV",
          "OK",
          "ND",
          "SC",
          "NE",
          "GA",
          "WA",
          "KS",
          "HI",
          "AK",
          "MA",
          "RI",
          "",
          "SD",
          "OH",
          "FL",
          "MS",
          "AL",
          "UT",
          "PA",
          "NY",
          "KY",
          "NH",
          "LA",
          "ME",
          "PR",
          "MD",
          "NC",
          "NJ",
          "CA",
          "VA",
          "CO",
          "ID",
          "AZ",
          "WY",
          "VT",
          "MI",
          "NM",
          "CT",
          "MN",
          "TX"
         ],
         "name": "",
         "type": "choropleth",
         "z": [
          7,
          13,
          37,
          11,
          18,
          24,
          31,
          29,
          15,
          25,
          9,
          82,
          7,
          14,
          1,
          21,
          4,
          99,
          64,
          15,
          13,
          5,
          71,
          10,
          15,
          10,
          69,
          246,
          7,
          18,
          10,
          85,
          208,
          12,
          13,
          12,
          16,
          18,
          68,
          71,
          89,
          439,
          88,
          49,
          6,
          53,
          2,
          4,
          67,
          6,
          42,
          41,
          147
         ]
        }
       ],
       "frames": [
        {
         "data": [
          {
           "coloraxis": "coloraxis",
           "geo": "geo",
           "hovertemplate": "year=2011<br>state=%{location}<br>count=%{z}<extra></extra>",
           "locationmode": "USA-states",
           "locations": [
            "MT",
            "IA",
            "TN",
            "DC",
            "NV",
            "WI",
            "MO",
            "OR",
            "DE",
            "IN",
            "AR",
            "IL",
            "WV",
            "OK",
            "ND",
            "SC",
            "NE",
            "GA",
            "WA",
            "KS",
            "HI",
            "AK",
            "MA",
            "RI",
            "",
            "SD",
            "OH",
            "FL",
            "MS",
            "AL",
            "UT",
            "PA",
            "NY",
            "KY",
            "NH",
            "LA",
            "ME",
            "PR",
            "MD",
            "NC",
            "NJ",
            "CA",
            "VA",
            "CO",
            "ID",
            "AZ",
            "WY",
            "VT",
            "MI",
            "NM",
            "CT",
            "MN",
            "TX"
           ],
           "name": "",
           "type": "choropleth",
           "z": [
            7,
            13,
            37,
            11,
            18,
            24,
            31,
            29,
            15,
            25,
            9,
            82,
            7,
            14,
            1,
            21,
            4,
            99,
            64,
            15,
            13,
            5,
            71,
            10,
            15,
            10,
            69,
            246,
            7,
            18,
            10,
            85,
            208,
            12,
            13,
            12,
            16,
            18,
            68,
            71,
            89,
            439,
            88,
            49,
            6,
            53,
            2,
            4,
            67,
            6,
            42,
            41,
            147
           ]
          }
         ],
         "name": "2011"
        },
        {
         "data": [
          {
           "coloraxis": "coloraxis",
           "geo": "geo",
           "hovertemplate": "year=2012<br>state=%{location}<br>count=%{z}<extra></extra>",
           "locationmode": "USA-states",
           "locations": [
            "WV",
            "AS",
            "",
            "IL",
            "GA",
            "AE",
            "MN",
            "MT",
            "OH",
            "WY",
            "UT",
            "MD",
            "TX",
            "MH",
            "MA",
            "PW",
            "WI",
            "TN",
            "VA",
            "RI",
            "SD",
            "WA",
            "KY",
            "CA",
            "CT",
            "ND",
            "AK",
            "AL",
            "NE",
            "DC",
            "KS",
            "VI",
            "NH",
            "NJ",
            "MO",
            "MP",
            "AP",
            "IA",
            "MS",
            "ID",
            "HI",
            "ME",
            "DE",
            "NV",
            "VT",
            "PR",
            "NY",
            "OR",
            "LA",
            "FL",
            "PA",
            "CO",
            "AZ",
            "FM",
            "SC",
            "IN",
            "OK",
            "NC",
            "NM",
            "AR",
            "GU",
            "MI"
           ],
           "name": "",
           "type": "choropleth",
           "z": [
            186,
            2,
            615,
            2592,
            3356,
            25,
            935,
            121,
            2375,
            72,
            323,
            2570,
            3643,
            2,
            1849,
            2,
            846,
            933,
            2168,
            270,
            87,
            1449,
            448,
            11673,
            1042,
            40,
            78,
            583,
            237,
            395,
            333,
            12,
            631,
            2989,
            946,
            2,
            13,
            275,
            264,
            258,
            234,
            314,
            393,
            732,
            158,
            130,
            5446,
            826,
            519,
            6993,
            2456,
            1217,
            1704,
            2,
            718,
            711,
            376,
            1965,
            305,
            264,
            8,
            2262
           ]
          }
         ],
         "name": "2012"
        },
        {
         "data": [
          {
           "coloraxis": "coloraxis",
           "geo": "geo",
           "hovertemplate": "year=2013<br>state=%{location}<br>count=%{z}<extra></extra>",
           "locationmode": "USA-states",
           "locations": [
            "AZ",
            "MI",
            "PR",
            "SC",
            "NM",
            "VA",
            "IA",
            "CA",
            "FM",
            "WA",
            "ND",
            "VT",
            "HI",
            "MP",
            "MN",
            "WI",
            "AA",
            "TN",
            "NE",
            "FL",
            "GA",
            "WV",
            "NV",
            "ID",
            "GU",
            "OK",
            "VI",
            "AL",
            "",
            "UT",
            "AP",
            "TX",
            "OR",
            "MO",
            "WY",
            "KS",
            "LA",
            "NY",
            "IN",
            "MD",
            "PW",
            "NJ",
            "MT",
            "MH",
            "RI",
            "SD",
            "PA",
            "CO",
            "NC",
            "OH",
            "NH",
            "MA",
            "AR",
            "CT",
            "DE",
            "ME",
            "DC",
            "AS",
            "KY",
            "MS",
            "AE",
            "AK",
            "IL"
           ],
           "name": "",
           "type": "choropleth",
           "z": [
            2435,
            3215,
            215,
            1237,
            533,
            3417,
            402,
            16971,
            9,
            2234,
            69,
            179,
            352,
            5,
            1292,
            1202,
            4,
            1548,
            316,
            10686,
            4890,
            259,
            1173,
            355,
            8,
            625,
            21,
            977,
            1053,
            533,
            28,
            7105,
            1256,
            1371,
            101,
            474,
            951,
            7432,
            1143,
            3635,
            3,
            4521,
            166,
            7,
            344,
            123,
            3942,
            1842,
            3009,
            3279,
            617,
            2255,
            452,
            1333,
            559,
            360,
            678,
            4,
            738,
            422,
            44,
            150,
            3658
           ]
          }
         ],
         "name": "2013"
        },
        {
         "data": [
          {
           "coloraxis": "coloraxis",
           "geo": "geo",
           "hovertemplate": "year=2014<br>state=%{location}<br>count=%{z}<extra></extra>",
           "locationmode": "USA-states",
           "locations": [
            "HI",
            "AP",
            "FL",
            "MN",
            "MD",
            "FM",
            "MA",
            "PW",
            "IA",
            "VI",
            "SC",
            "TX",
            "MT",
            "AZ",
            "MP",
            "ME",
            "NE",
            "VT",
            "ND",
            "DC",
            "CA",
            "MS",
            "AR",
            "GU",
            "NV",
            "NY",
            "",
            "RI",
            "VA",
            "PA",
            "ID",
            "KS",
            "MI",
            "WY",
            "IL",
            "AE",
            "KY",
            "PR",
            "OK",
            "NC",
            "DE",
            "CT",
            "NJ",
            "GA",
            "AL",
            "TN",
            "AK",
            "WI",
            "LA",
            "WV",
            "CO",
            "MH",
            "OR",
            "AS",
            "MO",
            "IN",
            "SD",
            "AA",
            "NH",
            "UT",
            "NM",
            "WA",
            "OH"
           ],
           "name": "",
           "type": "choropleth",
           "z": [
            642,
            48,
            14694,
            1666,
            4694,
            8,
            2855,
            3,
            675,
            35,
            1967,
            13144,
            266,
            3235,
            8,
            481,
            494,
            252,
            155,
            863,
            21442,
            767,
            689,
            19,
            1925,
            10104,
            1001,
            609,
            5284,
            5551,
            483,
            750,
            3812,
            176,
            5365,
            59,
            1132,
            470,
            1125,
            4265,
            846,
            1729,
            6205,
            6274,
            1557,
            2299,
            182,
            1739,
            1587,
            407,
            2660,
            9,
            1843,
            5,
            2098,
            1806,
            243,
            3,
            695,
            896,
            778,
            3206,
            4754
           ]
          }
         ],
         "name": "2014"
        },
        {
         "data": [
          {
           "coloraxis": "coloraxis",
           "geo": "geo",
           "hovertemplate": "year=2015<br>state=%{location}<br>count=%{z}<extra></extra>",
           "locationmode": "USA-states",
           "locations": [
            "GA",
            "RI",
            "TN",
            "OH",
            "AS",
            "OK",
            "AR",
            "CO",
            "NE",
            "MP",
            "IN",
            "CT",
            "PA",
            "MN",
            "NC",
            "DC",
            "VT",
            "IA",
            "SC",
            "NH",
            "MT",
            "HI",
            "NY",
            "NM",
            "VI",
            "ID",
            "NV",
            "GU",
            "MH",
            "ME",
            "TX",
            "PR",
            "PW",
            "WA",
            "AE",
            "ND",
            "LA",
            "OR",
            "MD",
            "IL",
            "KS",
            "CA",
            "AL",
            "AK",
            "VA",
            "AZ",
            "KY",
            "WV",
            "MI",
            "FM",
            "MO",
            "DE",
            "AA",
            "MS",
            "WY",
            "MA",
            "UT",
            "WI",
            "NJ",
            "",
            "AP",
            "FL",
            "SD"
           ],
           "name": "",
           "type": "choropleth",
           "z": [
            7542,
            521,
            2782,
            5374,
            3,
            1160,
            764,
            2847,
            529,
            3,
            1863,
            1789,
            6214,
            1898,
            4832,
            978,
            275,
            685,
            2327,
            661,
            263,
            540,
            11576,
            851,
            51,
            641,
            2308,
            28,
            6,
            608,
            13314,
            552,
            2,
            3533,
            81,
            152,
            1787,
            2071,
            5151,
            6135,
            840,
            23815,
            1983,
            167,
            5512,
            3829,
            1271,
            461,
            3979,
            10,
            2149,
            876,
            1,
            871,
            160,
            3152,
            894,
            1817,
            6645,
            1144,
            54,
            15910,
            229
           ]
          }
         ],
         "name": "2015"
        },
        {
         "data": [
          {
           "coloraxis": "coloraxis",
           "geo": "geo",
           "hovertemplate": "year=2016<br>state=%{location}<br>count=%{z}<extra></extra>",
           "locationmode": "USA-states",
           "locations": [
            "GA",
            "AK",
            "NJ",
            "TN",
            "CT",
            "MN",
            "ME",
            "MI",
            "PW",
            "TX",
            "WV",
            "MS",
            "MT",
            "WY",
            "FM",
            "GU",
            "VI",
            "LA",
            "UT",
            "SC",
            "MO",
            "NV",
            "OK",
            "ND",
            "DE",
            "OH",
            "KS",
            "RI",
            "AL",
            "MP",
            "AA",
            "MD",
            "HI",
            "FL",
            "KY",
            "AS",
            "",
            "CA",
            "NE",
            "WI",
            "MH",
            "CO",
            "NC",
            "AZ",
            "AE",
            "VT",
            "VA",
            "IN",
            "SD",
            "ID",
            "NM",
            "IL",
            "DC",
            "AP",
            "PR",
            "PA",
            "NY",
            "NH",
            "IA",
            "WA",
            "OR",
            "AR",
            "MA"
           ],
           "name": "",
           "type": "choropleth",
           "z": [
            9828,
            220,
            7476,
            3107,
            2158,
            2213,
            510,
            4136,
            2,
            15591,
            468,
            955,
            307,
            178,
            14,
            28,
            56,
            2168,
            1098,
            2582,
            2600,
            2440,
            1323,
            192,
            876,
            5555,
            952,
            482,
            2099,
            8,
            5,
            5817,
            584,
            18523,
            1343,
            7,
            1327,
            26881,
            557,
            1831,
            5,
            3466,
            5424,
            4423,
            73,
            256,
            6019,
            2126,
            248,
            660,
            1013,
            7455,
            1148,
            45,
            553,
            6704,
            13340,
            695,
            920,
            3983,
            2236,
            812,
            3356
           ]
          }
         ],
         "name": "2016"
        },
        {
         "data": [
          {
           "coloraxis": "coloraxis",
           "geo": "geo",
           "hovertemplate": "year=2017<br>state=%{location}<br>count=%{z}<extra></extra>",
           "locationmode": "USA-states",
           "locations": [
            "AS",
            "MI",
            "DE",
            "WY",
            "WA",
            "NV",
            "NJ",
            "IA",
            "VA",
            "OR",
            "NE",
            "AK",
            "VT",
            "AR",
            "MT",
            "WI",
            "RI",
            "NY",
            "IL",
            "TX",
            "MA",
            "NM",
            "KS",
            "LA",
            "PR",
            "MH",
            "SC",
            "MD",
            "GA",
            "AE",
            "TN",
            "PW",
            "UT",
            "PA",
            "ID",
            "WV",
            "CO",
            "VI",
            "AA",
            "AZ",
            "MP",
            "ND",
            "KY",
            "OH",
            "CA",
            "",
            "GU",
            "NH",
            "NC",
            "FM",
            "AL",
            "AP",
            "OK",
            "DC",
            "MO",
            "CT",
            "MN",
            "ME",
            "IN",
            "SD",
            "MS",
            "HI",
            "FL"
           ],
           "name": "",
           "type": "choropleth",
           "z": [
            4,
            5471,
            1189,
            179,
            4752,
            2930,
            8253,
            937,
            6618,
            2290,
            737,
            237,
            293,
            1255,
            375,
            2561,
            628,
            15171,
            10005,
            22305,
            4162,
            963,
            1317,
            3425,
            481,
            1,
            4181,
            6770,
            14743,
            97,
            4384,
            1,
            1497,
            7804,
            637,
            593,
            3837,
            27,
            2,
            5032,
            5,
            332,
            1898,
            7110,
            31610,
            3973,
            56,
            674,
            8220,
            5,
            3028,
            79,
            1506,
            1223,
            3363,
            2824,
            2406,
            669,
            3089,
            320,
            1512,
            636,
            22249
           ]
          }
         ],
         "name": "2017"
        },
        {
         "data": [
          {
           "coloraxis": "coloraxis",
           "geo": "geo",
           "hovertemplate": "year=2018<br>state=%{location}<br>count=%{z}<extra></extra>",
           "locationmode": "USA-states",
           "locations": [
            "IA",
            "MD",
            "MI",
            "HI",
            "WA",
            "NE",
            "AS",
            "LA",
            "AE",
            "PR",
            "KS",
            "ID",
            "ME",
            "RI",
            "VA",
            "AP",
            "WI",
            "UT",
            "WY",
            "KY",
            "IL",
            "NC",
            "NY",
            "TN",
            "GU",
            "",
            "AR",
            "SD",
            "ND",
            "AZ",
            "TX",
            "AA",
            "MP",
            "NM",
            "SC",
            "DE",
            "OR",
            "MS",
            "NV",
            "DC",
            "UNITED STATES MINOR OUTLYING ISLANDS",
            "CT",
            "VT",
            "CO",
            "AL",
            "GA",
            "MT",
            "MN",
            "VI",
            "MA",
            "OH",
            "PA",
            "NH",
            "FL",
            "IN",
            "MO",
            "FM",
            "NJ",
            "AK",
            "WV",
            "OK",
            "CA"
           ],
           "name": "",
           "type": "choropleth",
           "z": [
            804,
            5978,
            5519,
            727,
            3956,
            556,
            2,
            3620,
            96,
            566,
            1092,
            597,
            504,
            652,
            6202,
            65,
            2381,
            1730,
            187,
            1618,
            11260,
            9072,
            17099,
            4456,
            32,
            7487,
            1501,
            216,
            223,
            5063,
            24233,
            9,
            1,
            881,
            4732,
            1081,
            1837,
            1966,
            3309,
            1188,
            25,
            2423,
            207,
            3430,
            3146,
            15322,
            360,
            2192,
            22,
            3857,
            7461,
            8508,
            645,
            26491,
            2814,
            4006,
            67,
            8903,
            271,
            508,
            1504,
            32592
           ]
          }
         ],
         "name": "2018"
        },
        {
         "data": [
          {
           "coloraxis": "coloraxis",
           "geo": "geo",
           "hovertemplate": "year=2019<br>state=%{location}<br>count=%{z}<extra></extra>",
           "locationmode": "USA-states",
           "locations": [
            "FL",
            "GU",
            "OH",
            "UT",
            "SD",
            "ID",
            "PA",
            "AP",
            "TX",
            "WI",
            "AE",
            "CT",
            "VT",
            "NH",
            "UNITED STATES MINOR OUTLYING ISLANDS",
            "KY",
            "AZ",
            "ND",
            "MI",
            "MS",
            "LA",
            "RI",
            "VA",
            "OK",
            "MH",
            "PR",
            "MT",
            "IA",
            "IL",
            "NE",
            "NV",
            "MA",
            "MP",
            "MO",
            "WV",
            "MD",
            "NY",
            "GA",
            "NM",
            "AS",
            "AA",
            "WY",
            "NJ",
            "IN",
            "HI",
            "NC",
            "AK",
            "WA",
            "DC",
            "SC",
            "MN",
            "AL",
            "CA",
            "",
            "ME",
            "TN",
            "DE",
            "AR",
            "KS",
            "CO",
            "OR",
            "VI"
           ],
           "name": "",
           "type": "choropleth",
           "z": [
            35118,
            24,
            7579,
            2759,
            216,
            669,
            9160,
            55,
            25600,
            2331,
            62,
            2767,
            211,
            599,
            23,
            1544,
            4883,
            221,
            5684,
            1725,
            4137,
            633,
            6365,
            1398,
            1,
            652,
            372,
            928,
            9952,
            547,
            4424,
            4047,
            2,
            4422,
            488,
            5862,
            20338,
            16532,
            914,
            2,
            1,
            289,
            8695,
            2654,
            736,
            8590,
            223,
            3968,
            1306,
            4896,
            2394,
            4047,
            34014,
            7898,
            424,
            4731,
            1096,
            1412,
            1193,
            3576,
            1901,
            34
           ]
          }
         ],
         "name": "2019"
        },
        {
         "data": [
          {
           "coloraxis": "coloraxis",
           "geo": "geo",
           "hovertemplate": "year=2020<br>state=%{location}<br>count=%{z}<extra></extra>",
           "locationmode": "USA-states",
           "locations": [
            "TN",
            "AE",
            "DC",
            "GU",
            "IN",
            "ME",
            "AA",
            "VI",
            "IL",
            "WY",
            "AK",
            "NV",
            "MA",
            "MN",
            "OR",
            "CO",
            "RI",
            "AZ",
            "NM",
            "AS",
            "OK",
            "MO",
            "NE",
            "GA",
            "OH",
            "KS",
            "WA",
            "HI",
            "NC",
            "FL",
            "MT",
            "PA",
            "ND",
            "AP",
            "AR",
            "WI",
            "UNITED STATES MINOR OUTLYING ISLANDS",
            "IA",
            "PR",
            "NH",
            "MI",
            "KY",
            "",
            "VT",
            "LA",
            "DE",
            "VA",
            "CT",
            "TX",
            "CA",
            "NJ",
            "UT",
            "ID",
            "AL",
            "WV",
            "SC",
            "SD",
            "MS",
            "NY",
            "MD"
           ],
           "name": "",
           "type": "choropleth",
           "z": [
            11221,
            91,
            1742,
            15,
            3692,
            502,
            11,
            77,
            14602,
            256,
            397,
            6346,
            7378,
            3216,
            2210,
            4485,
            811,
            6615,
            1006,
            3,
            2019,
            5055,
            670,
            26873,
            10375,
            1262,
            5074,
            908,
            12503,
            58143,
            396,
            20371,
            221,
            48,
            7612,
            2718,
            54,
            1043,
            1233,
            642,
            7743,
            2014,
            8090,
            233,
            7077,
            2010,
            9181,
            3389,
            49337,
            54047,
            14225,
            3056,
            734,
            10814,
            530,
            7516,
            241,
            3354,
            29184,
            9658
           ]
          }
         ],
         "name": "2020"
        },
        {
         "data": [
          {
           "coloraxis": "coloraxis",
           "geo": "geo",
           "hovertemplate": "year=2021<br>state=%{location}<br>count=%{z}<extra></extra>",
           "locationmode": "USA-states",
           "locations": [
            "MT",
            "UNITED STATES MINOR OUTLYING ISLANDS",
            "KY",
            "CA",
            "PA",
            "MS",
            "MI",
            "AL",
            "KS",
            "WI",
            "RI",
            "MP",
            "AP",
            "VT",
            "TX",
            "MH",
            "NM",
            "NE",
            "MD",
            "ID",
            "GA",
            "OK",
            "DC",
            "AE",
            "",
            "OH",
            "AA",
            "MO",
            "IL",
            "AZ",
            "ME",
            "NC",
            "AR",
            "ND",
            "OR",
            "MA",
            "CO",
            "NH",
            "MN",
            "SD",
            "GU",
            "WY",
            "UT",
            "IN",
            "AK",
            "WV",
            "NV",
            "TN",
            "VA",
            "SC",
            "IA",
            "NJ",
            "WA",
            "LA",
            "HI",
            "VI",
            "CT",
            "NY",
            "PR",
            "FL",
            "DE"
           ],
           "name": "",
           "type": "choropleth",
           "z": [
            432,
            108,
            2187,
            56641,
            28823,
            4634,
            10061,
            11729,
            1560,
            3332,
            1042,
            4,
            50,
            261,
            53224,
            2,
            1122,
            738,
            14033,
            731,
            34553,
            2403,
            2084,
            86,
            5769,
            13241,
            12,
            5343,
            18164,
            7901,
            554,
            14685,
            2394,
            242,
            2538,
            8333,
            4737,
            688,
            3542,
            269,
            17,
            229,
            2466,
            4287,
            386,
            761,
            6544,
            12015,
            11434,
            10406,
            1462,
            17064,
            5571,
            11295,
            762,
            119,
            3778,
            31836,
            1489,
            53200,
            2646
           ]
          }
         ],
         "name": "2021"
        },
        {
         "data": [
          {
           "coloraxis": "coloraxis",
           "geo": "geo",
           "hovertemplate": "year=2022<br>state=%{location}<br>count=%{z}<extra></extra>",
           "locationmode": "USA-states",
           "locations": [
            "DE",
            "NJ",
            "VT",
            "AE",
            "GU",
            "CA",
            "OR",
            "AK",
            "KY",
            "AZ",
            "KS",
            "CT",
            "HI",
            "WI",
            "ME",
            "MT",
            "SC",
            "LA",
            "NY",
            "VI",
            "TX",
            "",
            "SD",
            "MS",
            "MI",
            "AR",
            "AA",
            "IN",
            "VA",
            "NM",
            "OH",
            "NV",
            "UT",
            "CO",
            "WY",
            "MD",
            "FL",
            "UNITED STATES MINOR OUTLYING ISLANDS",
            "IL",
            "NE",
            "AP",
            "OK",
            "ID",
            "TN",
            "GA",
            "NH",
            "MO",
            "RI",
            "MP",
            "WV",
            "WA",
            "PR",
            "AS",
            "AL",
            "IA",
            "DC",
            "ND",
            "NC",
            "PA",
            "MA",
            "MN"
           ],
           "name": "",
           "type": "choropleth",
           "z": [
            4268,
            22330,
            315,
            191,
            24,
            71264,
            3065,
            535,
            3491,
            12148,
            2079,
            5280,
            1128,
            5574,
            798,
            634,
            14340,
            13235,
            42743,
            139,
            77646,
            1752,
            388,
            7901,
            17465,
            4377,
            2,
            7594,
            17571,
            1542,
            16868,
            10403,
            2567,
            5970,
            296,
            19680,
            88060,
            54,
            29906,
            1076,
            102,
            3837,
            938,
            13551,
            57176,
            907,
            9157,
            1487,
            6,
            932,
            6292,
            1594,
            6,
            17808,
            1835,
            2658,
            426,
            26063,
            41668,
            7988,
            4708
           ]
          }
         ],
         "name": "2022"
        }
       ],
       "layout": {
        "coloraxis": {
         "colorbar": {
          "title": {
           "text": "count"
          }
         },
         "colorscale": [
          [
           0,
           "#fde725"
          ],
          [
           0.1111111111111111,
           "#b5de2b"
          ],
          [
           0.2222222222222222,
           "#6ece58"
          ],
          [
           0.3333333333333333,
           "#35b779"
          ],
          [
           0.4444444444444444,
           "#1f9e89"
          ],
          [
           0.5555555555555556,
           "#26828e"
          ],
          [
           0.6666666666666666,
           "#31688e"
          ],
          [
           0.7777777777777778,
           "#3e4989"
          ],
          [
           0.8888888888888888,
           "#482878"
          ],
          [
           1,
           "#440154"
          ]
         ]
        },
        "geo": {
         "center": {},
         "domain": {
          "x": [
           0,
           1
          ],
          "y": [
           0,
           1
          ]
         },
         "scope": "usa"
        },
        "legend": {
         "tracegroupgap": 0
        },
        "margin": {
         "t": 60
        },
        "sliders": [
         {
          "active": 0,
          "currentvalue": {
           "prefix": "year="
          },
          "len": 0.9,
          "pad": {
           "b": 10,
           "t": 60
          },
          "steps": [
           {
            "args": [
             [
              "2011"
             ],
             {
              "frame": {
               "duration": 0,
               "redraw": true
              },
              "fromcurrent": true,
              "mode": "immediate",
              "transition": {
               "duration": 0,
               "easing": "linear"
              }
             }
            ],
            "label": "2011",
            "method": "animate"
           },
           {
            "args": [
             [
              "2012"
             ],
             {
              "frame": {
               "duration": 0,
               "redraw": true
              },
              "fromcurrent": true,
              "mode": "immediate",
              "transition": {
               "duration": 0,
               "easing": "linear"
              }
             }
            ],
            "label": "2012",
            "method": "animate"
           },
           {
            "args": [
             [
              "2013"
             ],
             {
              "frame": {
               "duration": 0,
               "redraw": true
              },
              "fromcurrent": true,
              "mode": "immediate",
              "transition": {
               "duration": 0,
               "easing": "linear"
              }
             }
            ],
            "label": "2013",
            "method": "animate"
           },
           {
            "args": [
             [
              "2014"
             ],
             {
              "frame": {
               "duration": 0,
               "redraw": true
              },
              "fromcurrent": true,
              "mode": "immediate",
              "transition": {
               "duration": 0,
               "easing": "linear"
              }
             }
            ],
            "label": "2014",
            "method": "animate"
           },
           {
            "args": [
             [
              "2015"
             ],
             {
              "frame": {
               "duration": 0,
               "redraw": true
              },
              "fromcurrent": true,
              "mode": "immediate",
              "transition": {
               "duration": 0,
               "easing": "linear"
              }
             }
            ],
            "label": "2015",
            "method": "animate"
           },
           {
            "args": [
             [
              "2016"
             ],
             {
              "frame": {
               "duration": 0,
               "redraw": true
              },
              "fromcurrent": true,
              "mode": "immediate",
              "transition": {
               "duration": 0,
               "easing": "linear"
              }
             }
            ],
            "label": "2016",
            "method": "animate"
           },
           {
            "args": [
             [
              "2017"
             ],
             {
              "frame": {
               "duration": 0,
               "redraw": true
              },
              "fromcurrent": true,
              "mode": "immediate",
              "transition": {
               "duration": 0,
               "easing": "linear"
              }
             }
            ],
            "label": "2017",
            "method": "animate"
           },
           {
            "args": [
             [
              "2018"
             ],
             {
              "frame": {
               "duration": 0,
               "redraw": true
              },
              "fromcurrent": true,
              "mode": "immediate",
              "transition": {
               "duration": 0,
               "easing": "linear"
              }
             }
            ],
            "label": "2018",
            "method": "animate"
           },
           {
            "args": [
             [
              "2019"
             ],
             {
              "frame": {
               "duration": 0,
               "redraw": true
              },
              "fromcurrent": true,
              "mode": "immediate",
              "transition": {
               "duration": 0,
               "easing": "linear"
              }
             }
            ],
            "label": "2019",
            "method": "animate"
           },
           {
            "args": [
             [
              "2020"
             ],
             {
              "frame": {
               "duration": 0,
               "redraw": true
              },
              "fromcurrent": true,
              "mode": "immediate",
              "transition": {
               "duration": 0,
               "easing": "linear"
              }
             }
            ],
            "label": "2020",
            "method": "animate"
           },
           {
            "args": [
             [
              "2021"
             ],
             {
              "frame": {
               "duration": 0,
               "redraw": true
              },
              "fromcurrent": true,
              "mode": "immediate",
              "transition": {
               "duration": 0,
               "easing": "linear"
              }
             }
            ],
            "label": "2021",
            "method": "animate"
           },
           {
            "args": [
             [
              "2022"
             ],
             {
              "frame": {
               "duration": 0,
               "redraw": true
              },
              "fromcurrent": true,
              "mode": "immediate",
              "transition": {
               "duration": 0,
               "easing": "linear"
              }
             }
            ],
            "label": "2022",
            "method": "animate"
           }
          ],
          "x": 0.1,
          "xanchor": "left",
          "y": 0,
          "yanchor": "top"
         }
        ],
        "template": {
         "data": {
          "bar": [
           {
            "error_x": {
             "color": "#2a3f5f"
            },
            "error_y": {
             "color": "#2a3f5f"
            },
            "marker": {
             "line": {
              "color": "#E5ECF6",
              "width": 0.5
             },
             "pattern": {
              "fillmode": "overlay",
              "size": 10,
              "solidity": 0.2
             }
            },
            "type": "bar"
           }
          ],
          "barpolar": [
           {
            "marker": {
             "line": {
              "color": "#E5ECF6",
              "width": 0.5
             },
             "pattern": {
              "fillmode": "overlay",
              "size": 10,
              "solidity": 0.2
             }
            },
            "type": "barpolar"
           }
          ],
          "carpet": [
           {
            "aaxis": {
             "endlinecolor": "#2a3f5f",
             "gridcolor": "white",
             "linecolor": "white",
             "minorgridcolor": "white",
             "startlinecolor": "#2a3f5f"
            },
            "baxis": {
             "endlinecolor": "#2a3f5f",
             "gridcolor": "white",
             "linecolor": "white",
             "minorgridcolor": "white",
             "startlinecolor": "#2a3f5f"
            },
            "type": "carpet"
           }
          ],
          "choropleth": [
           {
            "colorbar": {
             "outlinewidth": 0,
             "ticks": ""
            },
            "type": "choropleth"
           }
          ],
          "contour": [
           {
            "colorbar": {
             "outlinewidth": 0,
             "ticks": ""
            },
            "colorscale": [
             [
              0,
              "#0d0887"
             ],
             [
              0.1111111111111111,
              "#46039f"
             ],
             [
              0.2222222222222222,
              "#7201a8"
             ],
             [
              0.3333333333333333,
              "#9c179e"
             ],
             [
              0.4444444444444444,
              "#bd3786"
             ],
             [
              0.5555555555555556,
              "#d8576b"
             ],
             [
              0.6666666666666666,
              "#ed7953"
             ],
             [
              0.7777777777777778,
              "#fb9f3a"
             ],
             [
              0.8888888888888888,
              "#fdca26"
             ],
             [
              1,
              "#f0f921"
             ]
            ],
            "type": "contour"
           }
          ],
          "contourcarpet": [
           {
            "colorbar": {
             "outlinewidth": 0,
             "ticks": ""
            },
            "type": "contourcarpet"
           }
          ],
          "heatmap": [
           {
            "colorbar": {
             "outlinewidth": 0,
             "ticks": ""
            },
            "colorscale": [
             [
              0,
              "#0d0887"
             ],
             [
              0.1111111111111111,
              "#46039f"
             ],
             [
              0.2222222222222222,
              "#7201a8"
             ],
             [
              0.3333333333333333,
              "#9c179e"
             ],
             [
              0.4444444444444444,
              "#bd3786"
             ],
             [
              0.5555555555555556,
              "#d8576b"
             ],
             [
              0.6666666666666666,
              "#ed7953"
             ],
             [
              0.7777777777777778,
              "#fb9f3a"
             ],
             [
              0.8888888888888888,
              "#fdca26"
             ],
             [
              1,
              "#f0f921"
             ]
            ],
            "type": "heatmap"
           }
          ],
          "heatmapgl": [
           {
            "colorbar": {
             "outlinewidth": 0,
             "ticks": ""
            },
            "colorscale": [
             [
              0,
              "#0d0887"
             ],
             [
              0.1111111111111111,
              "#46039f"
             ],
             [
              0.2222222222222222,
              "#7201a8"
             ],
             [
              0.3333333333333333,
              "#9c179e"
             ],
             [
              0.4444444444444444,
              "#bd3786"
             ],
             [
              0.5555555555555556,
              "#d8576b"
             ],
             [
              0.6666666666666666,
              "#ed7953"
             ],
             [
              0.7777777777777778,
              "#fb9f3a"
             ],
             [
              0.8888888888888888,
              "#fdca26"
             ],
             [
              1,
              "#f0f921"
             ]
            ],
            "type": "heatmapgl"
           }
          ],
          "histogram": [
           {
            "marker": {
             "pattern": {
              "fillmode": "overlay",
              "size": 10,
              "solidity": 0.2
             }
            },
            "type": "histogram"
           }
          ],
          "histogram2d": [
           {
            "colorbar": {
             "outlinewidth": 0,
             "ticks": ""
            },
            "colorscale": [
             [
              0,
              "#0d0887"
             ],
             [
              0.1111111111111111,
              "#46039f"
             ],
             [
              0.2222222222222222,
              "#7201a8"
             ],
             [
              0.3333333333333333,
              "#9c179e"
             ],
             [
              0.4444444444444444,
              "#bd3786"
             ],
             [
              0.5555555555555556,
              "#d8576b"
             ],
             [
              0.6666666666666666,
              "#ed7953"
             ],
             [
              0.7777777777777778,
              "#fb9f3a"
             ],
             [
              0.8888888888888888,
              "#fdca26"
             ],
             [
              1,
              "#f0f921"
             ]
            ],
            "type": "histogram2d"
           }
          ],
          "histogram2dcontour": [
           {
            "colorbar": {
             "outlinewidth": 0,
             "ticks": ""
            },
            "colorscale": [
             [
              0,
              "#0d0887"
             ],
             [
              0.1111111111111111,
              "#46039f"
             ],
             [
              0.2222222222222222,
              "#7201a8"
             ],
             [
              0.3333333333333333,
              "#9c179e"
             ],
             [
              0.4444444444444444,
              "#bd3786"
             ],
             [
              0.5555555555555556,
              "#d8576b"
             ],
             [
              0.6666666666666666,
              "#ed7953"
             ],
             [
              0.7777777777777778,
              "#fb9f3a"
             ],
             [
              0.8888888888888888,
              "#fdca26"
             ],
             [
              1,
              "#f0f921"
             ]
            ],
            "type": "histogram2dcontour"
           }
          ],
          "mesh3d": [
           {
            "colorbar": {
             "outlinewidth": 0,
             "ticks": ""
            },
            "type": "mesh3d"
           }
          ],
          "parcoords": [
           {
            "line": {
             "colorbar": {
              "outlinewidth": 0,
              "ticks": ""
             }
            },
            "type": "parcoords"
           }
          ],
          "pie": [
           {
            "automargin": true,
            "type": "pie"
           }
          ],
          "scatter": [
           {
            "fillpattern": {
             "fillmode": "overlay",
             "size": 10,
             "solidity": 0.2
            },
            "type": "scatter"
           }
          ],
          "scatter3d": [
           {
            "line": {
             "colorbar": {
              "outlinewidth": 0,
              "ticks": ""
             }
            },
            "marker": {
             "colorbar": {
              "outlinewidth": 0,
              "ticks": ""
             }
            },
            "type": "scatter3d"
           }
          ],
          "scattercarpet": [
           {
            "marker": {
             "colorbar": {
              "outlinewidth": 0,
              "ticks": ""
             }
            },
            "type": "scattercarpet"
           }
          ],
          "scattergeo": [
           {
            "marker": {
             "colorbar": {
              "outlinewidth": 0,
              "ticks": ""
             }
            },
            "type": "scattergeo"
           }
          ],
          "scattergl": [
           {
            "marker": {
             "colorbar": {
              "outlinewidth": 0,
              "ticks": ""
             }
            },
            "type": "scattergl"
           }
          ],
          "scattermapbox": [
           {
            "marker": {
             "colorbar": {
              "outlinewidth": 0,
              "ticks": ""
             }
            },
            "type": "scattermapbox"
           }
          ],
          "scatterpolar": [
           {
            "marker": {
             "colorbar": {
              "outlinewidth": 0,
              "ticks": ""
             }
            },
            "type": "scatterpolar"
           }
          ],
          "scatterpolargl": [
           {
            "marker": {
             "colorbar": {
              "outlinewidth": 0,
              "ticks": ""
             }
            },
            "type": "scatterpolargl"
           }
          ],
          "scatterternary": [
           {
            "marker": {
             "colorbar": {
              "outlinewidth": 0,
              "ticks": ""
             }
            },
            "type": "scatterternary"
           }
          ],
          "surface": [
           {
            "colorbar": {
             "outlinewidth": 0,
             "ticks": ""
            },
            "colorscale": [
             [
              0,
              "#0d0887"
             ],
             [
              0.1111111111111111,
              "#46039f"
             ],
             [
              0.2222222222222222,
              "#7201a8"
             ],
             [
              0.3333333333333333,
              "#9c179e"
             ],
             [
              0.4444444444444444,
              "#bd3786"
             ],
             [
              0.5555555555555556,
              "#d8576b"
             ],
             [
              0.6666666666666666,
              "#ed7953"
             ],
             [
              0.7777777777777778,
              "#fb9f3a"
             ],
             [
              0.8888888888888888,
              "#fdca26"
             ],
             [
              1,
              "#f0f921"
             ]
            ],
            "type": "surface"
           }
          ],
          "table": [
           {
            "cells": {
             "fill": {
              "color": "#EBF0F8"
             },
             "line": {
              "color": "white"
             }
            },
            "header": {
             "fill": {
              "color": "#C8D4E3"
             },
             "line": {
              "color": "white"
             }
            },
            "type": "table"
           }
          ]
         },
         "layout": {
          "annotationdefaults": {
           "arrowcolor": "#2a3f5f",
           "arrowhead": 0,
           "arrowwidth": 1
          },
          "autotypenumbers": "strict",
          "coloraxis": {
           "colorbar": {
            "outlinewidth": 0,
            "ticks": ""
           }
          },
          "colorscale": {
           "diverging": [
            [
             0,
             "#8e0152"
            ],
            [
             0.1,
             "#c51b7d"
            ],
            [
             0.2,
             "#de77ae"
            ],
            [
             0.3,
             "#f1b6da"
            ],
            [
             0.4,
             "#fde0ef"
            ],
            [
             0.5,
             "#f7f7f7"
            ],
            [
             0.6,
             "#e6f5d0"
            ],
            [
             0.7,
             "#b8e186"
            ],
            [
             0.8,
             "#7fbc41"
            ],
            [
             0.9,
             "#4d9221"
            ],
            [
             1,
             "#276419"
            ]
           ],
           "sequential": [
            [
             0,
             "#0d0887"
            ],
            [
             0.1111111111111111,
             "#46039f"
            ],
            [
             0.2222222222222222,
             "#7201a8"
            ],
            [
             0.3333333333333333,
             "#9c179e"
            ],
            [
             0.4444444444444444,
             "#bd3786"
            ],
            [
             0.5555555555555556,
             "#d8576b"
            ],
            [
             0.6666666666666666,
             "#ed7953"
            ],
            [
             0.7777777777777778,
             "#fb9f3a"
            ],
            [
             0.8888888888888888,
             "#fdca26"
            ],
            [
             1,
             "#f0f921"
            ]
           ],
           "sequentialminus": [
            [
             0,
             "#0d0887"
            ],
            [
             0.1111111111111111,
             "#46039f"
            ],
            [
             0.2222222222222222,
             "#7201a8"
            ],
            [
             0.3333333333333333,
             "#9c179e"
            ],
            [
             0.4444444444444444,
             "#bd3786"
            ],
            [
             0.5555555555555556,
             "#d8576b"
            ],
            [
             0.6666666666666666,
             "#ed7953"
            ],
            [
             0.7777777777777778,
             "#fb9f3a"
            ],
            [
             0.8888888888888888,
             "#fdca26"
            ],
            [
             1,
             "#f0f921"
            ]
           ]
          },
          "colorway": [
           "#636efa",
           "#EF553B",
           "#00cc96",
           "#ab63fa",
           "#FFA15A",
           "#19d3f3",
           "#FF6692",
           "#B6E880",
           "#FF97FF",
           "#FECB52"
          ],
          "font": {
           "color": "#2a3f5f"
          },
          "geo": {
           "bgcolor": "white",
           "lakecolor": "white",
           "landcolor": "#E5ECF6",
           "showlakes": true,
           "showland": true,
           "subunitcolor": "white"
          },
          "hoverlabel": {
           "align": "left"
          },
          "hovermode": "closest",
          "mapbox": {
           "style": "light"
          },
          "paper_bgcolor": "white",
          "plot_bgcolor": "#E5ECF6",
          "polar": {
           "angularaxis": {
            "gridcolor": "white",
            "linecolor": "white",
            "ticks": ""
           },
           "bgcolor": "#E5ECF6",
           "radialaxis": {
            "gridcolor": "white",
            "linecolor": "white",
            "ticks": ""
           }
          },
          "scene": {
           "xaxis": {
            "backgroundcolor": "#E5ECF6",
            "gridcolor": "white",
            "gridwidth": 2,
            "linecolor": "white",
            "showbackground": true,
            "ticks": "",
            "zerolinecolor": "white"
           },
           "yaxis": {
            "backgroundcolor": "#E5ECF6",
            "gridcolor": "white",
            "gridwidth": 2,
            "linecolor": "white",
            "showbackground": true,
            "ticks": "",
            "zerolinecolor": "white"
           },
           "zaxis": {
            "backgroundcolor": "#E5ECF6",
            "gridcolor": "white",
            "gridwidth": 2,
            "linecolor": "white",
            "showbackground": true,
            "ticks": "",
            "zerolinecolor": "white"
           }
          },
          "shapedefaults": {
           "line": {
            "color": "#2a3f5f"
           }
          },
          "ternary": {
           "aaxis": {
            "gridcolor": "white",
            "linecolor": "white",
            "ticks": ""
           },
           "baxis": {
            "gridcolor": "white",
            "linecolor": "white",
            "ticks": ""
           },
           "bgcolor": "#E5ECF6",
           "caxis": {
            "gridcolor": "white",
            "linecolor": "white",
            "ticks": ""
           }
          },
          "title": {
           "x": 0.05
          },
          "xaxis": {
           "automargin": true,
           "gridcolor": "white",
           "linecolor": "white",
           "ticks": "",
           "title": {
            "standoff": 15
           },
           "zerolinecolor": "white",
           "zerolinewidth": 2
          },
          "yaxis": {
           "automargin": true,
           "gridcolor": "white",
           "linecolor": "white",
           "ticks": "",
           "title": {
            "standoff": 15
           },
           "zerolinecolor": "white",
           "zerolinewidth": 2
          }
         }
        },
        "title": {
         "font": {
          "color": "black",
          "family": "Times New Roman",
          "size": 22
         },
         "text": "Number of complaints per State over the years 2011 to 2020",
         "x": 0.45
        },
        "updatemenus": [
         {
          "buttons": [
           {
            "args": [
             null,
             {
              "frame": {
               "duration": 500,
               "redraw": true
              },
              "fromcurrent": true,
              "mode": "immediate",
              "transition": {
               "duration": 500,
               "easing": "linear"
              }
             }
            ],
            "label": "&#9654;",
            "method": "animate"
           },
           {
            "args": [
             [
              null
             ],
             {
              "frame": {
               "duration": 0,
               "redraw": true
              },
              "fromcurrent": true,
              "mode": "immediate",
              "transition": {
               "duration": 0,
               "easing": "linear"
              }
             }
            ],
            "label": "&#9724;",
            "method": "animate"
           }
          ],
          "direction": "left",
          "pad": {
           "r": 10,
           "t": 70
          },
          "showactive": false,
          "type": "buttons",
          "x": 0.1,
          "xanchor": "right",
          "y": 0,
          "yanchor": "top"
         }
        ]
       }
      },
      "text/html": [
       "<div>                            <div id=\"c01d1337-d676-48d0-96a3-e9538aaf81c4\" class=\"plotly-graph-div\" style=\"height:525px; width:100%;\"></div>            <script type=\"text/javascript\">                require([\"plotly\"], function(Plotly) {                    window.PLOTLYENV=window.PLOTLYENV || {};                                    if (document.getElementById(\"c01d1337-d676-48d0-96a3-e9538aaf81c4\")) {                    Plotly.newPlot(                        \"c01d1337-d676-48d0-96a3-e9538aaf81c4\",                        [{\"coloraxis\":\"coloraxis\",\"geo\":\"geo\",\"hovertemplate\":\"year=2011<br>state=%{location}<br>count=%{z}<extra></extra>\",\"locationmode\":\"USA-states\",\"locations\":[\"MT\",\"IA\",\"TN\",\"DC\",\"NV\",\"WI\",\"MO\",\"OR\",\"DE\",\"IN\",\"AR\",\"IL\",\"WV\",\"OK\",\"ND\",\"SC\",\"NE\",\"GA\",\"WA\",\"KS\",\"HI\",\"AK\",\"MA\",\"RI\",\"\",\"SD\",\"OH\",\"FL\",\"MS\",\"AL\",\"UT\",\"PA\",\"NY\",\"KY\",\"NH\",\"LA\",\"ME\",\"PR\",\"MD\",\"NC\",\"NJ\",\"CA\",\"VA\",\"CO\",\"ID\",\"AZ\",\"WY\",\"VT\",\"MI\",\"NM\",\"CT\",\"MN\",\"TX\"],\"name\":\"\",\"z\":[7,13,37,11,18,24,31,29,15,25,9,82,7,14,1,21,4,99,64,15,13,5,71,10,15,10,69,246,7,18,10,85,208,12,13,12,16,18,68,71,89,439,88,49,6,53,2,4,67,6,42,41,147],\"type\":\"choropleth\"}],                        {\"template\":{\"data\":{\"histogram2dcontour\":[{\"type\":\"histogram2dcontour\",\"colorbar\":{\"outlinewidth\":0,\"ticks\":\"\"},\"colorscale\":[[0.0,\"#0d0887\"],[0.1111111111111111,\"#46039f\"],[0.2222222222222222,\"#7201a8\"],[0.3333333333333333,\"#9c179e\"],[0.4444444444444444,\"#bd3786\"],[0.5555555555555556,\"#d8576b\"],[0.6666666666666666,\"#ed7953\"],[0.7777777777777778,\"#fb9f3a\"],[0.8888888888888888,\"#fdca26\"],[1.0,\"#f0f921\"]]}],\"choropleth\":[{\"type\":\"choropleth\",\"colorbar\":{\"outlinewidth\":0,\"ticks\":\"\"}}],\"histogram2d\":[{\"type\":\"histogram2d\",\"colorbar\":{\"outlinewidth\":0,\"ticks\":\"\"},\"colorscale\":[[0.0,\"#0d0887\"],[0.1111111111111111,\"#46039f\"],[0.2222222222222222,\"#7201a8\"],[0.3333333333333333,\"#9c179e\"],[0.4444444444444444,\"#bd3786\"],[0.5555555555555556,\"#d8576b\"],[0.6666666666666666,\"#ed7953\"],[0.7777777777777778,\"#fb9f3a\"],[0.8888888888888888,\"#fdca26\"],[1.0,\"#f0f921\"]]}],\"heatmap\":[{\"type\":\"heatmap\",\"colorbar\":{\"outlinewidth\":0,\"ticks\":\"\"},\"colorscale\":[[0.0,\"#0d0887\"],[0.1111111111111111,\"#46039f\"],[0.2222222222222222,\"#7201a8\"],[0.3333333333333333,\"#9c179e\"],[0.4444444444444444,\"#bd3786\"],[0.5555555555555556,\"#d8576b\"],[0.6666666666666666,\"#ed7953\"],[0.7777777777777778,\"#fb9f3a\"],[0.8888888888888888,\"#fdca26\"],[1.0,\"#f0f921\"]]}],\"heatmapgl\":[{\"type\":\"heatmapgl\",\"colorbar\":{\"outlinewidth\":0,\"ticks\":\"\"},\"colorscale\":[[0.0,\"#0d0887\"],[0.1111111111111111,\"#46039f\"],[0.2222222222222222,\"#7201a8\"],[0.3333333333333333,\"#9c179e\"],[0.4444444444444444,\"#bd3786\"],[0.5555555555555556,\"#d8576b\"],[0.6666666666666666,\"#ed7953\"],[0.7777777777777778,\"#fb9f3a\"],[0.8888888888888888,\"#fdca26\"],[1.0,\"#f0f921\"]]}],\"contourcarpet\":[{\"type\":\"contourcarpet\",\"colorbar\":{\"outlinewidth\":0,\"ticks\":\"\"}}],\"contour\":[{\"type\":\"contour\",\"colorbar\":{\"outlinewidth\":0,\"ticks\":\"\"},\"colorscale\":[[0.0,\"#0d0887\"],[0.1111111111111111,\"#46039f\"],[0.2222222222222222,\"#7201a8\"],[0.3333333333333333,\"#9c179e\"],[0.4444444444444444,\"#bd3786\"],[0.5555555555555556,\"#d8576b\"],[0.6666666666666666,\"#ed7953\"],[0.7777777777777778,\"#fb9f3a\"],[0.8888888888888888,\"#fdca26\"],[1.0,\"#f0f921\"]]}],\"surface\":[{\"type\":\"surface\",\"colorbar\":{\"outlinewidth\":0,\"ticks\":\"\"},\"colorscale\":[[0.0,\"#0d0887\"],[0.1111111111111111,\"#46039f\"],[0.2222222222222222,\"#7201a8\"],[0.3333333333333333,\"#9c179e\"],[0.4444444444444444,\"#bd3786\"],[0.5555555555555556,\"#d8576b\"],[0.6666666666666666,\"#ed7953\"],[0.7777777777777778,\"#fb9f3a\"],[0.8888888888888888,\"#fdca26\"],[1.0,\"#f0f921\"]]}],\"mesh3d\":[{\"type\":\"mesh3d\",\"colorbar\":{\"outlinewidth\":0,\"ticks\":\"\"}}],\"scatter\":[{\"fillpattern\":{\"fillmode\":\"overlay\",\"size\":10,\"solidity\":0.2},\"type\":\"scatter\"}],\"parcoords\":[{\"type\":\"parcoords\",\"line\":{\"colorbar\":{\"outlinewidth\":0,\"ticks\":\"\"}}}],\"scatterpolargl\":[{\"type\":\"scatterpolargl\",\"marker\":{\"colorbar\":{\"outlinewidth\":0,\"ticks\":\"\"}}}],\"bar\":[{\"error_x\":{\"color\":\"#2a3f5f\"},\"error_y\":{\"color\":\"#2a3f5f\"},\"marker\":{\"line\":{\"color\":\"#E5ECF6\",\"width\":0.5},\"pattern\":{\"fillmode\":\"overlay\",\"size\":10,\"solidity\":0.2}},\"type\":\"bar\"}],\"scattergeo\":[{\"type\":\"scattergeo\",\"marker\":{\"colorbar\":{\"outlinewidth\":0,\"ticks\":\"\"}}}],\"scatterpolar\":[{\"type\":\"scatterpolar\",\"marker\":{\"colorbar\":{\"outlinewidth\":0,\"ticks\":\"\"}}}],\"histogram\":[{\"marker\":{\"pattern\":{\"fillmode\":\"overlay\",\"size\":10,\"solidity\":0.2}},\"type\":\"histogram\"}],\"scattergl\":[{\"type\":\"scattergl\",\"marker\":{\"colorbar\":{\"outlinewidth\":0,\"ticks\":\"\"}}}],\"scatter3d\":[{\"type\":\"scatter3d\",\"line\":{\"colorbar\":{\"outlinewidth\":0,\"ticks\":\"\"}},\"marker\":{\"colorbar\":{\"outlinewidth\":0,\"ticks\":\"\"}}}],\"scattermapbox\":[{\"type\":\"scattermapbox\",\"marker\":{\"colorbar\":{\"outlinewidth\":0,\"ticks\":\"\"}}}],\"scatterternary\":[{\"type\":\"scatterternary\",\"marker\":{\"colorbar\":{\"outlinewidth\":0,\"ticks\":\"\"}}}],\"scattercarpet\":[{\"type\":\"scattercarpet\",\"marker\":{\"colorbar\":{\"outlinewidth\":0,\"ticks\":\"\"}}}],\"carpet\":[{\"aaxis\":{\"endlinecolor\":\"#2a3f5f\",\"gridcolor\":\"white\",\"linecolor\":\"white\",\"minorgridcolor\":\"white\",\"startlinecolor\":\"#2a3f5f\"},\"baxis\":{\"endlinecolor\":\"#2a3f5f\",\"gridcolor\":\"white\",\"linecolor\":\"white\",\"minorgridcolor\":\"white\",\"startlinecolor\":\"#2a3f5f\"},\"type\":\"carpet\"}],\"table\":[{\"cells\":{\"fill\":{\"color\":\"#EBF0F8\"},\"line\":{\"color\":\"white\"}},\"header\":{\"fill\":{\"color\":\"#C8D4E3\"},\"line\":{\"color\":\"white\"}},\"type\":\"table\"}],\"barpolar\":[{\"marker\":{\"line\":{\"color\":\"#E5ECF6\",\"width\":0.5},\"pattern\":{\"fillmode\":\"overlay\",\"size\":10,\"solidity\":0.2}},\"type\":\"barpolar\"}],\"pie\":[{\"automargin\":true,\"type\":\"pie\"}]},\"layout\":{\"autotypenumbers\":\"strict\",\"colorway\":[\"#636efa\",\"#EF553B\",\"#00cc96\",\"#ab63fa\",\"#FFA15A\",\"#19d3f3\",\"#FF6692\",\"#B6E880\",\"#FF97FF\",\"#FECB52\"],\"font\":{\"color\":\"#2a3f5f\"},\"hovermode\":\"closest\",\"hoverlabel\":{\"align\":\"left\"},\"paper_bgcolor\":\"white\",\"plot_bgcolor\":\"#E5ECF6\",\"polar\":{\"bgcolor\":\"#E5ECF6\",\"angularaxis\":{\"gridcolor\":\"white\",\"linecolor\":\"white\",\"ticks\":\"\"},\"radialaxis\":{\"gridcolor\":\"white\",\"linecolor\":\"white\",\"ticks\":\"\"}},\"ternary\":{\"bgcolor\":\"#E5ECF6\",\"aaxis\":{\"gridcolor\":\"white\",\"linecolor\":\"white\",\"ticks\":\"\"},\"baxis\":{\"gridcolor\":\"white\",\"linecolor\":\"white\",\"ticks\":\"\"},\"caxis\":{\"gridcolor\":\"white\",\"linecolor\":\"white\",\"ticks\":\"\"}},\"coloraxis\":{\"colorbar\":{\"outlinewidth\":0,\"ticks\":\"\"}},\"colorscale\":{\"sequential\":[[0.0,\"#0d0887\"],[0.1111111111111111,\"#46039f\"],[0.2222222222222222,\"#7201a8\"],[0.3333333333333333,\"#9c179e\"],[0.4444444444444444,\"#bd3786\"],[0.5555555555555556,\"#d8576b\"],[0.6666666666666666,\"#ed7953\"],[0.7777777777777778,\"#fb9f3a\"],[0.8888888888888888,\"#fdca26\"],[1.0,\"#f0f921\"]],\"sequentialminus\":[[0.0,\"#0d0887\"],[0.1111111111111111,\"#46039f\"],[0.2222222222222222,\"#7201a8\"],[0.3333333333333333,\"#9c179e\"],[0.4444444444444444,\"#bd3786\"],[0.5555555555555556,\"#d8576b\"],[0.6666666666666666,\"#ed7953\"],[0.7777777777777778,\"#fb9f3a\"],[0.8888888888888888,\"#fdca26\"],[1.0,\"#f0f921\"]],\"diverging\":[[0,\"#8e0152\"],[0.1,\"#c51b7d\"],[0.2,\"#de77ae\"],[0.3,\"#f1b6da\"],[0.4,\"#fde0ef\"],[0.5,\"#f7f7f7\"],[0.6,\"#e6f5d0\"],[0.7,\"#b8e186\"],[0.8,\"#7fbc41\"],[0.9,\"#4d9221\"],[1,\"#276419\"]]},\"xaxis\":{\"gridcolor\":\"white\",\"linecolor\":\"white\",\"ticks\":\"\",\"title\":{\"standoff\":15},\"zerolinecolor\":\"white\",\"automargin\":true,\"zerolinewidth\":2},\"yaxis\":{\"gridcolor\":\"white\",\"linecolor\":\"white\",\"ticks\":\"\",\"title\":{\"standoff\":15},\"zerolinecolor\":\"white\",\"automargin\":true,\"zerolinewidth\":2},\"scene\":{\"xaxis\":{\"backgroundcolor\":\"#E5ECF6\",\"gridcolor\":\"white\",\"linecolor\":\"white\",\"showbackground\":true,\"ticks\":\"\",\"zerolinecolor\":\"white\",\"gridwidth\":2},\"yaxis\":{\"backgroundcolor\":\"#E5ECF6\",\"gridcolor\":\"white\",\"linecolor\":\"white\",\"showbackground\":true,\"ticks\":\"\",\"zerolinecolor\":\"white\",\"gridwidth\":2},\"zaxis\":{\"backgroundcolor\":\"#E5ECF6\",\"gridcolor\":\"white\",\"linecolor\":\"white\",\"showbackground\":true,\"ticks\":\"\",\"zerolinecolor\":\"white\",\"gridwidth\":2}},\"shapedefaults\":{\"line\":{\"color\":\"#2a3f5f\"}},\"annotationdefaults\":{\"arrowcolor\":\"#2a3f5f\",\"arrowhead\":0,\"arrowwidth\":1},\"geo\":{\"bgcolor\":\"white\",\"landcolor\":\"#E5ECF6\",\"subunitcolor\":\"white\",\"showland\":true,\"showlakes\":true,\"lakecolor\":\"white\"},\"title\":{\"x\":0.05},\"mapbox\":{\"style\":\"light\"}}},\"geo\":{\"domain\":{\"x\":[0.0,1.0],\"y\":[0.0,1.0]},\"center\":{},\"scope\":\"usa\"},\"coloraxis\":{\"colorbar\":{\"title\":{\"text\":\"count\"}},\"colorscale\":[[0.0,\"#fde725\"],[0.1111111111111111,\"#b5de2b\"],[0.2222222222222222,\"#6ece58\"],[0.3333333333333333,\"#35b779\"],[0.4444444444444444,\"#1f9e89\"],[0.5555555555555556,\"#26828e\"],[0.6666666666666666,\"#31688e\"],[0.7777777777777778,\"#3e4989\"],[0.8888888888888888,\"#482878\"],[1.0,\"#440154\"]]},\"legend\":{\"tracegroupgap\":0},\"margin\":{\"t\":60},\"updatemenus\":[{\"buttons\":[{\"args\":[null,{\"frame\":{\"duration\":500,\"redraw\":true},\"mode\":\"immediate\",\"fromcurrent\":true,\"transition\":{\"duration\":500,\"easing\":\"linear\"}}],\"label\":\"&#9654;\",\"method\":\"animate\"},{\"args\":[[null],{\"frame\":{\"duration\":0,\"redraw\":true},\"mode\":\"immediate\",\"fromcurrent\":true,\"transition\":{\"duration\":0,\"easing\":\"linear\"}}],\"label\":\"&#9724;\",\"method\":\"animate\"}],\"direction\":\"left\",\"pad\":{\"r\":10,\"t\":70},\"showactive\":false,\"type\":\"buttons\",\"x\":0.1,\"xanchor\":\"right\",\"y\":0,\"yanchor\":\"top\"}],\"sliders\":[{\"active\":0,\"currentvalue\":{\"prefix\":\"year=\"},\"len\":0.9,\"pad\":{\"b\":10,\"t\":60},\"steps\":[{\"args\":[[\"2011\"],{\"frame\":{\"duration\":0,\"redraw\":true},\"mode\":\"immediate\",\"fromcurrent\":true,\"transition\":{\"duration\":0,\"easing\":\"linear\"}}],\"label\":\"2011\",\"method\":\"animate\"},{\"args\":[[\"2012\"],{\"frame\":{\"duration\":0,\"redraw\":true},\"mode\":\"immediate\",\"fromcurrent\":true,\"transition\":{\"duration\":0,\"easing\":\"linear\"}}],\"label\":\"2012\",\"method\":\"animate\"},{\"args\":[[\"2013\"],{\"frame\":{\"duration\":0,\"redraw\":true},\"mode\":\"immediate\",\"fromcurrent\":true,\"transition\":{\"duration\":0,\"easing\":\"linear\"}}],\"label\":\"2013\",\"method\":\"animate\"},{\"args\":[[\"2014\"],{\"frame\":{\"duration\":0,\"redraw\":true},\"mode\":\"immediate\",\"fromcurrent\":true,\"transition\":{\"duration\":0,\"easing\":\"linear\"}}],\"label\":\"2014\",\"method\":\"animate\"},{\"args\":[[\"2015\"],{\"frame\":{\"duration\":0,\"redraw\":true},\"mode\":\"immediate\",\"fromcurrent\":true,\"transition\":{\"duration\":0,\"easing\":\"linear\"}}],\"label\":\"2015\",\"method\":\"animate\"},{\"args\":[[\"2016\"],{\"frame\":{\"duration\":0,\"redraw\":true},\"mode\":\"immediate\",\"fromcurrent\":true,\"transition\":{\"duration\":0,\"easing\":\"linear\"}}],\"label\":\"2016\",\"method\":\"animate\"},{\"args\":[[\"2017\"],{\"frame\":{\"duration\":0,\"redraw\":true},\"mode\":\"immediate\",\"fromcurrent\":true,\"transition\":{\"duration\":0,\"easing\":\"linear\"}}],\"label\":\"2017\",\"method\":\"animate\"},{\"args\":[[\"2018\"],{\"frame\":{\"duration\":0,\"redraw\":true},\"mode\":\"immediate\",\"fromcurrent\":true,\"transition\":{\"duration\":0,\"easing\":\"linear\"}}],\"label\":\"2018\",\"method\":\"animate\"},{\"args\":[[\"2019\"],{\"frame\":{\"duration\":0,\"redraw\":true},\"mode\":\"immediate\",\"fromcurrent\":true,\"transition\":{\"duration\":0,\"easing\":\"linear\"}}],\"label\":\"2019\",\"method\":\"animate\"},{\"args\":[[\"2020\"],{\"frame\":{\"duration\":0,\"redraw\":true},\"mode\":\"immediate\",\"fromcurrent\":true,\"transition\":{\"duration\":0,\"easing\":\"linear\"}}],\"label\":\"2020\",\"method\":\"animate\"},{\"args\":[[\"2021\"],{\"frame\":{\"duration\":0,\"redraw\":true},\"mode\":\"immediate\",\"fromcurrent\":true,\"transition\":{\"duration\":0,\"easing\":\"linear\"}}],\"label\":\"2021\",\"method\":\"animate\"},{\"args\":[[\"2022\"],{\"frame\":{\"duration\":0,\"redraw\":true},\"mode\":\"immediate\",\"fromcurrent\":true,\"transition\":{\"duration\":0,\"easing\":\"linear\"}}],\"label\":\"2022\",\"method\":\"animate\"}],\"x\":0.1,\"xanchor\":\"left\",\"y\":0,\"yanchor\":\"top\"}],\"title\":{\"font\":{\"family\":\"Times New Roman\",\"size\":22,\"color\":\"black\"},\"text\":\"Number of complaints per State over the years 2011 to 2020\",\"x\":0.45}},                        {\"responsive\": true}                    ).then(function(){\n",
       "                            Plotly.addFrames('c01d1337-d676-48d0-96a3-e9538aaf81c4', [{\"data\":[{\"coloraxis\":\"coloraxis\",\"geo\":\"geo\",\"hovertemplate\":\"year=2011<br>state=%{location}<br>count=%{z}<extra></extra>\",\"locationmode\":\"USA-states\",\"locations\":[\"MT\",\"IA\",\"TN\",\"DC\",\"NV\",\"WI\",\"MO\",\"OR\",\"DE\",\"IN\",\"AR\",\"IL\",\"WV\",\"OK\",\"ND\",\"SC\",\"NE\",\"GA\",\"WA\",\"KS\",\"HI\",\"AK\",\"MA\",\"RI\",\"\",\"SD\",\"OH\",\"FL\",\"MS\",\"AL\",\"UT\",\"PA\",\"NY\",\"KY\",\"NH\",\"LA\",\"ME\",\"PR\",\"MD\",\"NC\",\"NJ\",\"CA\",\"VA\",\"CO\",\"ID\",\"AZ\",\"WY\",\"VT\",\"MI\",\"NM\",\"CT\",\"MN\",\"TX\"],\"name\":\"\",\"z\":[7,13,37,11,18,24,31,29,15,25,9,82,7,14,1,21,4,99,64,15,13,5,71,10,15,10,69,246,7,18,10,85,208,12,13,12,16,18,68,71,89,439,88,49,6,53,2,4,67,6,42,41,147],\"type\":\"choropleth\"}],\"name\":\"2011\"},{\"data\":[{\"coloraxis\":\"coloraxis\",\"geo\":\"geo\",\"hovertemplate\":\"year=2012<br>state=%{location}<br>count=%{z}<extra></extra>\",\"locationmode\":\"USA-states\",\"locations\":[\"WV\",\"AS\",\"\",\"IL\",\"GA\",\"AE\",\"MN\",\"MT\",\"OH\",\"WY\",\"UT\",\"MD\",\"TX\",\"MH\",\"MA\",\"PW\",\"WI\",\"TN\",\"VA\",\"RI\",\"SD\",\"WA\",\"KY\",\"CA\",\"CT\",\"ND\",\"AK\",\"AL\",\"NE\",\"DC\",\"KS\",\"VI\",\"NH\",\"NJ\",\"MO\",\"MP\",\"AP\",\"IA\",\"MS\",\"ID\",\"HI\",\"ME\",\"DE\",\"NV\",\"VT\",\"PR\",\"NY\",\"OR\",\"LA\",\"FL\",\"PA\",\"CO\",\"AZ\",\"FM\",\"SC\",\"IN\",\"OK\",\"NC\",\"NM\",\"AR\",\"GU\",\"MI\"],\"name\":\"\",\"z\":[186,2,615,2592,3356,25,935,121,2375,72,323,2570,3643,2,1849,2,846,933,2168,270,87,1449,448,11673,1042,40,78,583,237,395,333,12,631,2989,946,2,13,275,264,258,234,314,393,732,158,130,5446,826,519,6993,2456,1217,1704,2,718,711,376,1965,305,264,8,2262],\"type\":\"choropleth\"}],\"name\":\"2012\"},{\"data\":[{\"coloraxis\":\"coloraxis\",\"geo\":\"geo\",\"hovertemplate\":\"year=2013<br>state=%{location}<br>count=%{z}<extra></extra>\",\"locationmode\":\"USA-states\",\"locations\":[\"AZ\",\"MI\",\"PR\",\"SC\",\"NM\",\"VA\",\"IA\",\"CA\",\"FM\",\"WA\",\"ND\",\"VT\",\"HI\",\"MP\",\"MN\",\"WI\",\"AA\",\"TN\",\"NE\",\"FL\",\"GA\",\"WV\",\"NV\",\"ID\",\"GU\",\"OK\",\"VI\",\"AL\",\"\",\"UT\",\"AP\",\"TX\",\"OR\",\"MO\",\"WY\",\"KS\",\"LA\",\"NY\",\"IN\",\"MD\",\"PW\",\"NJ\",\"MT\",\"MH\",\"RI\",\"SD\",\"PA\",\"CO\",\"NC\",\"OH\",\"NH\",\"MA\",\"AR\",\"CT\",\"DE\",\"ME\",\"DC\",\"AS\",\"KY\",\"MS\",\"AE\",\"AK\",\"IL\"],\"name\":\"\",\"z\":[2435,3215,215,1237,533,3417,402,16971,9,2234,69,179,352,5,1292,1202,4,1548,316,10686,4890,259,1173,355,8,625,21,977,1053,533,28,7105,1256,1371,101,474,951,7432,1143,3635,3,4521,166,7,344,123,3942,1842,3009,3279,617,2255,452,1333,559,360,678,4,738,422,44,150,3658],\"type\":\"choropleth\"}],\"name\":\"2013\"},{\"data\":[{\"coloraxis\":\"coloraxis\",\"geo\":\"geo\",\"hovertemplate\":\"year=2014<br>state=%{location}<br>count=%{z}<extra></extra>\",\"locationmode\":\"USA-states\",\"locations\":[\"HI\",\"AP\",\"FL\",\"MN\",\"MD\",\"FM\",\"MA\",\"PW\",\"IA\",\"VI\",\"SC\",\"TX\",\"MT\",\"AZ\",\"MP\",\"ME\",\"NE\",\"VT\",\"ND\",\"DC\",\"CA\",\"MS\",\"AR\",\"GU\",\"NV\",\"NY\",\"\",\"RI\",\"VA\",\"PA\",\"ID\",\"KS\",\"MI\",\"WY\",\"IL\",\"AE\",\"KY\",\"PR\",\"OK\",\"NC\",\"DE\",\"CT\",\"NJ\",\"GA\",\"AL\",\"TN\",\"AK\",\"WI\",\"LA\",\"WV\",\"CO\",\"MH\",\"OR\",\"AS\",\"MO\",\"IN\",\"SD\",\"AA\",\"NH\",\"UT\",\"NM\",\"WA\",\"OH\"],\"name\":\"\",\"z\":[642,48,14694,1666,4694,8,2855,3,675,35,1967,13144,266,3235,8,481,494,252,155,863,21442,767,689,19,1925,10104,1001,609,5284,5551,483,750,3812,176,5365,59,1132,470,1125,4265,846,1729,6205,6274,1557,2299,182,1739,1587,407,2660,9,1843,5,2098,1806,243,3,695,896,778,3206,4754],\"type\":\"choropleth\"}],\"name\":\"2014\"},{\"data\":[{\"coloraxis\":\"coloraxis\",\"geo\":\"geo\",\"hovertemplate\":\"year=2015<br>state=%{location}<br>count=%{z}<extra></extra>\",\"locationmode\":\"USA-states\",\"locations\":[\"GA\",\"RI\",\"TN\",\"OH\",\"AS\",\"OK\",\"AR\",\"CO\",\"NE\",\"MP\",\"IN\",\"CT\",\"PA\",\"MN\",\"NC\",\"DC\",\"VT\",\"IA\",\"SC\",\"NH\",\"MT\",\"HI\",\"NY\",\"NM\",\"VI\",\"ID\",\"NV\",\"GU\",\"MH\",\"ME\",\"TX\",\"PR\",\"PW\",\"WA\",\"AE\",\"ND\",\"LA\",\"OR\",\"MD\",\"IL\",\"KS\",\"CA\",\"AL\",\"AK\",\"VA\",\"AZ\",\"KY\",\"WV\",\"MI\",\"FM\",\"MO\",\"DE\",\"AA\",\"MS\",\"WY\",\"MA\",\"UT\",\"WI\",\"NJ\",\"\",\"AP\",\"FL\",\"SD\"],\"name\":\"\",\"z\":[7542,521,2782,5374,3,1160,764,2847,529,3,1863,1789,6214,1898,4832,978,275,685,2327,661,263,540,11576,851,51,641,2308,28,6,608,13314,552,2,3533,81,152,1787,2071,5151,6135,840,23815,1983,167,5512,3829,1271,461,3979,10,2149,876,1,871,160,3152,894,1817,6645,1144,54,15910,229],\"type\":\"choropleth\"}],\"name\":\"2015\"},{\"data\":[{\"coloraxis\":\"coloraxis\",\"geo\":\"geo\",\"hovertemplate\":\"year=2016<br>state=%{location}<br>count=%{z}<extra></extra>\",\"locationmode\":\"USA-states\",\"locations\":[\"GA\",\"AK\",\"NJ\",\"TN\",\"CT\",\"MN\",\"ME\",\"MI\",\"PW\",\"TX\",\"WV\",\"MS\",\"MT\",\"WY\",\"FM\",\"GU\",\"VI\",\"LA\",\"UT\",\"SC\",\"MO\",\"NV\",\"OK\",\"ND\",\"DE\",\"OH\",\"KS\",\"RI\",\"AL\",\"MP\",\"AA\",\"MD\",\"HI\",\"FL\",\"KY\",\"AS\",\"\",\"CA\",\"NE\",\"WI\",\"MH\",\"CO\",\"NC\",\"AZ\",\"AE\",\"VT\",\"VA\",\"IN\",\"SD\",\"ID\",\"NM\",\"IL\",\"DC\",\"AP\",\"PR\",\"PA\",\"NY\",\"NH\",\"IA\",\"WA\",\"OR\",\"AR\",\"MA\"],\"name\":\"\",\"z\":[9828,220,7476,3107,2158,2213,510,4136,2,15591,468,955,307,178,14,28,56,2168,1098,2582,2600,2440,1323,192,876,5555,952,482,2099,8,5,5817,584,18523,1343,7,1327,26881,557,1831,5,3466,5424,4423,73,256,6019,2126,248,660,1013,7455,1148,45,553,6704,13340,695,920,3983,2236,812,3356],\"type\":\"choropleth\"}],\"name\":\"2016\"},{\"data\":[{\"coloraxis\":\"coloraxis\",\"geo\":\"geo\",\"hovertemplate\":\"year=2017<br>state=%{location}<br>count=%{z}<extra></extra>\",\"locationmode\":\"USA-states\",\"locations\":[\"AS\",\"MI\",\"DE\",\"WY\",\"WA\",\"NV\",\"NJ\",\"IA\",\"VA\",\"OR\",\"NE\",\"AK\",\"VT\",\"AR\",\"MT\",\"WI\",\"RI\",\"NY\",\"IL\",\"TX\",\"MA\",\"NM\",\"KS\",\"LA\",\"PR\",\"MH\",\"SC\",\"MD\",\"GA\",\"AE\",\"TN\",\"PW\",\"UT\",\"PA\",\"ID\",\"WV\",\"CO\",\"VI\",\"AA\",\"AZ\",\"MP\",\"ND\",\"KY\",\"OH\",\"CA\",\"\",\"GU\",\"NH\",\"NC\",\"FM\",\"AL\",\"AP\",\"OK\",\"DC\",\"MO\",\"CT\",\"MN\",\"ME\",\"IN\",\"SD\",\"MS\",\"HI\",\"FL\"],\"name\":\"\",\"z\":[4,5471,1189,179,4752,2930,8253,937,6618,2290,737,237,293,1255,375,2561,628,15171,10005,22305,4162,963,1317,3425,481,1,4181,6770,14743,97,4384,1,1497,7804,637,593,3837,27,2,5032,5,332,1898,7110,31610,3973,56,674,8220,5,3028,79,1506,1223,3363,2824,2406,669,3089,320,1512,636,22249],\"type\":\"choropleth\"}],\"name\":\"2017\"},{\"data\":[{\"coloraxis\":\"coloraxis\",\"geo\":\"geo\",\"hovertemplate\":\"year=2018<br>state=%{location}<br>count=%{z}<extra></extra>\",\"locationmode\":\"USA-states\",\"locations\":[\"IA\",\"MD\",\"MI\",\"HI\",\"WA\",\"NE\",\"AS\",\"LA\",\"AE\",\"PR\",\"KS\",\"ID\",\"ME\",\"RI\",\"VA\",\"AP\",\"WI\",\"UT\",\"WY\",\"KY\",\"IL\",\"NC\",\"NY\",\"TN\",\"GU\",\"\",\"AR\",\"SD\",\"ND\",\"AZ\",\"TX\",\"AA\",\"MP\",\"NM\",\"SC\",\"DE\",\"OR\",\"MS\",\"NV\",\"DC\",\"UNITED STATES MINOR OUTLYING ISLANDS\",\"CT\",\"VT\",\"CO\",\"AL\",\"GA\",\"MT\",\"MN\",\"VI\",\"MA\",\"OH\",\"PA\",\"NH\",\"FL\",\"IN\",\"MO\",\"FM\",\"NJ\",\"AK\",\"WV\",\"OK\",\"CA\"],\"name\":\"\",\"z\":[804,5978,5519,727,3956,556,2,3620,96,566,1092,597,504,652,6202,65,2381,1730,187,1618,11260,9072,17099,4456,32,7487,1501,216,223,5063,24233,9,1,881,4732,1081,1837,1966,3309,1188,25,2423,207,3430,3146,15322,360,2192,22,3857,7461,8508,645,26491,2814,4006,67,8903,271,508,1504,32592],\"type\":\"choropleth\"}],\"name\":\"2018\"},{\"data\":[{\"coloraxis\":\"coloraxis\",\"geo\":\"geo\",\"hovertemplate\":\"year=2019<br>state=%{location}<br>count=%{z}<extra></extra>\",\"locationmode\":\"USA-states\",\"locations\":[\"FL\",\"GU\",\"OH\",\"UT\",\"SD\",\"ID\",\"PA\",\"AP\",\"TX\",\"WI\",\"AE\",\"CT\",\"VT\",\"NH\",\"UNITED STATES MINOR OUTLYING ISLANDS\",\"KY\",\"AZ\",\"ND\",\"MI\",\"MS\",\"LA\",\"RI\",\"VA\",\"OK\",\"MH\",\"PR\",\"MT\",\"IA\",\"IL\",\"NE\",\"NV\",\"MA\",\"MP\",\"MO\",\"WV\",\"MD\",\"NY\",\"GA\",\"NM\",\"AS\",\"AA\",\"WY\",\"NJ\",\"IN\",\"HI\",\"NC\",\"AK\",\"WA\",\"DC\",\"SC\",\"MN\",\"AL\",\"CA\",\"\",\"ME\",\"TN\",\"DE\",\"AR\",\"KS\",\"CO\",\"OR\",\"VI\"],\"name\":\"\",\"z\":[35118,24,7579,2759,216,669,9160,55,25600,2331,62,2767,211,599,23,1544,4883,221,5684,1725,4137,633,6365,1398,1,652,372,928,9952,547,4424,4047,2,4422,488,5862,20338,16532,914,2,1,289,8695,2654,736,8590,223,3968,1306,4896,2394,4047,34014,7898,424,4731,1096,1412,1193,3576,1901,34],\"type\":\"choropleth\"}],\"name\":\"2019\"},{\"data\":[{\"coloraxis\":\"coloraxis\",\"geo\":\"geo\",\"hovertemplate\":\"year=2020<br>state=%{location}<br>count=%{z}<extra></extra>\",\"locationmode\":\"USA-states\",\"locations\":[\"TN\",\"AE\",\"DC\",\"GU\",\"IN\",\"ME\",\"AA\",\"VI\",\"IL\",\"WY\",\"AK\",\"NV\",\"MA\",\"MN\",\"OR\",\"CO\",\"RI\",\"AZ\",\"NM\",\"AS\",\"OK\",\"MO\",\"NE\",\"GA\",\"OH\",\"KS\",\"WA\",\"HI\",\"NC\",\"FL\",\"MT\",\"PA\",\"ND\",\"AP\",\"AR\",\"WI\",\"UNITED STATES MINOR OUTLYING ISLANDS\",\"IA\",\"PR\",\"NH\",\"MI\",\"KY\",\"\",\"VT\",\"LA\",\"DE\",\"VA\",\"CT\",\"TX\",\"CA\",\"NJ\",\"UT\",\"ID\",\"AL\",\"WV\",\"SC\",\"SD\",\"MS\",\"NY\",\"MD\"],\"name\":\"\",\"z\":[11221,91,1742,15,3692,502,11,77,14602,256,397,6346,7378,3216,2210,4485,811,6615,1006,3,2019,5055,670,26873,10375,1262,5074,908,12503,58143,396,20371,221,48,7612,2718,54,1043,1233,642,7743,2014,8090,233,7077,2010,9181,3389,49337,54047,14225,3056,734,10814,530,7516,241,3354,29184,9658],\"type\":\"choropleth\"}],\"name\":\"2020\"},{\"data\":[{\"coloraxis\":\"coloraxis\",\"geo\":\"geo\",\"hovertemplate\":\"year=2021<br>state=%{location}<br>count=%{z}<extra></extra>\",\"locationmode\":\"USA-states\",\"locations\":[\"MT\",\"UNITED STATES MINOR OUTLYING ISLANDS\",\"KY\",\"CA\",\"PA\",\"MS\",\"MI\",\"AL\",\"KS\",\"WI\",\"RI\",\"MP\",\"AP\",\"VT\",\"TX\",\"MH\",\"NM\",\"NE\",\"MD\",\"ID\",\"GA\",\"OK\",\"DC\",\"AE\",\"\",\"OH\",\"AA\",\"MO\",\"IL\",\"AZ\",\"ME\",\"NC\",\"AR\",\"ND\",\"OR\",\"MA\",\"CO\",\"NH\",\"MN\",\"SD\",\"GU\",\"WY\",\"UT\",\"IN\",\"AK\",\"WV\",\"NV\",\"TN\",\"VA\",\"SC\",\"IA\",\"NJ\",\"WA\",\"LA\",\"HI\",\"VI\",\"CT\",\"NY\",\"PR\",\"FL\",\"DE\"],\"name\":\"\",\"z\":[432,108,2187,56641,28823,4634,10061,11729,1560,3332,1042,4,50,261,53224,2,1122,738,14033,731,34553,2403,2084,86,5769,13241,12,5343,18164,7901,554,14685,2394,242,2538,8333,4737,688,3542,269,17,229,2466,4287,386,761,6544,12015,11434,10406,1462,17064,5571,11295,762,119,3778,31836,1489,53200,2646],\"type\":\"choropleth\"}],\"name\":\"2021\"},{\"data\":[{\"coloraxis\":\"coloraxis\",\"geo\":\"geo\",\"hovertemplate\":\"year=2022<br>state=%{location}<br>count=%{z}<extra></extra>\",\"locationmode\":\"USA-states\",\"locations\":[\"DE\",\"NJ\",\"VT\",\"AE\",\"GU\",\"CA\",\"OR\",\"AK\",\"KY\",\"AZ\",\"KS\",\"CT\",\"HI\",\"WI\",\"ME\",\"MT\",\"SC\",\"LA\",\"NY\",\"VI\",\"TX\",\"\",\"SD\",\"MS\",\"MI\",\"AR\",\"AA\",\"IN\",\"VA\",\"NM\",\"OH\",\"NV\",\"UT\",\"CO\",\"WY\",\"MD\",\"FL\",\"UNITED STATES MINOR OUTLYING ISLANDS\",\"IL\",\"NE\",\"AP\",\"OK\",\"ID\",\"TN\",\"GA\",\"NH\",\"MO\",\"RI\",\"MP\",\"WV\",\"WA\",\"PR\",\"AS\",\"AL\",\"IA\",\"DC\",\"ND\",\"NC\",\"PA\",\"MA\",\"MN\"],\"name\":\"\",\"z\":[4268,22330,315,191,24,71264,3065,535,3491,12148,2079,5280,1128,5574,798,634,14340,13235,42743,139,77646,1752,388,7901,17465,4377,2,7594,17571,1542,16868,10403,2567,5970,296,19680,88060,54,29906,1076,102,3837,938,13551,57176,907,9157,1487,6,932,6292,1594,6,17808,1835,2658,426,26063,41668,7988,4708],\"type\":\"choropleth\"}],\"name\":\"2022\"}]);\n",
       "                        }).then(function(){\n",
       "                            \n",
       "var gd = document.getElementById('c01d1337-d676-48d0-96a3-e9538aaf81c4');\n",
       "var x = new MutationObserver(function (mutations, observer) {{\n",
       "        var display = window.getComputedStyle(gd).display;\n",
       "        if (!display || display === 'none') {{\n",
       "            console.log([gd, 'removed!']);\n",
       "            Plotly.purge(gd);\n",
       "            observer.disconnect();\n",
       "        }}\n",
       "}});\n",
       "\n",
       "// Listen for the removal of the full notebook cells\n",
       "var notebookContainer = gd.closest('#notebook-container');\n",
       "if (notebookContainer) {{\n",
       "    x.observe(notebookContainer, {childList: true});\n",
       "}}\n",
       "\n",
       "// Listen for the clearing of the current output cell\n",
       "var outputEl = gd.closest('.output');\n",
       "if (outputEl) {{\n",
       "    x.observe(outputEl, {childList: true});\n",
       "}}\n",
       "\n",
       "                        })                };                });            </script>        </div>"
      ]
     },
     "metadata": {},
     "output_type": "display_data"
    }
   ],
   "source": [
    "df = statewise_complaints_per_year_count.toPandas()\n",
    "df['year'] = df['year'].astype(str)\n",
    "\n",
    "fig = px.choropleth(df,\n",
    "                    locations='state', \n",
    "                    locationmode=\"USA-states\", \n",
    "                    color='count',\n",
    "                    color_continuous_scale=\"Viridis_r\", \n",
    "                    scope=\"usa\",\n",
    "                    animation_frame='year') \n",
    "\n",
    "\n",
    "fig.update_layout(\n",
    "      title_text = 'Number of complaints per State over the years 2011 to 2020',\n",
    "      title_font_family=\"Times New Roman\",\n",
    "      title_font_size = 22,\n",
    "      title_font_color=\"black\", \n",
    "      title_x=0.45, \n",
    "    )\n",
    "\n",
    "\n",
    "fig.show()"
   ]
  },
  {
   "cell_type": "code",
   "execution_count": 49,
   "id": "cd739552",
   "metadata": {},
   "outputs": [
    {
     "name": "stderr",
     "output_type": "stream",
     "text": [
      "\r",
      "[Stage 105:>                                                        (0 + 1) / 1]\r"
     ]
    },
    {
     "name": "stdout",
     "output_type": "stream",
     "text": [
      "+--------------------+\n",
      "|               issue|\n",
      "+--------------------+\n",
      "|Communication tac...|\n",
      "|Application proce...|\n",
      "|Unexpected or oth...|\n",
      "|Advertising and m...|\n",
      "|Problem with an o...|\n",
      "|Getting a loan or...|\n",
      "|Balance transfer fee|\n",
      "|Customer service/...|\n",
      "|        Adding money|\n",
      "|Credit card prote...|\n",
      "|Closing/Cancellin...|\n",
      "|Received a loan I...|\n",
      "|Vehicle was repos...|\n",
      "|Can't stop charge...|\n",
      "|                Fees|\n",
      "|          Bankruptcy|\n",
      "|Forbearance / Wor...|\n",
      "|Credit determination|\n",
      "|Confusing or miss...|\n",
      "|Loan modification...|\n",
      "+--------------------+\n",
      "only showing top 20 rows\n",
      "\n"
     ]
    },
    {
     "name": "stderr",
     "output_type": "stream",
     "text": [
      "\r",
      "                                                                                \r"
     ]
    }
   ],
   "source": [
    "complaints_df.select('issue').distinct().show()"
   ]
  },
  {
   "cell_type": "code",
   "execution_count": 50,
   "id": "748c6a41",
   "metadata": {},
   "outputs": [
    {
     "name": "stderr",
     "output_type": "stream",
     "text": [
      "\r",
      "[Stage 108:>                                                        (0 + 1) / 1]\r"
     ]
    },
    {
     "name": "stdout",
     "output_type": "stream",
     "text": [
      "+--------------------------------------------------------------------------------+---------------+\n",
      "|issue                                                                           |ComplaintsCount|\n",
      "+--------------------------------------------------------------------------------+---------------+\n",
      "|Incorrect information on your report                                            |767376         |\n",
      "|Problem with a credit reporting company's investigation into an existing problem|389191         |\n",
      "|Improper use of your report                                                     |272041         |\n",
      "|Attempts to collect debt not owed                                               |153580         |\n",
      "|Loan modification,collection,foreclosure                                        |112309         |\n",
      "|Incorrect information on credit report                                          |102684         |\n",
      "|Managing an account                                                             |89005          |\n",
      "|Loan servicing, payments, escrow account                                        |77333          |\n",
      "|Written notification about debt                                                 |69796          |\n",
      "|Trouble during payment process                                                  |64438          |\n",
      "|Cont'd attempts collect debt not owed                                           |60671          |\n",
      "|Communication tactics                                                           |50428          |\n",
      "|Problem with a purchase shown on your statement                                 |41886          |\n",
      "|Struggling to pay mortgage                                                      |38691          |\n",
      "|Account opening, closing, or management                                         |37961          |\n",
      "|False statements or representation                                              |37058          |\n",
      "|Disclosure verification of debt                                                 |30790          |\n",
      "|Managing the loan or lease                                                      |27687          |\n",
      "|Took or threatened to take negative or legal action                             |26589          |\n",
      "|Dealing with your lender or servicer                                            |26270          |\n",
      "+--------------------------------------------------------------------------------+---------------+\n",
      "only showing top 20 rows\n",
      "\n"
     ]
    },
    {
     "name": "stderr",
     "output_type": "stream",
     "text": [
      "\r",
      "                                                                                \r"
     ]
    }
   ],
   "source": [
    "complaints_df.groupBy(\"issue\")\\\n",
    "            .agg(count(\"*\").alias(\"ComplaintsCount\"))\\\n",
    "            .sort(desc(\"ComplaintsCount\")).show(truncate=False)"
   ]
  },
  {
   "cell_type": "code",
   "execution_count": 54,
   "id": "269a62f6",
   "metadata": {},
   "outputs": [
    {
     "name": "stderr",
     "output_type": "stream",
     "text": [
      "\r",
      "[Stage 112:>                                                        (0 + 1) / 1]\r"
     ]
    },
    {
     "name": "stdout",
     "output_type": "stream",
     "text": [
      "+-------------------------------+\n",
      "|company_response               |\n",
      "+-------------------------------+\n",
      "|Untimely response              |\n",
      "|Closed with non-monetary relief|\n",
      "|Closed without relief          |\n",
      "|In progress                    |\n",
      "|Closed with monetary relief    |\n",
      "|Closed with explanation        |\n",
      "|Closed                         |\n",
      "|Closed with relief             |\n",
      "|                               |\n",
      "+-------------------------------+\n",
      "\n"
     ]
    },
    {
     "name": "stderr",
     "output_type": "stream",
     "text": [
      "\r",
      "                                                                                \r"
     ]
    }
   ],
   "source": [
    "complaints_df.select('company_response').distinct().show(truncate=False)"
   ]
  },
  {
   "cell_type": "code",
   "execution_count": 55,
   "id": "43acb39d",
   "metadata": {},
   "outputs": [
    {
     "name": "stderr",
     "output_type": "stream",
     "text": [
      "\r",
      "[Stage 115:>                                                        (0 + 1) / 1]\r"
     ]
    },
    {
     "name": "stdout",
     "output_type": "stream",
     "text": [
      "+-------------------------------+---------------+\n",
      "|company_response               |ComplaintsCount|\n",
      "+-------------------------------+---------------+\n",
      "|Closed with explanation        |2417132        |\n",
      "|Closed with non-monetary relief|466957         |\n",
      "|Closed with monetary relief    |123524         |\n",
      "|In progress                    |70021          |\n",
      "|Closed without relief          |17868          |\n",
      "|Closed                         |17611          |\n",
      "|Untimely response              |9355           |\n",
      "|Closed with relief             |5304           |\n",
      "|                               |4              |\n",
      "+-------------------------------+---------------+\n",
      "\n"
     ]
    },
    {
     "name": "stderr",
     "output_type": "stream",
     "text": [
      "\r",
      "                                                                                \r"
     ]
    }
   ],
   "source": [
    "complaints_df.groupBy(\"company_response\")\\\n",
    "            .agg(count(\"*\").alias(\"ComplaintsCount\"))\\\n",
    "            .sort(desc(\"ComplaintsCount\")).show(truncate=False)"
   ]
  },
  {
   "cell_type": "code",
   "execution_count": 85,
   "id": "62990dce",
   "metadata": {},
   "outputs": [
    {
     "name": "stderr",
     "output_type": "stream",
     "text": [
      "\r",
      "[Stage 152:>                                                        (0 + 1) / 1]\r"
     ]
    },
    {
     "name": "stdout",
     "output_type": "stream",
     "text": [
      "+-------------------------------+------+---------------+\n",
      "|company_response               |timely|ComplaintsCount|\n",
      "+-------------------------------+------+---------------+\n",
      "|Closed with explanation        |Yes   |2382878        |\n",
      "|Closed with non-monetary relief|Yes   |464419         |\n",
      "|Closed with monetary relief    |Yes   |121736         |\n",
      "|In progress                    |Yes   |70021          |\n",
      "|Closed with explanation        |No    |34254          |\n",
      "|Closed without relief          |Yes   |17352          |\n",
      "|Closed                         |Yes   |15870          |\n",
      "|Untimely response              |No    |9355           |\n",
      "|Closed with relief             |Yes   |5121           |\n",
      "|Closed with non-monetary relief|No    |2538           |\n",
      "|Closed with monetary relief    |No    |1788           |\n",
      "|Closed                         |No    |1741           |\n",
      "|Closed without relief          |No    |516            |\n",
      "|Closed with relief             |No    |183            |\n",
      "|                               |Yes   |4              |\n",
      "+-------------------------------+------+---------------+\n",
      "\n"
     ]
    },
    {
     "name": "stderr",
     "output_type": "stream",
     "text": [
      "\r",
      "                                                                                \r"
     ]
    }
   ],
   "source": [
    "complaints_df.groupBy([\"company_response\", \"timely\"])\\\n",
    "            .agg(count(\"*\").alias(\"ComplaintsCount\"))\\\n",
    "            .sort(desc(\"ComplaintsCount\")).show(truncate=False)"
   ]
  },
  {
   "cell_type": "code",
   "execution_count": 87,
   "id": "d94f2212",
   "metadata": {},
   "outputs": [
    {
     "name": "stderr",
     "output_type": "stream",
     "text": [
      "\r",
      "[Stage 156:>                                                        (0 + 1) / 1]\r"
     ]
    },
    {
     "name": "stdout",
     "output_type": "stream",
     "text": [
      "+-----------------------+\n",
      "|company_public_response|\n",
      "+-----------------------+\n",
      "|                       |\n",
      "+-----------------------+\n",
      "\n"
     ]
    },
    {
     "name": "stderr",
     "output_type": "stream",
     "text": [
      "\r",
      "                                                                                \r"
     ]
    }
   ],
   "source": [
    "complaints_df.filter(complaints_df['company_response'] == 'Untimely response').select('company_public_response').distinct().show()"
   ]
  },
  {
   "cell_type": "markdown",
   "id": "27bc9563",
   "metadata": {},
   "source": [
    "All Complaints with Untimely response status has timely column as 'No' Value and has no company_public_response"
   ]
  },
  {
   "cell_type": "code",
   "execution_count": 93,
   "id": "a2200bb6",
   "metadata": {},
   "outputs": [
    {
     "name": "stderr",
     "output_type": "stream",
     "text": [
      "[Stage 169:>                                                        (0 + 1) / 1]\r"
     ]
    },
    {
     "name": "stdout",
     "output_type": "stream",
     "text": [
      "+-----+-----------------------+\n",
      "|state|Untimely_response_count|\n",
      "+-----+-----------------------+\n",
      "|CA   |1123                   |\n",
      "|TX   |926                    |\n",
      "|FL   |910                    |\n",
      "|GA   |530                    |\n",
      "|NY   |404                    |\n",
      "|PA   |340                    |\n",
      "|IL   |316                    |\n",
      "|NJ   |296                    |\n",
      "|OH   |285                    |\n",
      "|VA   |275                    |\n",
      "|WA   |243                    |\n",
      "|NC   |235                    |\n",
      "|TN   |220                    |\n",
      "|     |219                    |\n",
      "|MD   |208                    |\n",
      "|MI   |206                    |\n",
      "|AZ   |178                    |\n",
      "|SC   |169                    |\n",
      "|MO   |163                    |\n",
      "|IN   |146                    |\n",
      "+-----+-----------------------+\n",
      "only showing top 20 rows\n",
      "\n"
     ]
    },
    {
     "name": "stderr",
     "output_type": "stream",
     "text": [
      "\r",
      "                                                                                \r"
     ]
    }
   ],
   "source": [
    "untimely_response_count_per_state =complaints_df.filter(complaints_df['company_response'] == 'Untimely response') \\\n",
    "            .groupBy(\"state\")\\\n",
    "            .agg(count(\"*\").alias(\"Untimely_response_count\"))\\\n",
    "            .sort(desc(\"Untimely_response_count\"))\n",
    "untimely_response_count_per_state.show(truncate=False)"
   ]
  },
  {
   "cell_type": "code",
   "execution_count": 95,
   "id": "b1c2cb2c",
   "metadata": {},
   "outputs": [
    {
     "data": {
      "application/vnd.plotly.v1+json": {
       "config": {
        "plotlyServerURL": "https://plot.ly"
       },
       "data": [
        {
         "coloraxis": "coloraxis",
         "geo": "geo",
         "hovertemplate": "state=%{location}<br>Untimely_response_count=%{z}<extra></extra>",
         "locationmode": "USA-states",
         "locations": [
          "CA",
          "TX",
          "FL",
          "GA",
          "NY",
          "PA",
          "IL",
          "NJ",
          "OH",
          "VA",
          "WA",
          "NC",
          "TN",
          "",
          "MD",
          "MI",
          "AZ",
          "SC",
          "MO",
          "IN",
          "LA",
          "AL",
          "CO",
          "WI",
          "NV",
          "MA",
          "OK",
          "OR",
          "MN",
          "MS",
          "KY",
          "CT",
          "ME",
          "IA",
          "UT",
          "AR",
          "DE",
          "KS",
          "NE",
          "NM",
          "DC",
          "WV",
          "NH",
          "HI",
          "ID",
          "MT",
          "RI",
          "WY",
          "PR",
          "SD",
          "VT",
          "AK",
          "ND",
          "UNITED STATES MINOR OUTLYING ISLANDS",
          "VI",
          "AE",
          "GU",
          "AP"
         ],
         "name": "",
         "type": "choropleth",
         "z": [
          1123,
          926,
          910,
          530,
          404,
          340,
          316,
          296,
          285,
          275,
          243,
          235,
          220,
          219,
          208,
          206,
          178,
          169,
          163,
          146,
          138,
          129,
          128,
          112,
          111,
          108,
          96,
          94,
          85,
          78,
          76,
          69,
          69,
          67,
          58,
          54,
          50,
          46,
          43,
          42,
          34,
          34,
          32,
          32,
          31,
          26,
          22,
          22,
          21,
          16,
          13,
          10,
          9,
          2,
          2,
          2,
          1,
          1
         ]
        }
       ],
       "layout": {
        "coloraxis": {
         "colorbar": {
          "title": {
           "text": "Untimely_response_count"
          }
         },
         "colorscale": [
          [
           0,
           "#fde725"
          ],
          [
           0.1111111111111111,
           "#b5de2b"
          ],
          [
           0.2222222222222222,
           "#6ece58"
          ],
          [
           0.3333333333333333,
           "#35b779"
          ],
          [
           0.4444444444444444,
           "#1f9e89"
          ],
          [
           0.5555555555555556,
           "#26828e"
          ],
          [
           0.6666666666666666,
           "#31688e"
          ],
          [
           0.7777777777777778,
           "#3e4989"
          ],
          [
           0.8888888888888888,
           "#482878"
          ],
          [
           1,
           "#440154"
          ]
         ]
        },
        "geo": {
         "center": {},
         "domain": {
          "x": [
           0,
           1
          ],
          "y": [
           0,
           1
          ]
         },
         "scope": "usa"
        },
        "legend": {
         "tracegroupgap": 0
        },
        "margin": {
         "t": 60
        },
        "template": {
         "data": {
          "bar": [
           {
            "error_x": {
             "color": "#2a3f5f"
            },
            "error_y": {
             "color": "#2a3f5f"
            },
            "marker": {
             "line": {
              "color": "#E5ECF6",
              "width": 0.5
             },
             "pattern": {
              "fillmode": "overlay",
              "size": 10,
              "solidity": 0.2
             }
            },
            "type": "bar"
           }
          ],
          "barpolar": [
           {
            "marker": {
             "line": {
              "color": "#E5ECF6",
              "width": 0.5
             },
             "pattern": {
              "fillmode": "overlay",
              "size": 10,
              "solidity": 0.2
             }
            },
            "type": "barpolar"
           }
          ],
          "carpet": [
           {
            "aaxis": {
             "endlinecolor": "#2a3f5f",
             "gridcolor": "white",
             "linecolor": "white",
             "minorgridcolor": "white",
             "startlinecolor": "#2a3f5f"
            },
            "baxis": {
             "endlinecolor": "#2a3f5f",
             "gridcolor": "white",
             "linecolor": "white",
             "minorgridcolor": "white",
             "startlinecolor": "#2a3f5f"
            },
            "type": "carpet"
           }
          ],
          "choropleth": [
           {
            "colorbar": {
             "outlinewidth": 0,
             "ticks": ""
            },
            "type": "choropleth"
           }
          ],
          "contour": [
           {
            "colorbar": {
             "outlinewidth": 0,
             "ticks": ""
            },
            "colorscale": [
             [
              0,
              "#0d0887"
             ],
             [
              0.1111111111111111,
              "#46039f"
             ],
             [
              0.2222222222222222,
              "#7201a8"
             ],
             [
              0.3333333333333333,
              "#9c179e"
             ],
             [
              0.4444444444444444,
              "#bd3786"
             ],
             [
              0.5555555555555556,
              "#d8576b"
             ],
             [
              0.6666666666666666,
              "#ed7953"
             ],
             [
              0.7777777777777778,
              "#fb9f3a"
             ],
             [
              0.8888888888888888,
              "#fdca26"
             ],
             [
              1,
              "#f0f921"
             ]
            ],
            "type": "contour"
           }
          ],
          "contourcarpet": [
           {
            "colorbar": {
             "outlinewidth": 0,
             "ticks": ""
            },
            "type": "contourcarpet"
           }
          ],
          "heatmap": [
           {
            "colorbar": {
             "outlinewidth": 0,
             "ticks": ""
            },
            "colorscale": [
             [
              0,
              "#0d0887"
             ],
             [
              0.1111111111111111,
              "#46039f"
             ],
             [
              0.2222222222222222,
              "#7201a8"
             ],
             [
              0.3333333333333333,
              "#9c179e"
             ],
             [
              0.4444444444444444,
              "#bd3786"
             ],
             [
              0.5555555555555556,
              "#d8576b"
             ],
             [
              0.6666666666666666,
              "#ed7953"
             ],
             [
              0.7777777777777778,
              "#fb9f3a"
             ],
             [
              0.8888888888888888,
              "#fdca26"
             ],
             [
              1,
              "#f0f921"
             ]
            ],
            "type": "heatmap"
           }
          ],
          "heatmapgl": [
           {
            "colorbar": {
             "outlinewidth": 0,
             "ticks": ""
            },
            "colorscale": [
             [
              0,
              "#0d0887"
             ],
             [
              0.1111111111111111,
              "#46039f"
             ],
             [
              0.2222222222222222,
              "#7201a8"
             ],
             [
              0.3333333333333333,
              "#9c179e"
             ],
             [
              0.4444444444444444,
              "#bd3786"
             ],
             [
              0.5555555555555556,
              "#d8576b"
             ],
             [
              0.6666666666666666,
              "#ed7953"
             ],
             [
              0.7777777777777778,
              "#fb9f3a"
             ],
             [
              0.8888888888888888,
              "#fdca26"
             ],
             [
              1,
              "#f0f921"
             ]
            ],
            "type": "heatmapgl"
           }
          ],
          "histogram": [
           {
            "marker": {
             "pattern": {
              "fillmode": "overlay",
              "size": 10,
              "solidity": 0.2
             }
            },
            "type": "histogram"
           }
          ],
          "histogram2d": [
           {
            "colorbar": {
             "outlinewidth": 0,
             "ticks": ""
            },
            "colorscale": [
             [
              0,
              "#0d0887"
             ],
             [
              0.1111111111111111,
              "#46039f"
             ],
             [
              0.2222222222222222,
              "#7201a8"
             ],
             [
              0.3333333333333333,
              "#9c179e"
             ],
             [
              0.4444444444444444,
              "#bd3786"
             ],
             [
              0.5555555555555556,
              "#d8576b"
             ],
             [
              0.6666666666666666,
              "#ed7953"
             ],
             [
              0.7777777777777778,
              "#fb9f3a"
             ],
             [
              0.8888888888888888,
              "#fdca26"
             ],
             [
              1,
              "#f0f921"
             ]
            ],
            "type": "histogram2d"
           }
          ],
          "histogram2dcontour": [
           {
            "colorbar": {
             "outlinewidth": 0,
             "ticks": ""
            },
            "colorscale": [
             [
              0,
              "#0d0887"
             ],
             [
              0.1111111111111111,
              "#46039f"
             ],
             [
              0.2222222222222222,
              "#7201a8"
             ],
             [
              0.3333333333333333,
              "#9c179e"
             ],
             [
              0.4444444444444444,
              "#bd3786"
             ],
             [
              0.5555555555555556,
              "#d8576b"
             ],
             [
              0.6666666666666666,
              "#ed7953"
             ],
             [
              0.7777777777777778,
              "#fb9f3a"
             ],
             [
              0.8888888888888888,
              "#fdca26"
             ],
             [
              1,
              "#f0f921"
             ]
            ],
            "type": "histogram2dcontour"
           }
          ],
          "mesh3d": [
           {
            "colorbar": {
             "outlinewidth": 0,
             "ticks": ""
            },
            "type": "mesh3d"
           }
          ],
          "parcoords": [
           {
            "line": {
             "colorbar": {
              "outlinewidth": 0,
              "ticks": ""
             }
            },
            "type": "parcoords"
           }
          ],
          "pie": [
           {
            "automargin": true,
            "type": "pie"
           }
          ],
          "scatter": [
           {
            "fillpattern": {
             "fillmode": "overlay",
             "size": 10,
             "solidity": 0.2
            },
            "type": "scatter"
           }
          ],
          "scatter3d": [
           {
            "line": {
             "colorbar": {
              "outlinewidth": 0,
              "ticks": ""
             }
            },
            "marker": {
             "colorbar": {
              "outlinewidth": 0,
              "ticks": ""
             }
            },
            "type": "scatter3d"
           }
          ],
          "scattercarpet": [
           {
            "marker": {
             "colorbar": {
              "outlinewidth": 0,
              "ticks": ""
             }
            },
            "type": "scattercarpet"
           }
          ],
          "scattergeo": [
           {
            "marker": {
             "colorbar": {
              "outlinewidth": 0,
              "ticks": ""
             }
            },
            "type": "scattergeo"
           }
          ],
          "scattergl": [
           {
            "marker": {
             "colorbar": {
              "outlinewidth": 0,
              "ticks": ""
             }
            },
            "type": "scattergl"
           }
          ],
          "scattermapbox": [
           {
            "marker": {
             "colorbar": {
              "outlinewidth": 0,
              "ticks": ""
             }
            },
            "type": "scattermapbox"
           }
          ],
          "scatterpolar": [
           {
            "marker": {
             "colorbar": {
              "outlinewidth": 0,
              "ticks": ""
             }
            },
            "type": "scatterpolar"
           }
          ],
          "scatterpolargl": [
           {
            "marker": {
             "colorbar": {
              "outlinewidth": 0,
              "ticks": ""
             }
            },
            "type": "scatterpolargl"
           }
          ],
          "scatterternary": [
           {
            "marker": {
             "colorbar": {
              "outlinewidth": 0,
              "ticks": ""
             }
            },
            "type": "scatterternary"
           }
          ],
          "surface": [
           {
            "colorbar": {
             "outlinewidth": 0,
             "ticks": ""
            },
            "colorscale": [
             [
              0,
              "#0d0887"
             ],
             [
              0.1111111111111111,
              "#46039f"
             ],
             [
              0.2222222222222222,
              "#7201a8"
             ],
             [
              0.3333333333333333,
              "#9c179e"
             ],
             [
              0.4444444444444444,
              "#bd3786"
             ],
             [
              0.5555555555555556,
              "#d8576b"
             ],
             [
              0.6666666666666666,
              "#ed7953"
             ],
             [
              0.7777777777777778,
              "#fb9f3a"
             ],
             [
              0.8888888888888888,
              "#fdca26"
             ],
             [
              1,
              "#f0f921"
             ]
            ],
            "type": "surface"
           }
          ],
          "table": [
           {
            "cells": {
             "fill": {
              "color": "#EBF0F8"
             },
             "line": {
              "color": "white"
             }
            },
            "header": {
             "fill": {
              "color": "#C8D4E3"
             },
             "line": {
              "color": "white"
             }
            },
            "type": "table"
           }
          ]
         },
         "layout": {
          "annotationdefaults": {
           "arrowcolor": "#2a3f5f",
           "arrowhead": 0,
           "arrowwidth": 1
          },
          "autotypenumbers": "strict",
          "coloraxis": {
           "colorbar": {
            "outlinewidth": 0,
            "ticks": ""
           }
          },
          "colorscale": {
           "diverging": [
            [
             0,
             "#8e0152"
            ],
            [
             0.1,
             "#c51b7d"
            ],
            [
             0.2,
             "#de77ae"
            ],
            [
             0.3,
             "#f1b6da"
            ],
            [
             0.4,
             "#fde0ef"
            ],
            [
             0.5,
             "#f7f7f7"
            ],
            [
             0.6,
             "#e6f5d0"
            ],
            [
             0.7,
             "#b8e186"
            ],
            [
             0.8,
             "#7fbc41"
            ],
            [
             0.9,
             "#4d9221"
            ],
            [
             1,
             "#276419"
            ]
           ],
           "sequential": [
            [
             0,
             "#0d0887"
            ],
            [
             0.1111111111111111,
             "#46039f"
            ],
            [
             0.2222222222222222,
             "#7201a8"
            ],
            [
             0.3333333333333333,
             "#9c179e"
            ],
            [
             0.4444444444444444,
             "#bd3786"
            ],
            [
             0.5555555555555556,
             "#d8576b"
            ],
            [
             0.6666666666666666,
             "#ed7953"
            ],
            [
             0.7777777777777778,
             "#fb9f3a"
            ],
            [
             0.8888888888888888,
             "#fdca26"
            ],
            [
             1,
             "#f0f921"
            ]
           ],
           "sequentialminus": [
            [
             0,
             "#0d0887"
            ],
            [
             0.1111111111111111,
             "#46039f"
            ],
            [
             0.2222222222222222,
             "#7201a8"
            ],
            [
             0.3333333333333333,
             "#9c179e"
            ],
            [
             0.4444444444444444,
             "#bd3786"
            ],
            [
             0.5555555555555556,
             "#d8576b"
            ],
            [
             0.6666666666666666,
             "#ed7953"
            ],
            [
             0.7777777777777778,
             "#fb9f3a"
            ],
            [
             0.8888888888888888,
             "#fdca26"
            ],
            [
             1,
             "#f0f921"
            ]
           ]
          },
          "colorway": [
           "#636efa",
           "#EF553B",
           "#00cc96",
           "#ab63fa",
           "#FFA15A",
           "#19d3f3",
           "#FF6692",
           "#B6E880",
           "#FF97FF",
           "#FECB52"
          ],
          "font": {
           "color": "#2a3f5f"
          },
          "geo": {
           "bgcolor": "white",
           "lakecolor": "white",
           "landcolor": "#E5ECF6",
           "showlakes": true,
           "showland": true,
           "subunitcolor": "white"
          },
          "hoverlabel": {
           "align": "left"
          },
          "hovermode": "closest",
          "mapbox": {
           "style": "light"
          },
          "paper_bgcolor": "white",
          "plot_bgcolor": "#E5ECF6",
          "polar": {
           "angularaxis": {
            "gridcolor": "white",
            "linecolor": "white",
            "ticks": ""
           },
           "bgcolor": "#E5ECF6",
           "radialaxis": {
            "gridcolor": "white",
            "linecolor": "white",
            "ticks": ""
           }
          },
          "scene": {
           "xaxis": {
            "backgroundcolor": "#E5ECF6",
            "gridcolor": "white",
            "gridwidth": 2,
            "linecolor": "white",
            "showbackground": true,
            "ticks": "",
            "zerolinecolor": "white"
           },
           "yaxis": {
            "backgroundcolor": "#E5ECF6",
            "gridcolor": "white",
            "gridwidth": 2,
            "linecolor": "white",
            "showbackground": true,
            "ticks": "",
            "zerolinecolor": "white"
           },
           "zaxis": {
            "backgroundcolor": "#E5ECF6",
            "gridcolor": "white",
            "gridwidth": 2,
            "linecolor": "white",
            "showbackground": true,
            "ticks": "",
            "zerolinecolor": "white"
           }
          },
          "shapedefaults": {
           "line": {
            "color": "#2a3f5f"
           }
          },
          "ternary": {
           "aaxis": {
            "gridcolor": "white",
            "linecolor": "white",
            "ticks": ""
           },
           "baxis": {
            "gridcolor": "white",
            "linecolor": "white",
            "ticks": ""
           },
           "bgcolor": "#E5ECF6",
           "caxis": {
            "gridcolor": "white",
            "linecolor": "white",
            "ticks": ""
           }
          },
          "title": {
           "x": 0.05
          },
          "xaxis": {
           "automargin": true,
           "gridcolor": "white",
           "linecolor": "white",
           "ticks": "",
           "title": {
            "standoff": 15
           },
           "zerolinecolor": "white",
           "zerolinewidth": 2
          },
          "yaxis": {
           "automargin": true,
           "gridcolor": "white",
           "linecolor": "white",
           "ticks": "",
           "title": {
            "standoff": 15
           },
           "zerolinecolor": "white",
           "zerolinewidth": 2
          }
         }
        },
        "title": {
         "font": {
          "color": "black",
          "family": "Times New Roman",
          "size": 22
         },
         "text": "Total Number of complaints with untimely response in each State from 2011 to 2020",
         "x": 0.45
        }
       }
      },
      "text/html": [
       "<div>                            <div id=\"be9e894e-7a1b-43fe-9995-298b3ceaca90\" class=\"plotly-graph-div\" style=\"height:525px; width:100%;\"></div>            <script type=\"text/javascript\">                require([\"plotly\"], function(Plotly) {                    window.PLOTLYENV=window.PLOTLYENV || {};                                    if (document.getElementById(\"be9e894e-7a1b-43fe-9995-298b3ceaca90\")) {                    Plotly.newPlot(                        \"be9e894e-7a1b-43fe-9995-298b3ceaca90\",                        [{\"coloraxis\":\"coloraxis\",\"geo\":\"geo\",\"hovertemplate\":\"state=%{location}<br>Untimely_response_count=%{z}<extra></extra>\",\"locationmode\":\"USA-states\",\"locations\":[\"CA\",\"TX\",\"FL\",\"GA\",\"NY\",\"PA\",\"IL\",\"NJ\",\"OH\",\"VA\",\"WA\",\"NC\",\"TN\",\"\",\"MD\",\"MI\",\"AZ\",\"SC\",\"MO\",\"IN\",\"LA\",\"AL\",\"CO\",\"WI\",\"NV\",\"MA\",\"OK\",\"OR\",\"MN\",\"MS\",\"KY\",\"CT\",\"ME\",\"IA\",\"UT\",\"AR\",\"DE\",\"KS\",\"NE\",\"NM\",\"DC\",\"WV\",\"NH\",\"HI\",\"ID\",\"MT\",\"RI\",\"WY\",\"PR\",\"SD\",\"VT\",\"AK\",\"ND\",\"UNITED STATES MINOR OUTLYING ISLANDS\",\"VI\",\"AE\",\"GU\",\"AP\"],\"name\":\"\",\"z\":[1123,926,910,530,404,340,316,296,285,275,243,235,220,219,208,206,178,169,163,146,138,129,128,112,111,108,96,94,85,78,76,69,69,67,58,54,50,46,43,42,34,34,32,32,31,26,22,22,21,16,13,10,9,2,2,2,1,1],\"type\":\"choropleth\"}],                        {\"template\":{\"data\":{\"histogram2dcontour\":[{\"type\":\"histogram2dcontour\",\"colorbar\":{\"outlinewidth\":0,\"ticks\":\"\"},\"colorscale\":[[0.0,\"#0d0887\"],[0.1111111111111111,\"#46039f\"],[0.2222222222222222,\"#7201a8\"],[0.3333333333333333,\"#9c179e\"],[0.4444444444444444,\"#bd3786\"],[0.5555555555555556,\"#d8576b\"],[0.6666666666666666,\"#ed7953\"],[0.7777777777777778,\"#fb9f3a\"],[0.8888888888888888,\"#fdca26\"],[1.0,\"#f0f921\"]]}],\"choropleth\":[{\"type\":\"choropleth\",\"colorbar\":{\"outlinewidth\":0,\"ticks\":\"\"}}],\"histogram2d\":[{\"type\":\"histogram2d\",\"colorbar\":{\"outlinewidth\":0,\"ticks\":\"\"},\"colorscale\":[[0.0,\"#0d0887\"],[0.1111111111111111,\"#46039f\"],[0.2222222222222222,\"#7201a8\"],[0.3333333333333333,\"#9c179e\"],[0.4444444444444444,\"#bd3786\"],[0.5555555555555556,\"#d8576b\"],[0.6666666666666666,\"#ed7953\"],[0.7777777777777778,\"#fb9f3a\"],[0.8888888888888888,\"#fdca26\"],[1.0,\"#f0f921\"]]}],\"heatmap\":[{\"type\":\"heatmap\",\"colorbar\":{\"outlinewidth\":0,\"ticks\":\"\"},\"colorscale\":[[0.0,\"#0d0887\"],[0.1111111111111111,\"#46039f\"],[0.2222222222222222,\"#7201a8\"],[0.3333333333333333,\"#9c179e\"],[0.4444444444444444,\"#bd3786\"],[0.5555555555555556,\"#d8576b\"],[0.6666666666666666,\"#ed7953\"],[0.7777777777777778,\"#fb9f3a\"],[0.8888888888888888,\"#fdca26\"],[1.0,\"#f0f921\"]]}],\"heatmapgl\":[{\"type\":\"heatmapgl\",\"colorbar\":{\"outlinewidth\":0,\"ticks\":\"\"},\"colorscale\":[[0.0,\"#0d0887\"],[0.1111111111111111,\"#46039f\"],[0.2222222222222222,\"#7201a8\"],[0.3333333333333333,\"#9c179e\"],[0.4444444444444444,\"#bd3786\"],[0.5555555555555556,\"#d8576b\"],[0.6666666666666666,\"#ed7953\"],[0.7777777777777778,\"#fb9f3a\"],[0.8888888888888888,\"#fdca26\"],[1.0,\"#f0f921\"]]}],\"contourcarpet\":[{\"type\":\"contourcarpet\",\"colorbar\":{\"outlinewidth\":0,\"ticks\":\"\"}}],\"contour\":[{\"type\":\"contour\",\"colorbar\":{\"outlinewidth\":0,\"ticks\":\"\"},\"colorscale\":[[0.0,\"#0d0887\"],[0.1111111111111111,\"#46039f\"],[0.2222222222222222,\"#7201a8\"],[0.3333333333333333,\"#9c179e\"],[0.4444444444444444,\"#bd3786\"],[0.5555555555555556,\"#d8576b\"],[0.6666666666666666,\"#ed7953\"],[0.7777777777777778,\"#fb9f3a\"],[0.8888888888888888,\"#fdca26\"],[1.0,\"#f0f921\"]]}],\"surface\":[{\"type\":\"surface\",\"colorbar\":{\"outlinewidth\":0,\"ticks\":\"\"},\"colorscale\":[[0.0,\"#0d0887\"],[0.1111111111111111,\"#46039f\"],[0.2222222222222222,\"#7201a8\"],[0.3333333333333333,\"#9c179e\"],[0.4444444444444444,\"#bd3786\"],[0.5555555555555556,\"#d8576b\"],[0.6666666666666666,\"#ed7953\"],[0.7777777777777778,\"#fb9f3a\"],[0.8888888888888888,\"#fdca26\"],[1.0,\"#f0f921\"]]}],\"mesh3d\":[{\"type\":\"mesh3d\",\"colorbar\":{\"outlinewidth\":0,\"ticks\":\"\"}}],\"scatter\":[{\"fillpattern\":{\"fillmode\":\"overlay\",\"size\":10,\"solidity\":0.2},\"type\":\"scatter\"}],\"parcoords\":[{\"type\":\"parcoords\",\"line\":{\"colorbar\":{\"outlinewidth\":0,\"ticks\":\"\"}}}],\"scatterpolargl\":[{\"type\":\"scatterpolargl\",\"marker\":{\"colorbar\":{\"outlinewidth\":0,\"ticks\":\"\"}}}],\"bar\":[{\"error_x\":{\"color\":\"#2a3f5f\"},\"error_y\":{\"color\":\"#2a3f5f\"},\"marker\":{\"line\":{\"color\":\"#E5ECF6\",\"width\":0.5},\"pattern\":{\"fillmode\":\"overlay\",\"size\":10,\"solidity\":0.2}},\"type\":\"bar\"}],\"scattergeo\":[{\"type\":\"scattergeo\",\"marker\":{\"colorbar\":{\"outlinewidth\":0,\"ticks\":\"\"}}}],\"scatterpolar\":[{\"type\":\"scatterpolar\",\"marker\":{\"colorbar\":{\"outlinewidth\":0,\"ticks\":\"\"}}}],\"histogram\":[{\"marker\":{\"pattern\":{\"fillmode\":\"overlay\",\"size\":10,\"solidity\":0.2}},\"type\":\"histogram\"}],\"scattergl\":[{\"type\":\"scattergl\",\"marker\":{\"colorbar\":{\"outlinewidth\":0,\"ticks\":\"\"}}}],\"scatter3d\":[{\"type\":\"scatter3d\",\"line\":{\"colorbar\":{\"outlinewidth\":0,\"ticks\":\"\"}},\"marker\":{\"colorbar\":{\"outlinewidth\":0,\"ticks\":\"\"}}}],\"scattermapbox\":[{\"type\":\"scattermapbox\",\"marker\":{\"colorbar\":{\"outlinewidth\":0,\"ticks\":\"\"}}}],\"scatterternary\":[{\"type\":\"scatterternary\",\"marker\":{\"colorbar\":{\"outlinewidth\":0,\"ticks\":\"\"}}}],\"scattercarpet\":[{\"type\":\"scattercarpet\",\"marker\":{\"colorbar\":{\"outlinewidth\":0,\"ticks\":\"\"}}}],\"carpet\":[{\"aaxis\":{\"endlinecolor\":\"#2a3f5f\",\"gridcolor\":\"white\",\"linecolor\":\"white\",\"minorgridcolor\":\"white\",\"startlinecolor\":\"#2a3f5f\"},\"baxis\":{\"endlinecolor\":\"#2a3f5f\",\"gridcolor\":\"white\",\"linecolor\":\"white\",\"minorgridcolor\":\"white\",\"startlinecolor\":\"#2a3f5f\"},\"type\":\"carpet\"}],\"table\":[{\"cells\":{\"fill\":{\"color\":\"#EBF0F8\"},\"line\":{\"color\":\"white\"}},\"header\":{\"fill\":{\"color\":\"#C8D4E3\"},\"line\":{\"color\":\"white\"}},\"type\":\"table\"}],\"barpolar\":[{\"marker\":{\"line\":{\"color\":\"#E5ECF6\",\"width\":0.5},\"pattern\":{\"fillmode\":\"overlay\",\"size\":10,\"solidity\":0.2}},\"type\":\"barpolar\"}],\"pie\":[{\"automargin\":true,\"type\":\"pie\"}]},\"layout\":{\"autotypenumbers\":\"strict\",\"colorway\":[\"#636efa\",\"#EF553B\",\"#00cc96\",\"#ab63fa\",\"#FFA15A\",\"#19d3f3\",\"#FF6692\",\"#B6E880\",\"#FF97FF\",\"#FECB52\"],\"font\":{\"color\":\"#2a3f5f\"},\"hovermode\":\"closest\",\"hoverlabel\":{\"align\":\"left\"},\"paper_bgcolor\":\"white\",\"plot_bgcolor\":\"#E5ECF6\",\"polar\":{\"bgcolor\":\"#E5ECF6\",\"angularaxis\":{\"gridcolor\":\"white\",\"linecolor\":\"white\",\"ticks\":\"\"},\"radialaxis\":{\"gridcolor\":\"white\",\"linecolor\":\"white\",\"ticks\":\"\"}},\"ternary\":{\"bgcolor\":\"#E5ECF6\",\"aaxis\":{\"gridcolor\":\"white\",\"linecolor\":\"white\",\"ticks\":\"\"},\"baxis\":{\"gridcolor\":\"white\",\"linecolor\":\"white\",\"ticks\":\"\"},\"caxis\":{\"gridcolor\":\"white\",\"linecolor\":\"white\",\"ticks\":\"\"}},\"coloraxis\":{\"colorbar\":{\"outlinewidth\":0,\"ticks\":\"\"}},\"colorscale\":{\"sequential\":[[0.0,\"#0d0887\"],[0.1111111111111111,\"#46039f\"],[0.2222222222222222,\"#7201a8\"],[0.3333333333333333,\"#9c179e\"],[0.4444444444444444,\"#bd3786\"],[0.5555555555555556,\"#d8576b\"],[0.6666666666666666,\"#ed7953\"],[0.7777777777777778,\"#fb9f3a\"],[0.8888888888888888,\"#fdca26\"],[1.0,\"#f0f921\"]],\"sequentialminus\":[[0.0,\"#0d0887\"],[0.1111111111111111,\"#46039f\"],[0.2222222222222222,\"#7201a8\"],[0.3333333333333333,\"#9c179e\"],[0.4444444444444444,\"#bd3786\"],[0.5555555555555556,\"#d8576b\"],[0.6666666666666666,\"#ed7953\"],[0.7777777777777778,\"#fb9f3a\"],[0.8888888888888888,\"#fdca26\"],[1.0,\"#f0f921\"]],\"diverging\":[[0,\"#8e0152\"],[0.1,\"#c51b7d\"],[0.2,\"#de77ae\"],[0.3,\"#f1b6da\"],[0.4,\"#fde0ef\"],[0.5,\"#f7f7f7\"],[0.6,\"#e6f5d0\"],[0.7,\"#b8e186\"],[0.8,\"#7fbc41\"],[0.9,\"#4d9221\"],[1,\"#276419\"]]},\"xaxis\":{\"gridcolor\":\"white\",\"linecolor\":\"white\",\"ticks\":\"\",\"title\":{\"standoff\":15},\"zerolinecolor\":\"white\",\"automargin\":true,\"zerolinewidth\":2},\"yaxis\":{\"gridcolor\":\"white\",\"linecolor\":\"white\",\"ticks\":\"\",\"title\":{\"standoff\":15},\"zerolinecolor\":\"white\",\"automargin\":true,\"zerolinewidth\":2},\"scene\":{\"xaxis\":{\"backgroundcolor\":\"#E5ECF6\",\"gridcolor\":\"white\",\"linecolor\":\"white\",\"showbackground\":true,\"ticks\":\"\",\"zerolinecolor\":\"white\",\"gridwidth\":2},\"yaxis\":{\"backgroundcolor\":\"#E5ECF6\",\"gridcolor\":\"white\",\"linecolor\":\"white\",\"showbackground\":true,\"ticks\":\"\",\"zerolinecolor\":\"white\",\"gridwidth\":2},\"zaxis\":{\"backgroundcolor\":\"#E5ECF6\",\"gridcolor\":\"white\",\"linecolor\":\"white\",\"showbackground\":true,\"ticks\":\"\",\"zerolinecolor\":\"white\",\"gridwidth\":2}},\"shapedefaults\":{\"line\":{\"color\":\"#2a3f5f\"}},\"annotationdefaults\":{\"arrowcolor\":\"#2a3f5f\",\"arrowhead\":0,\"arrowwidth\":1},\"geo\":{\"bgcolor\":\"white\",\"landcolor\":\"#E5ECF6\",\"subunitcolor\":\"white\",\"showland\":true,\"showlakes\":true,\"lakecolor\":\"white\"},\"title\":{\"x\":0.05},\"mapbox\":{\"style\":\"light\"}}},\"geo\":{\"domain\":{\"x\":[0.0,1.0],\"y\":[0.0,1.0]},\"center\":{},\"scope\":\"usa\"},\"coloraxis\":{\"colorbar\":{\"title\":{\"text\":\"Untimely_response_count\"}},\"colorscale\":[[0.0,\"#fde725\"],[0.1111111111111111,\"#b5de2b\"],[0.2222222222222222,\"#6ece58\"],[0.3333333333333333,\"#35b779\"],[0.4444444444444444,\"#1f9e89\"],[0.5555555555555556,\"#26828e\"],[0.6666666666666666,\"#31688e\"],[0.7777777777777778,\"#3e4989\"],[0.8888888888888888,\"#482878\"],[1.0,\"#440154\"]]},\"legend\":{\"tracegroupgap\":0},\"margin\":{\"t\":60},\"title\":{\"font\":{\"family\":\"Times New Roman\",\"size\":22,\"color\":\"black\"},\"text\":\"Total Number of complaints with untimely response in each State from 2011 to 2020\",\"x\":0.45}},                        {\"responsive\": true}                    ).then(function(){\n",
       "                            \n",
       "var gd = document.getElementById('be9e894e-7a1b-43fe-9995-298b3ceaca90');\n",
       "var x = new MutationObserver(function (mutations, observer) {{\n",
       "        var display = window.getComputedStyle(gd).display;\n",
       "        if (!display || display === 'none') {{\n",
       "            console.log([gd, 'removed!']);\n",
       "            Plotly.purge(gd);\n",
       "            observer.disconnect();\n",
       "        }}\n",
       "}});\n",
       "\n",
       "// Listen for the removal of the full notebook cells\n",
       "var notebookContainer = gd.closest('#notebook-container');\n",
       "if (notebookContainer) {{\n",
       "    x.observe(notebookContainer, {childList: true});\n",
       "}}\n",
       "\n",
       "// Listen for the clearing of the current output cell\n",
       "var outputEl = gd.closest('.output');\n",
       "if (outputEl) {{\n",
       "    x.observe(outputEl, {childList: true});\n",
       "}}\n",
       "\n",
       "                        })                };                });            </script>        </div>"
      ]
     },
     "metadata": {},
     "output_type": "display_data"
    }
   ],
   "source": [
    "\n",
    "fig = px.choropleth(untimely_response_count_per_state.toPandas(),\n",
    "                    locations='state', \n",
    "                    locationmode=\"USA-states\", \n",
    "                    scope=\"usa\",\n",
    "                    color='Untimely_response_count',\n",
    "                    color_continuous_scale=\"Viridis_r\", \n",
    "                   )\n",
    "\n",
    "fig.update_layout(\n",
    "      title_text = 'Total Number of complaints with untimely response in each State from 2011 to 2020',\n",
    "      title_font_family=\"Times New Roman\",\n",
    "      title_font_size = 22,\n",
    "      title_font_color=\"black\", \n",
    "      title_x=0.45, \n",
    "         )\n",
    "\n",
    "\n",
    "fig.show()"
   ]
  },
  {
   "cell_type": "code",
   "execution_count": 100,
   "id": "e1997319",
   "metadata": {},
   "outputs": [
    {
     "name": "stderr",
     "output_type": "stream",
     "text": [
      "\r",
      "[Stage 197:>                                                        (0 + 1) / 1]\r"
     ]
    },
    {
     "name": "stdout",
     "output_type": "stream",
     "text": [
      "+--------------------------------------------------------------------------------+-----------------------+\n",
      "|issue                                                                           |Untimely_response_count|\n",
      "+--------------------------------------------------------------------------------+-----------------------+\n",
      "|Attempts to collect debt not owed                                               |1048                   |\n",
      "|Incorrect information on your report                                            |837                    |\n",
      "|Communication tactics                                                           |825                    |\n",
      "|Took or threatened to take negative or legal action                             |664                    |\n",
      "|Cont'd attempts collect debt not owed                                           |598                    |\n",
      "|False statements or representation                                              |500                    |\n",
      "|Written notification about debt                                                 |492                    |\n",
      "|Dealing with your lender or servicer                                            |350                    |\n",
      "|Taking/threatening an illegal action                                            |288                    |\n",
      "|Problem with a credit reporting company's investigation into an existing problem|273                    |\n",
      "|Disclosure verification of debt                                                 |265                    |\n",
      "|Improper use of your report                                                     |261                    |\n",
      "|Loan modification,collection,foreclosure                                        |203                    |\n",
      "|Fraud or scam                                                                   |162                    |\n",
      "|Threatened to contact someone or share information improperly                   |157                    |\n",
      "|Improper contact or sharing of info                                             |150                    |\n",
      "|Managing the loan or lease                                                      |133                    |\n",
      "|Trouble during payment process                                                  |129                    |\n",
      "|Charged fees or interest I didn't expect                                        |122                    |\n",
      "|Loan servicing, payments, escrow account                                        |120                    |\n",
      "+--------------------------------------------------------------------------------+-----------------------+\n",
      "only showing top 20 rows\n",
      "\n"
     ]
    },
    {
     "name": "stderr",
     "output_type": "stream",
     "text": [
      "\r",
      "                                                                                \r"
     ]
    }
   ],
   "source": [
    "complaints_df.filter(complaints_df['company_response'] == 'Untimely response') \\\n",
    "            .groupBy(\"issue\")\\\n",
    "            .agg(count(\"*\").alias(\"Untimely_response_count\"))\\\n",
    "            .sort(desc(\"Untimely_response_count\")).show(truncate=False)"
   ]
  },
  {
   "cell_type": "code",
   "execution_count": 104,
   "id": "00b72808",
   "metadata": {},
   "outputs": [
    {
     "name": "stderr",
     "output_type": "stream",
     "text": [
      "\r",
      "[Stage 203:>                                                        (0 + 1) / 1]\r"
     ]
    },
    {
     "name": "stdout",
     "output_type": "stream",
     "text": [
      "+--------------------+----------------+\n",
      "|                tags|complaints_count|\n",
      "+--------------------+----------------+\n",
      "|                    |         2774235|\n",
      "|       Servicemember|          196522|\n",
      "|      Older American|          127170|\n",
      "|Older American, S...|           29849|\n",
      "+--------------------+----------------+\n",
      "\n"
     ]
    },
    {
     "name": "stderr",
     "output_type": "stream",
     "text": [
      "\r",
      "                                                                                \r"
     ]
    }
   ],
   "source": [
    "complaints_df.groupBy('tags').agg(count(\"*\").alias(\"complaints_count\")).sort(desc(\"complaints_count\")).show()"
   ]
  },
  {
   "cell_type": "code",
   "execution_count": null,
   "id": "add2941a",
   "metadata": {},
   "outputs": [],
   "source": [
    "spark.stop()"
   ]
  }
 ],
 "metadata": {
  "kernelspec": {
   "display_name": "Python 3 (ipykernel)",
   "language": "python",
   "name": "python3"
  },
  "language_info": {
   "codemirror_mode": {
    "name": "ipython",
    "version": 3
   },
   "file_extension": ".py",
   "mimetype": "text/x-python",
   "name": "python",
   "nbconvert_exporter": "python",
   "pygments_lexer": "ipython3",
   "version": "3.9.13"
  }
 },
 "nbformat": 4,
 "nbformat_minor": 5
}
